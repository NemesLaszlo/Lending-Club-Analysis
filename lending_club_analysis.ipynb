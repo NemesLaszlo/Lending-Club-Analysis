{
  "cells": [
    {
      "cell_type": "markdown",
      "metadata": {
        "id": "10bsEDsrRhZp"
      },
      "source": [
        "# Keras API Project Exercise - Solutions\n",
        "\n",
        "## The Data\n",
        "\n",
        "Subset of the LendingClub DataSet obtained from Kaggle: https://www.kaggle.com/wordsforthewise/lending-club\n",
        "\n",
        "LendingClub is a US peer-to-peer lending company, headquartered in San Francisco, California. It was the first peer-to-peer lender to register its offerings as securities with the Securities and Exchange Commission (SEC), and to offer loan trading on a secondary market. LendingClub is the world's largest peer-to-peer lending platform.\n",
        "\n",
        "### Goal\n",
        "\n",
        "Given historical data on loans given out with information on whether or not the borrower defaulted (charge-off), can we build a model that can predict whether or nor a borrower will pay back their loan? \n",
        "\n",
        "This way in the future when we get a new potential customer we can assess whether or not they are likely to pay back the loan.\n",
        "\n",
        "( The \"loan_status\" column contains our label. )\n",
        "\n",
        "### Data Overview"
      ]
    },
    {
      "cell_type": "markdown",
      "metadata": {
        "id": "tO7ceC3YRhZr"
      },
      "source": [
        "----\n",
        "-----\n",
        "There are many LendingClub data sets on Kaggle. Here is the information on this particular data set:\n",
        "\n",
        "<table border=\"1\" class=\"dataframe\">\n",
        "  <thead>\n",
        "    <tr style=\"text-align: right;\">\n",
        "      <th></th>\n",
        "      <th>LoanStatNew</th>\n",
        "      <th>Description</th>\n",
        "    </tr>\n",
        "  </thead>\n",
        "  <tbody>\n",
        "    <tr>\n",
        "      <th>0</th>\n",
        "      <td>loan_amnt</td>\n",
        "      <td>The listed amount of the loan applied for by the borrower. If at some point in time, the credit department reduces the loan amount, then it will be reflected in this value.</td>\n",
        "    </tr>\n",
        "    <tr>\n",
        "      <th>1</th>\n",
        "      <td>term</td>\n",
        "      <td>The number of payments on the loan. Values are in months and can be either 36 or 60.</td>\n",
        "    </tr>\n",
        "    <tr>\n",
        "      <th>2</th>\n",
        "      <td>int_rate</td>\n",
        "      <td>Interest Rate on the loan</td>\n",
        "    </tr>\n",
        "    <tr>\n",
        "      <th>3</th>\n",
        "      <td>installment</td>\n",
        "      <td>The monthly payment owed by the borrower if the loan originates.</td>\n",
        "    </tr>\n",
        "    <tr>\n",
        "      <th>4</th>\n",
        "      <td>grade</td>\n",
        "      <td>LC assigned loan grade</td>\n",
        "    </tr>\n",
        "    <tr>\n",
        "      <th>5</th>\n",
        "      <td>sub_grade</td>\n",
        "      <td>LC assigned loan subgrade</td>\n",
        "    </tr>\n",
        "    <tr>\n",
        "      <th>6</th>\n",
        "      <td>emp_title</td>\n",
        "      <td>The job title supplied by the Borrower when applying for the loan.*</td>\n",
        "    </tr>\n",
        "    <tr>\n",
        "      <th>7</th>\n",
        "      <td>emp_length</td>\n",
        "      <td>Employment length in years. Possible values are between 0 and 10 where 0 means less than one year and 10 means ten or more years.</td>\n",
        "    </tr>\n",
        "    <tr>\n",
        "      <th>8</th>\n",
        "      <td>home_ownership</td>\n",
        "      <td>The home ownership status provided by the borrower during registration or obtained from the credit report. Our values are: RENT, OWN, MORTGAGE, OTHER</td>\n",
        "    </tr>\n",
        "    <tr>\n",
        "      <th>9</th>\n",
        "      <td>annual_inc</td>\n",
        "      <td>The self-reported annual income provided by the borrower during registration.</td>\n",
        "    </tr>\n",
        "    <tr>\n",
        "      <th>10</th>\n",
        "      <td>verification_status</td>\n",
        "      <td>Indicates if income was verified by LC, not verified, or if the income source was verified</td>\n",
        "    </tr>\n",
        "    <tr>\n",
        "      <th>11</th>\n",
        "      <td>issue_d</td>\n",
        "      <td>The month which the loan was funded</td>\n",
        "    </tr>\n",
        "    <tr>\n",
        "      <th>12</th>\n",
        "      <td>loan_status</td>\n",
        "      <td>Current status of the loan</td>\n",
        "    </tr>\n",
        "    <tr>\n",
        "      <th>13</th>\n",
        "      <td>purpose</td>\n",
        "      <td>A category provided by the borrower for the loan request.</td>\n",
        "    </tr>\n",
        "    <tr>\n",
        "      <th>14</th>\n",
        "      <td>title</td>\n",
        "      <td>The loan title provided by the borrower</td>\n",
        "    </tr>\n",
        "    <tr>\n",
        "      <th>15</th>\n",
        "      <td>zip_code</td>\n",
        "      <td>The first 3 numbers of the zip code provided by the borrower in the loan application.</td>\n",
        "    </tr>\n",
        "    <tr>\n",
        "      <th>16</th>\n",
        "      <td>addr_state</td>\n",
        "      <td>The state provided by the borrower in the loan application</td>\n",
        "    </tr>\n",
        "    <tr>\n",
        "      <th>17</th>\n",
        "      <td>dti</td>\n",
        "      <td>A ratio calculated using the borrower’s total monthly debt payments on the total debt obligations, excluding mortgage and the requested LC loan, divided by the borrower’s self-reported monthly income.</td>\n",
        "    </tr>\n",
        "    <tr>\n",
        "      <th>18</th>\n",
        "      <td>earliest_cr_line</td>\n",
        "      <td>The month the borrower's earliest reported credit line was opened</td>\n",
        "    </tr>\n",
        "    <tr>\n",
        "      <th>19</th>\n",
        "      <td>open_acc</td>\n",
        "      <td>The number of open credit lines in the borrower's credit file.</td>\n",
        "    </tr>\n",
        "    <tr>\n",
        "      <th>20</th>\n",
        "      <td>pub_rec</td>\n",
        "      <td>Number of derogatory public records</td>\n",
        "    </tr>\n",
        "    <tr>\n",
        "      <th>21</th>\n",
        "      <td>revol_bal</td>\n",
        "      <td>Total credit revolving balance</td>\n",
        "    </tr>\n",
        "    <tr>\n",
        "      <th>22</th>\n",
        "      <td>revol_util</td>\n",
        "      <td>Revolving line utilization rate, or the amount of credit the borrower is using relative to all available revolving credit.</td>\n",
        "    </tr>\n",
        "    <tr>\n",
        "      <th>23</th>\n",
        "      <td>total_acc</td>\n",
        "      <td>The total number of credit lines currently in the borrower's credit file</td>\n",
        "    </tr>\n",
        "    <tr>\n",
        "      <th>24</th>\n",
        "      <td>initial_list_status</td>\n",
        "      <td>The initial listing status of the loan. Possible values are – W, F</td>\n",
        "    </tr>\n",
        "    <tr>\n",
        "      <th>25</th>\n",
        "      <td>application_type</td>\n",
        "      <td>Indicates whether the loan is an individual application or a joint application with two co-borrowers</td>\n",
        "    </tr>\n",
        "    <tr>\n",
        "      <th>26</th>\n",
        "      <td>mort_acc</td>\n",
        "      <td>Number of mortgage accounts.</td>\n",
        "    </tr>\n",
        "    <tr>\n",
        "      <th>27</th>\n",
        "      <td>pub_rec_bankruptcies</td>\n",
        "      <td>Number of public record bankruptcies</td>\n",
        "    </tr>\n",
        "  </tbody>\n",
        "</table>\n",
        "\n",
        "---\n",
        "----"
      ]
    },
    {
      "cell_type": "markdown",
      "metadata": {
        "id": "Dk8BhuFZRhZu"
      },
      "source": [
        "## Starter Code\n",
        "\n",
        "#### Note: We also provide feature information on the data as a .csv file for easy lookup throughout the notebook:"
      ]
    },
    {
      "cell_type": "code",
      "execution_count": null,
      "metadata": {
        "id": "4TIoLxO0Tk-g"
      },
      "outputs": [],
      "source": [
        "!pip install --upgrade matplotlib"
      ]
    },
    {
      "cell_type": "code",
      "execution_count": 2,
      "metadata": {
        "id": "atfJt4NtRhZv"
      },
      "outputs": [],
      "source": [
        "import pandas as pd"
      ]
    },
    {
      "cell_type": "code",
      "execution_count": 3,
      "metadata": {
        "id": "lEiVYT3ARhZx"
      },
      "outputs": [],
      "source": [
        "data_info = pd.read_csv('lending_club_info.csv',index_col='LoanStatNew')"
      ]
    },
    {
      "cell_type": "code",
      "execution_count": 4,
      "metadata": {
        "colab": {
          "base_uri": "https://localhost:8080/"
        },
        "id": "2-p9op2vRhZy",
        "outputId": "b6267435-f661-43d5-d38b-a6df6e9222a8"
      },
      "outputs": [
        {
          "name": "stdout",
          "output_type": "stream",
          "text": [
            "Revolving line utilization rate, or the amount of credit the borrower is using relative to all available revolving credit.\n"
          ]
        }
      ],
      "source": [
        "print(data_info.loc['revol_util']['Description'])"
      ]
    },
    {
      "cell_type": "code",
      "execution_count": 5,
      "metadata": {
        "id": "RRZs-aSlRhZz"
      },
      "outputs": [],
      "source": [
        "def feat_info(col_name):\n",
        "    print(data_info.loc[col_name]['Description'])"
      ]
    },
    {
      "cell_type": "code",
      "execution_count": 6,
      "metadata": {
        "colab": {
          "base_uri": "https://localhost:8080/"
        },
        "id": "LiC4i5TiRhZ0",
        "outputId": "3ed387b7-b07e-4b59-9d83-8f0b7579ea45"
      },
      "outputs": [
        {
          "name": "stdout",
          "output_type": "stream",
          "text": [
            "Number of mortgage accounts.\n"
          ]
        }
      ],
      "source": [
        "feat_info('mort_acc')"
      ]
    },
    {
      "cell_type": "markdown",
      "metadata": {
        "id": "mI5mSQJFRhZ1"
      },
      "source": [
        "## Loading the data and other imports"
      ]
    },
    {
      "cell_type": "code",
      "execution_count": 7,
      "metadata": {
        "id": "KTvyWN5mRhZ3"
      },
      "outputs": [],
      "source": [
        "import pandas as pd\n",
        "import numpy as np\n",
        "import matplotlib.pyplot as plt\n",
        "import seaborn as sns\n",
        "\n",
        "# might be needed depending on your version of Jupyter\n",
        "%matplotlib inline"
      ]
    },
    {
      "cell_type": "code",
      "execution_count": 8,
      "metadata": {
        "id": "cpe2ZZ9nRhZ4"
      },
      "outputs": [],
      "source": [
        "df = pd.read_csv('lending_club_loan_two.csv')"
      ]
    },
    {
      "cell_type": "code",
      "execution_count": 9,
      "metadata": {
        "colab": {
          "base_uri": "https://localhost:8080/"
        },
        "id": "-AVcdPHBRhZ4",
        "outputId": "19491872-5c31-43e4-d8e9-bd1d69914e86"
      },
      "outputs": [
        {
          "name": "stdout",
          "output_type": "stream",
          "text": [
            "<class 'pandas.core.frame.DataFrame'>\n",
            "RangeIndex: 396030 entries, 0 to 396029\n",
            "Data columns (total 27 columns):\n",
            " #   Column                Non-Null Count   Dtype  \n",
            "---  ------                --------------   -----  \n",
            " 0   loan_amnt             396030 non-null  float64\n",
            " 1   term                  396030 non-null  object \n",
            " 2   int_rate              396030 non-null  float64\n",
            " 3   installment           396030 non-null  float64\n",
            " 4   grade                 396030 non-null  object \n",
            " 5   sub_grade             396030 non-null  object \n",
            " 6   emp_title             373103 non-null  object \n",
            " 7   emp_length            377729 non-null  object \n",
            " 8   home_ownership        396030 non-null  object \n",
            " 9   annual_inc            396030 non-null  float64\n",
            " 10  verification_status   396030 non-null  object \n",
            " 11  issue_d               396030 non-null  object \n",
            " 12  loan_status           396030 non-null  object \n",
            " 13  purpose               396030 non-null  object \n",
            " 14  title                 394275 non-null  object \n",
            " 15  dti                   396030 non-null  float64\n",
            " 16  earliest_cr_line      396030 non-null  object \n",
            " 17  open_acc              396030 non-null  float64\n",
            " 18  pub_rec               396030 non-null  float64\n",
            " 19  revol_bal             396030 non-null  float64\n",
            " 20  revol_util            395754 non-null  float64\n",
            " 21  total_acc             396030 non-null  float64\n",
            " 22  initial_list_status   396030 non-null  object \n",
            " 23  application_type      396030 non-null  object \n",
            " 24  mort_acc              358235 non-null  float64\n",
            " 25  pub_rec_bankruptcies  395495 non-null  float64\n",
            " 26  address               396030 non-null  object \n",
            "dtypes: float64(12), object(15)\n",
            "memory usage: 81.6+ MB\n"
          ]
        }
      ],
      "source": [
        "df.info()"
      ]
    },
    {
      "cell_type": "code",
      "execution_count": 10,
      "metadata": {
        "colab": {
          "base_uri": "https://localhost:8080/",
          "height": 444
        },
        "id": "V2cTJ39ZVfzH",
        "outputId": "bd249c29-8b5f-42f8-aa74-6a67e3c6f078"
      },
      "outputs": [
        {
          "data": {
            "text/html": [
              "\n",
              "  <div id=\"df-8b13dbb5-9620-4cf5-a86e-044ec8d6ad1c\">\n",
              "    <div class=\"colab-df-container\">\n",
              "      <div>\n",
              "<style scoped>\n",
              "    .dataframe tbody tr th:only-of-type {\n",
              "        vertical-align: middle;\n",
              "    }\n",
              "\n",
              "    .dataframe tbody tr th {\n",
              "        vertical-align: top;\n",
              "    }\n",
              "\n",
              "    .dataframe thead th {\n",
              "        text-align: right;\n",
              "    }\n",
              "</style>\n",
              "<table border=\"1\" class=\"dataframe\">\n",
              "  <thead>\n",
              "    <tr style=\"text-align: right;\">\n",
              "      <th></th>\n",
              "      <th>loan_amnt</th>\n",
              "      <th>term</th>\n",
              "      <th>int_rate</th>\n",
              "      <th>installment</th>\n",
              "      <th>grade</th>\n",
              "      <th>sub_grade</th>\n",
              "      <th>emp_title</th>\n",
              "      <th>emp_length</th>\n",
              "      <th>home_ownership</th>\n",
              "      <th>annual_inc</th>\n",
              "      <th>verification_status</th>\n",
              "      <th>issue_d</th>\n",
              "      <th>loan_status</th>\n",
              "      <th>purpose</th>\n",
              "      <th>title</th>\n",
              "      <th>dti</th>\n",
              "      <th>earliest_cr_line</th>\n",
              "      <th>open_acc</th>\n",
              "      <th>pub_rec</th>\n",
              "      <th>revol_bal</th>\n",
              "      <th>revol_util</th>\n",
              "      <th>total_acc</th>\n",
              "      <th>initial_list_status</th>\n",
              "      <th>application_type</th>\n",
              "      <th>mort_acc</th>\n",
              "      <th>pub_rec_bankruptcies</th>\n",
              "      <th>address</th>\n",
              "    </tr>\n",
              "  </thead>\n",
              "  <tbody>\n",
              "    <tr>\n",
              "      <th>0</th>\n",
              "      <td>10000.0</td>\n",
              "      <td>36 months</td>\n",
              "      <td>11.44</td>\n",
              "      <td>329.48</td>\n",
              "      <td>B</td>\n",
              "      <td>B4</td>\n",
              "      <td>Marketing</td>\n",
              "      <td>10+ years</td>\n",
              "      <td>RENT</td>\n",
              "      <td>117000.0</td>\n",
              "      <td>Not Verified</td>\n",
              "      <td>Jan-2015</td>\n",
              "      <td>Fully Paid</td>\n",
              "      <td>vacation</td>\n",
              "      <td>Vacation</td>\n",
              "      <td>26.24</td>\n",
              "      <td>Jun-1990</td>\n",
              "      <td>16.0</td>\n",
              "      <td>0.0</td>\n",
              "      <td>36369.0</td>\n",
              "      <td>41.8</td>\n",
              "      <td>25.0</td>\n",
              "      <td>w</td>\n",
              "      <td>INDIVIDUAL</td>\n",
              "      <td>0.0</td>\n",
              "      <td>0.0</td>\n",
              "      <td>0174 Michelle Gateway\\nMendozaberg, OK 22690</td>\n",
              "    </tr>\n",
              "    <tr>\n",
              "      <th>1</th>\n",
              "      <td>8000.0</td>\n",
              "      <td>36 months</td>\n",
              "      <td>11.99</td>\n",
              "      <td>265.68</td>\n",
              "      <td>B</td>\n",
              "      <td>B5</td>\n",
              "      <td>Credit analyst</td>\n",
              "      <td>4 years</td>\n",
              "      <td>MORTGAGE</td>\n",
              "      <td>65000.0</td>\n",
              "      <td>Not Verified</td>\n",
              "      <td>Jan-2015</td>\n",
              "      <td>Fully Paid</td>\n",
              "      <td>debt_consolidation</td>\n",
              "      <td>Debt consolidation</td>\n",
              "      <td>22.05</td>\n",
              "      <td>Jul-2004</td>\n",
              "      <td>17.0</td>\n",
              "      <td>0.0</td>\n",
              "      <td>20131.0</td>\n",
              "      <td>53.3</td>\n",
              "      <td>27.0</td>\n",
              "      <td>f</td>\n",
              "      <td>INDIVIDUAL</td>\n",
              "      <td>3.0</td>\n",
              "      <td>0.0</td>\n",
              "      <td>1076 Carney Fort Apt. 347\\nLoganmouth, SD 05113</td>\n",
              "    </tr>\n",
              "    <tr>\n",
              "      <th>2</th>\n",
              "      <td>15600.0</td>\n",
              "      <td>36 months</td>\n",
              "      <td>10.49</td>\n",
              "      <td>506.97</td>\n",
              "      <td>B</td>\n",
              "      <td>B3</td>\n",
              "      <td>Statistician</td>\n",
              "      <td>&lt; 1 year</td>\n",
              "      <td>RENT</td>\n",
              "      <td>43057.0</td>\n",
              "      <td>Source Verified</td>\n",
              "      <td>Jan-2015</td>\n",
              "      <td>Fully Paid</td>\n",
              "      <td>credit_card</td>\n",
              "      <td>Credit card refinancing</td>\n",
              "      <td>12.79</td>\n",
              "      <td>Aug-2007</td>\n",
              "      <td>13.0</td>\n",
              "      <td>0.0</td>\n",
              "      <td>11987.0</td>\n",
              "      <td>92.2</td>\n",
              "      <td>26.0</td>\n",
              "      <td>f</td>\n",
              "      <td>INDIVIDUAL</td>\n",
              "      <td>0.0</td>\n",
              "      <td>0.0</td>\n",
              "      <td>87025 Mark Dale Apt. 269\\nNew Sabrina, WV 05113</td>\n",
              "    </tr>\n",
              "    <tr>\n",
              "      <th>3</th>\n",
              "      <td>7200.0</td>\n",
              "      <td>36 months</td>\n",
              "      <td>6.49</td>\n",
              "      <td>220.65</td>\n",
              "      <td>A</td>\n",
              "      <td>A2</td>\n",
              "      <td>Client Advocate</td>\n",
              "      <td>6 years</td>\n",
              "      <td>RENT</td>\n",
              "      <td>54000.0</td>\n",
              "      <td>Not Verified</td>\n",
              "      <td>Nov-2014</td>\n",
              "      <td>Fully Paid</td>\n",
              "      <td>credit_card</td>\n",
              "      <td>Credit card refinancing</td>\n",
              "      <td>2.60</td>\n",
              "      <td>Sep-2006</td>\n",
              "      <td>6.0</td>\n",
              "      <td>0.0</td>\n",
              "      <td>5472.0</td>\n",
              "      <td>21.5</td>\n",
              "      <td>13.0</td>\n",
              "      <td>f</td>\n",
              "      <td>INDIVIDUAL</td>\n",
              "      <td>0.0</td>\n",
              "      <td>0.0</td>\n",
              "      <td>823 Reid Ford\\nDelacruzside, MA 00813</td>\n",
              "    </tr>\n",
              "    <tr>\n",
              "      <th>4</th>\n",
              "      <td>24375.0</td>\n",
              "      <td>60 months</td>\n",
              "      <td>17.27</td>\n",
              "      <td>609.33</td>\n",
              "      <td>C</td>\n",
              "      <td>C5</td>\n",
              "      <td>Destiny Management Inc.</td>\n",
              "      <td>9 years</td>\n",
              "      <td>MORTGAGE</td>\n",
              "      <td>55000.0</td>\n",
              "      <td>Verified</td>\n",
              "      <td>Apr-2013</td>\n",
              "      <td>Charged Off</td>\n",
              "      <td>credit_card</td>\n",
              "      <td>Credit Card Refinance</td>\n",
              "      <td>33.95</td>\n",
              "      <td>Mar-1999</td>\n",
              "      <td>13.0</td>\n",
              "      <td>0.0</td>\n",
              "      <td>24584.0</td>\n",
              "      <td>69.8</td>\n",
              "      <td>43.0</td>\n",
              "      <td>f</td>\n",
              "      <td>INDIVIDUAL</td>\n",
              "      <td>1.0</td>\n",
              "      <td>0.0</td>\n",
              "      <td>679 Luna Roads\\nGreggshire, VA 11650</td>\n",
              "    </tr>\n",
              "  </tbody>\n",
              "</table>\n",
              "</div>\n",
              "      <button class=\"colab-df-convert\" onclick=\"convertToInteractive('df-8b13dbb5-9620-4cf5-a86e-044ec8d6ad1c')\"\n",
              "              title=\"Convert this dataframe to an interactive table.\"\n",
              "              style=\"display:none;\">\n",
              "        \n",
              "  <svg xmlns=\"http://www.w3.org/2000/svg\" height=\"24px\"viewBox=\"0 0 24 24\"\n",
              "       width=\"24px\">\n",
              "    <path d=\"M0 0h24v24H0V0z\" fill=\"none\"/>\n",
              "    <path d=\"M18.56 5.44l.94 2.06.94-2.06 2.06-.94-2.06-.94-.94-2.06-.94 2.06-2.06.94zm-11 1L8.5 8.5l.94-2.06 2.06-.94-2.06-.94L8.5 2.5l-.94 2.06-2.06.94zm10 10l.94 2.06.94-2.06 2.06-.94-2.06-.94-.94-2.06-.94 2.06-2.06.94z\"/><path d=\"M17.41 7.96l-1.37-1.37c-.4-.4-.92-.59-1.43-.59-.52 0-1.04.2-1.43.59L10.3 9.45l-7.72 7.72c-.78.78-.78 2.05 0 2.83L4 21.41c.39.39.9.59 1.41.59.51 0 1.02-.2 1.41-.59l7.78-7.78 2.81-2.81c.8-.78.8-2.07 0-2.86zM5.41 20L4 18.59l7.72-7.72 1.47 1.35L5.41 20z\"/>\n",
              "  </svg>\n",
              "      </button>\n",
              "      \n",
              "  <style>\n",
              "    .colab-df-container {\n",
              "      display:flex;\n",
              "      flex-wrap:wrap;\n",
              "      gap: 12px;\n",
              "    }\n",
              "\n",
              "    .colab-df-convert {\n",
              "      background-color: #E8F0FE;\n",
              "      border: none;\n",
              "      border-radius: 50%;\n",
              "      cursor: pointer;\n",
              "      display: none;\n",
              "      fill: #1967D2;\n",
              "      height: 32px;\n",
              "      padding: 0 0 0 0;\n",
              "      width: 32px;\n",
              "    }\n",
              "\n",
              "    .colab-df-convert:hover {\n",
              "      background-color: #E2EBFA;\n",
              "      box-shadow: 0px 1px 2px rgba(60, 64, 67, 0.3), 0px 1px 3px 1px rgba(60, 64, 67, 0.15);\n",
              "      fill: #174EA6;\n",
              "    }\n",
              "\n",
              "    [theme=dark] .colab-df-convert {\n",
              "      background-color: #3B4455;\n",
              "      fill: #D2E3FC;\n",
              "    }\n",
              "\n",
              "    [theme=dark] .colab-df-convert:hover {\n",
              "      background-color: #434B5C;\n",
              "      box-shadow: 0px 1px 3px 1px rgba(0, 0, 0, 0.15);\n",
              "      filter: drop-shadow(0px 1px 2px rgba(0, 0, 0, 0.3));\n",
              "      fill: #FFFFFF;\n",
              "    }\n",
              "  </style>\n",
              "\n",
              "      <script>\n",
              "        const buttonEl =\n",
              "          document.querySelector('#df-8b13dbb5-9620-4cf5-a86e-044ec8d6ad1c button.colab-df-convert');\n",
              "        buttonEl.style.display =\n",
              "          google.colab.kernel.accessAllowed ? 'block' : 'none';\n",
              "\n",
              "        async function convertToInteractive(key) {\n",
              "          const element = document.querySelector('#df-8b13dbb5-9620-4cf5-a86e-044ec8d6ad1c');\n",
              "          const dataTable =\n",
              "            await google.colab.kernel.invokeFunction('convertToInteractive',\n",
              "                                                     [key], {});\n",
              "          if (!dataTable) return;\n",
              "\n",
              "          const docLinkHtml = 'Like what you see? Visit the ' +\n",
              "            '<a target=\"_blank\" href=https://colab.research.google.com/notebooks/data_table.ipynb>data table notebook</a>'\n",
              "            + ' to learn more about interactive tables.';\n",
              "          element.innerHTML = '';\n",
              "          dataTable['output_type'] = 'display_data';\n",
              "          await google.colab.output.renderOutput(dataTable, element);\n",
              "          const docLink = document.createElement('div');\n",
              "          docLink.innerHTML = docLinkHtml;\n",
              "          element.appendChild(docLink);\n",
              "        }\n",
              "      </script>\n",
              "    </div>\n",
              "  </div>\n",
              "  "
            ],
            "text/plain": [
              "   loan_amnt  ...                                          address\n",
              "0    10000.0  ...     0174 Michelle Gateway\\nMendozaberg, OK 22690\n",
              "1     8000.0  ...  1076 Carney Fort Apt. 347\\nLoganmouth, SD 05113\n",
              "2    15600.0  ...  87025 Mark Dale Apt. 269\\nNew Sabrina, WV 05113\n",
              "3     7200.0  ...            823 Reid Ford\\nDelacruzside, MA 00813\n",
              "4    24375.0  ...             679 Luna Roads\\nGreggshire, VA 11650\n",
              "\n",
              "[5 rows x 27 columns]"
            ]
          },
          "execution_count": 10,
          "metadata": {},
          "output_type": "execute_result"
        }
      ],
      "source": [
        "df.head()"
      ]
    },
    {
      "cell_type": "code",
      "execution_count": 11,
      "metadata": {
        "colab": {
          "base_uri": "https://localhost:8080/",
          "height": 490
        },
        "id": "CA_mugJ5UuyA",
        "outputId": "e7dfaa1a-fbf9-4528-9de4-9bace998b36a"
      },
      "outputs": [
        {
          "data": {
            "text/plain": [
              "<AxesSubplot:>"
            ]
          },
          "execution_count": 11,
          "metadata": {},
          "output_type": "execute_result"
        },
        {
          "data": {
            "image/png": "[encoded data removed]",
            "text/plain": [
              "<Figure size 864x432 with 1 Axes>"
            ]
          },
          "metadata": {
            "needs_background": "light"
          },
          "output_type": "display_data"
        }
      ],
      "source": [
        "plt.figure(figsize=(12,6))\n",
        "sns.heatmap(df.isnull(),yticklabels=False,cbar=False,cmap='viridis')"
      ]
    },
    {
      "cell_type": "code",
      "execution_count": 12,
      "metadata": {
        "colab": {
          "base_uri": "https://localhost:8080/"
        },
        "id": "wjEq7tULVst_",
        "outputId": "9b2be50b-7998-4aac-b974-68d932c1629e"
      },
      "outputs": [
        {
          "data": {
            "text/plain": [
              "loan_amnt                   0\n",
              "term                        0\n",
              "int_rate                    0\n",
              "installment                 0\n",
              "grade                       0\n",
              "sub_grade                   0\n",
              "emp_title               22927\n",
              "emp_length              18301\n",
              "home_ownership              0\n",
              "annual_inc                  0\n",
              "verification_status         0\n",
              "issue_d                     0\n",
              "loan_status                 0\n",
              "purpose                     0\n",
              "title                    1755\n",
              "dti                         0\n",
              "earliest_cr_line            0\n",
              "open_acc                    0\n",
              "pub_rec                     0\n",
              "revol_bal                   0\n",
              "revol_util                276\n",
              "total_acc                   0\n",
              "initial_list_status         0\n",
              "application_type            0\n",
              "mort_acc                37795\n",
              "pub_rec_bankruptcies      535\n",
              "address                     0\n",
              "dtype: int64"
            ]
          },
          "execution_count": 12,
          "metadata": {},
          "output_type": "execute_result"
        }
      ],
      "source": [
        "df.isnull().sum()"
      ]
    },
    {
      "cell_type": "markdown",
      "metadata": {
        "id": "HPm3JqBxRhZ5"
      },
      "source": [
        "# Section 1: Exploratory Data Analysis\n",
        "\n",
        "**OVERALL GOAL: Get an understanding for which variables are important, view summary statistics, and visualize the data**\n",
        "\n",
        "\n",
        "----"
      ]
    },
    {
      "cell_type": "markdown",
      "metadata": {
        "id": "1w71FN9NRhZ5"
      },
      "source": [
        "**TASK: Since we will be attempting to predict loan_status, create a countplot as shown below.**"
      ]
    },
    {
      "cell_type": "code",
      "execution_count": 13,
      "metadata": {
        "colab": {
          "base_uri": "https://localhost:8080/",
          "height": 297
        },
        "id": "nJku375TRhZ6",
        "outputId": "98a97f28-bc93-4732-d2e1-310446ab3063"
      },
      "outputs": [
        {
          "data": {
            "text/plain": [
              "<AxesSubplot:xlabel='loan_status', ylabel='count'>"
            ]
          },
          "execution_count": 13,
          "metadata": {},
          "output_type": "execute_result"
        },
        {
          "data": {
            "image/png": "[encoded data removed]",
            "text/plain": [
              "<Figure size 432x288 with 1 Axes>"
            ]
          },
          "metadata": {
            "needs_background": "light"
          },
          "output_type": "display_data"
        }
      ],
      "source": [
        "sns.countplot(x='loan_status',data=df)"
      ]
    },
    {
      "cell_type": "code",
      "execution_count": 14,
      "metadata": {
        "colab": {
          "base_uri": "https://localhost:8080/",
          "height": 460
        },
        "id": "-vO-UK-OTc2h",
        "outputId": "5acb5e54-f51f-4e0c-e568-f9ad877f92a7"
      },
      "outputs": [
        {
          "data": {
            "text/plain": [
              "[Text(0, 0, '318357 (80%)'), Text(0, 0, '77673 (20%)')]"
            ]
          },
          "execution_count": 14,
          "metadata": {},
          "output_type": "execute_result"
        },
        {
          "data": {
            "image/png": "[encoded data removed]",
            "text/plain": [
              "<Figure size 864x504 with 1 Axes>"
            ]
          },
          "metadata": {
            "needs_background": "light"
          },
          "output_type": "display_data"
        }
      ],
      "source": [
        "plt.figure(figsize=(12,7))\n",
        "ax = sns.countplot(x='loan_status', data=df)\n",
        "        \n",
        "abs_values = df['loan_status'].value_counts(ascending=False)\n",
        "rel_values = df['loan_status'].value_counts(ascending=False, normalize=True).values * 100\n",
        "lbls = [f'{p[0]} ({p[1]:.0f}%)' for p in zip(abs_values, rel_values)]\n",
        "\n",
        "ax.bar_label(container=ax.containers[0], labels=lbls)"
      ]
    },
    {
      "cell_type": "markdown",
      "metadata": {
        "id": "3BCaftGgRhZ6"
      },
      "source": [
        "**TASK: Create a histogram of the loan_amnt column.**"
      ]
    },
    {
      "cell_type": "code",
      "execution_count": 18,
      "metadata": {
        "colab": {
          "base_uri": "https://localhost:8080/",
          "height": 297
        },
        "id": "ASKU9v3mRhZ6",
        "outputId": "e908337b-d190-44f5-b269-40e68bb8bba0"
      },
      "outputs": [
        {
          "data": {
            "text/plain": [
              "(0.0, 45000.0)"
            ]
          },
          "execution_count": 18,
          "metadata": {},
          "output_type": "execute_result"
        },
        {
          "data": {
            "image/png": "[encoded data removed]",
            "text/plain": [
              "<Figure size 864x288 with 1 Axes>"
            ]
          },
          "metadata": {
            "needs_background": "light"
          },
          "output_type": "display_data"
        }
      ],
      "source": [
        "plt.figure(figsize=(12,4))\n",
        "sns.histplot(df['loan_amnt'],kde=False,bins=40)\n",
        "plt.xlim(0,45000)"
      ]
    },
    {
      "cell_type": "markdown",
      "metadata": {
        "id": "mtvdY-VyRhZ7"
      },
      "source": [
        "**TASK: Let's explore correlation between the continuous feature variables. Calculate the correlation between all continuous numeric variables using .corr() method.**"
      ]
    },
    {
      "cell_type": "code",
      "execution_count": 19,
      "metadata": {
        "colab": {
          "base_uri": "https://localhost:8080/",
          "height": 426
        },
        "id": "2IF3AjqkRhZ7",
        "outputId": "3f267afd-1eab-4e44-b248-2d97d5c27bd3"
      },
      "outputs": [
        {
          "data": {
            "text/html": [
              "\n",
              "  <div id=\"df-72ed8423-aa6c-4c22-a5da-9152eb118e35\">\n",
              "    <div class=\"colab-df-container\">\n",
              "      <div>\n",
              "<style scoped>\n",
              "    .dataframe tbody tr th:only-of-type {\n",
              "        vertical-align: middle;\n",
              "    }\n",
              "\n",
              "    .dataframe tbody tr th {\n",
              "        vertical-align: top;\n",
              "    }\n",
              "\n",
              "    .dataframe thead th {\n",
              "        text-align: right;\n",
              "    }\n",
              "</style>\n",
              "<table border=\"1\" class=\"dataframe\">\n",
              "  <thead>\n",
              "    <tr style=\"text-align: right;\">\n",
              "      <th></th>\n",
              "      <th>loan_amnt</th>\n",
              "      <th>int_rate</th>\n",
              "      <th>installment</th>\n",
              "      <th>annual_inc</th>\n",
              "      <th>dti</th>\n",
              "      <th>open_acc</th>\n",
              "      <th>pub_rec</th>\n",
              "      <th>revol_bal</th>\n",
              "      <th>revol_util</th>\n",
              "      <th>total_acc</th>\n",
              "      <th>mort_acc</th>\n",
              "      <th>pub_rec_bankruptcies</th>\n",
              "    </tr>\n",
              "  </thead>\n",
              "  <tbody>\n",
              "    <tr>\n",
              "      <th>loan_amnt</th>\n",
              "      <td>1.000000</td>\n",
              "      <td>0.168921</td>\n",
              "      <td>0.953929</td>\n",
              "      <td>0.336887</td>\n",
              "      <td>0.016636</td>\n",
              "      <td>0.198556</td>\n",
              "      <td>-0.077779</td>\n",
              "      <td>0.328320</td>\n",
              "      <td>0.099911</td>\n",
              "      <td>0.223886</td>\n",
              "      <td>0.222315</td>\n",
              "      <td>-0.106539</td>\n",
              "    </tr>\n",
              "    <tr>\n",
              "      <th>int_rate</th>\n",
              "      <td>0.168921</td>\n",
              "      <td>1.000000</td>\n",
              "      <td>0.162758</td>\n",
              "      <td>-0.056771</td>\n",
              "      <td>0.079038</td>\n",
              "      <td>0.011649</td>\n",
              "      <td>0.060986</td>\n",
              "      <td>-0.011280</td>\n",
              "      <td>0.293659</td>\n",
              "      <td>-0.036404</td>\n",
              "      <td>-0.082583</td>\n",
              "      <td>0.057450</td>\n",
              "    </tr>\n",
              "    <tr>\n",
              "      <th>installment</th>\n",
              "      <td>0.953929</td>\n",
              "      <td>0.162758</td>\n",
              "      <td>1.000000</td>\n",
              "      <td>0.330381</td>\n",
              "      <td>0.015786</td>\n",
              "      <td>0.188973</td>\n",
              "      <td>-0.067892</td>\n",
              "      <td>0.316455</td>\n",
              "      <td>0.123915</td>\n",
              "      <td>0.202430</td>\n",
              "      <td>0.193694</td>\n",
              "      <td>-0.098628</td>\n",
              "    </tr>\n",
              "    <tr>\n",
              "      <th>annual_inc</th>\n",
              "      <td>0.336887</td>\n",
              "      <td>-0.056771</td>\n",
              "      <td>0.330381</td>\n",
              "      <td>1.000000</td>\n",
              "      <td>-0.081685</td>\n",
              "      <td>0.136150</td>\n",
              "      <td>-0.013720</td>\n",
              "      <td>0.299773</td>\n",
              "      <td>0.027871</td>\n",
              "      <td>0.193023</td>\n",
              "      <td>0.236320</td>\n",
              "      <td>-0.050162</td>\n",
              "    </tr>\n",
              "    <tr>\n",
              "      <th>dti</th>\n",
              "      <td>0.016636</td>\n",
              "      <td>0.079038</td>\n",
              "      <td>0.015786</td>\n",
              "      <td>-0.081685</td>\n",
              "      <td>1.000000</td>\n",
              "      <td>0.136181</td>\n",
              "      <td>-0.017639</td>\n",
              "      <td>0.063571</td>\n",
              "      <td>0.088375</td>\n",
              "      <td>0.102128</td>\n",
              "      <td>-0.025439</td>\n",
              "      <td>-0.014558</td>\n",
              "    </tr>\n",
              "    <tr>\n",
              "      <th>open_acc</th>\n",
              "      <td>0.198556</td>\n",
              "      <td>0.011649</td>\n",
              "      <td>0.188973</td>\n",
              "      <td>0.136150</td>\n",
              "      <td>0.136181</td>\n",
              "      <td>1.000000</td>\n",
              "      <td>-0.018392</td>\n",
              "      <td>0.221192</td>\n",
              "      <td>-0.131420</td>\n",
              "      <td>0.680728</td>\n",
              "      <td>0.109205</td>\n",
              "      <td>-0.027732</td>\n",
              "    </tr>\n",
              "    <tr>\n",
              "      <th>pub_rec</th>\n",
              "      <td>-0.077779</td>\n",
              "      <td>0.060986</td>\n",
              "      <td>-0.067892</td>\n",
              "      <td>-0.013720</td>\n",
              "      <td>-0.017639</td>\n",
              "      <td>-0.018392</td>\n",
              "      <td>1.000000</td>\n",
              "      <td>-0.101664</td>\n",
              "      <td>-0.075910</td>\n",
              "      <td>0.019723</td>\n",
              "      <td>0.011552</td>\n",
              "      <td>0.699408</td>\n",
              "    </tr>\n",
              "    <tr>\n",
              "      <th>revol_bal</th>\n",
              "      <td>0.328320</td>\n",
              "      <td>-0.011280</td>\n",
              "      <td>0.316455</td>\n",
              "      <td>0.299773</td>\n",
              "      <td>0.063571</td>\n",
              "      <td>0.221192</td>\n",
              "      <td>-0.101664</td>\n",
              "      <td>1.000000</td>\n",
              "      <td>0.226346</td>\n",
              "      <td>0.191616</td>\n",
              "      <td>0.194925</td>\n",
              "      <td>-0.124532</td>\n",
              "    </tr>\n",
              "    <tr>\n",
              "      <th>revol_util</th>\n",
              "      <td>0.099911</td>\n",
              "      <td>0.293659</td>\n",
              "      <td>0.123915</td>\n",
              "      <td>0.027871</td>\n",
              "      <td>0.088375</td>\n",
              "      <td>-0.131420</td>\n",
              "      <td>-0.075910</td>\n",
              "      <td>0.226346</td>\n",
              "      <td>1.000000</td>\n",
              "      <td>-0.104273</td>\n",
              "      <td>0.007514</td>\n",
              "      <td>-0.086751</td>\n",
              "    </tr>\n",
              "    <tr>\n",
              "      <th>total_acc</th>\n",
              "      <td>0.223886</td>\n",
              "      <td>-0.036404</td>\n",
              "      <td>0.202430</td>\n",
              "      <td>0.193023</td>\n",
              "      <td>0.102128</td>\n",
              "      <td>0.680728</td>\n",
              "      <td>0.019723</td>\n",
              "      <td>0.191616</td>\n",
              "      <td>-0.104273</td>\n",
              "      <td>1.000000</td>\n",
              "      <td>0.381072</td>\n",
              "      <td>0.042035</td>\n",
              "    </tr>\n",
              "    <tr>\n",
              "      <th>mort_acc</th>\n",
              "      <td>0.222315</td>\n",
              "      <td>-0.082583</td>\n",
              "      <td>0.193694</td>\n",
              "      <td>0.236320</td>\n",
              "      <td>-0.025439</td>\n",
              "      <td>0.109205</td>\n",
              "      <td>0.011552</td>\n",
              "      <td>0.194925</td>\n",
              "      <td>0.007514</td>\n",
              "      <td>0.381072</td>\n",
              "      <td>1.000000</td>\n",
              "      <td>0.027239</td>\n",
              "    </tr>\n",
              "    <tr>\n",
              "      <th>pub_rec_bankruptcies</th>\n",
              "      <td>-0.106539</td>\n",
              "      <td>0.057450</td>\n",
              "      <td>-0.098628</td>\n",
              "      <td>-0.050162</td>\n",
              "      <td>-0.014558</td>\n",
              "      <td>-0.027732</td>\n",
              "      <td>0.699408</td>\n",
              "      <td>-0.124532</td>\n",
              "      <td>-0.086751</td>\n",
              "      <td>0.042035</td>\n",
              "      <td>0.027239</td>\n",
              "      <td>1.000000</td>\n",
              "    </tr>\n",
              "  </tbody>\n",
              "</table>\n",
              "</div>\n",
              "      <button class=\"colab-df-convert\" onclick=\"convertToInteractive('df-72ed8423-aa6c-4c22-a5da-9152eb118e35')\"\n",
              "              title=\"Convert this dataframe to an interactive table.\"\n",
              "              style=\"display:none;\">\n",
              "        \n",
              "  <svg xmlns=\"http://www.w3.org/2000/svg\" height=\"24px\"viewBox=\"0 0 24 24\"\n",
              "       width=\"24px\">\n",
              "    <path d=\"M0 0h24v24H0V0z\" fill=\"none\"/>\n",
              "    <path d=\"M18.56 5.44l.94 2.06.94-2.06 2.06-.94-2.06-.94-.94-2.06-.94 2.06-2.06.94zm-11 1L8.5 8.5l.94-2.06 2.06-.94-2.06-.94L8.5 2.5l-.94 2.06-2.06.94zm10 10l.94 2.06.94-2.06 2.06-.94-2.06-.94-.94-2.06-.94 2.06-2.06.94z\"/><path d=\"M17.41 7.96l-1.37-1.37c-.4-.4-.92-.59-1.43-.59-.52 0-1.04.2-1.43.59L10.3 9.45l-7.72 7.72c-.78.78-.78 2.05 0 2.83L4 21.41c.39.39.9.59 1.41.59.51 0 1.02-.2 1.41-.59l7.78-7.78 2.81-2.81c.8-.78.8-2.07 0-2.86zM5.41 20L4 18.59l7.72-7.72 1.47 1.35L5.41 20z\"/>\n",
              "  </svg>\n",
              "      </button>\n",
              "      \n",
              "  <style>\n",
              "    .colab-df-container {\n",
              "      display:flex;\n",
              "      flex-wrap:wrap;\n",
              "      gap: 12px;\n",
              "    }\n",
              "\n",
              "    .colab-df-convert {\n",
              "      background-color: #E8F0FE;\n",
              "      border: none;\n",
              "      border-radius: 50%;\n",
              "      cursor: pointer;\n",
              "      display: none;\n",
              "      fill: #1967D2;\n",
              "      height: 32px;\n",
              "      padding: 0 0 0 0;\n",
              "      width: 32px;\n",
              "    }\n",
              "\n",
              "    .colab-df-convert:hover {\n",
              "      background-color: #E2EBFA;\n",
              "      box-shadow: 0px 1px 2px rgba(60, 64, 67, 0.3), 0px 1px 3px 1px rgba(60, 64, 67, 0.15);\n",
              "      fill: #174EA6;\n",
              "    }\n",
              "\n",
              "    [theme=dark] .colab-df-convert {\n",
              "      background-color: #3B4455;\n",
              "      fill: #D2E3FC;\n",
              "    }\n",
              "\n",
              "    [theme=dark] .colab-df-convert:hover {\n",
              "      background-color: #434B5C;\n",
              "      box-shadow: 0px 1px 3px 1px rgba(0, 0, 0, 0.15);\n",
              "      filter: drop-shadow(0px 1px 2px rgba(0, 0, 0, 0.3));\n",
              "      fill: #FFFFFF;\n",
              "    }\n",
              "  </style>\n",
              "\n",
              "      <script>\n",
              "        const buttonEl =\n",
              "          document.querySelector('#df-72ed8423-aa6c-4c22-a5da-9152eb118e35 button.colab-df-convert');\n",
              "        buttonEl.style.display =\n",
              "          google.colab.kernel.accessAllowed ? 'block' : 'none';\n",
              "\n",
              "        async function convertToInteractive(key) {\n",
              "          const element = document.querySelector('#df-72ed8423-aa6c-4c22-a5da-9152eb118e35');\n",
              "          const dataTable =\n",
              "            await google.colab.kernel.invokeFunction('convertToInteractive',\n",
              "                                                     [key], {});\n",
              "          if (!dataTable) return;\n",
              "\n",
              "          const docLinkHtml = 'Like what you see? Visit the ' +\n",
              "            '<a target=\"_blank\" href=https://colab.research.google.com/notebooks/data_table.ipynb>data table notebook</a>'\n",
              "            + ' to learn more about interactive tables.';\n",
              "          element.innerHTML = '';\n",
              "          dataTable['output_type'] = 'display_data';\n",
              "          await google.colab.output.renderOutput(dataTable, element);\n",
              "          const docLink = document.createElement('div');\n",
              "          docLink.innerHTML = docLinkHtml;\n",
              "          element.appendChild(docLink);\n",
              "        }\n",
              "      </script>\n",
              "    </div>\n",
              "  </div>\n",
              "  "
            ],
            "text/plain": [
              "                      loan_amnt  int_rate  ...  mort_acc  pub_rec_bankruptcies\n",
              "loan_amnt              1.000000  0.168921  ...  0.222315             -0.106539\n",
              "int_rate               0.168921  1.000000  ... -0.082583              0.057450\n",
              "installment            0.953929  0.162758  ...  0.193694             -0.098628\n",
              "annual_inc             0.336887 -0.056771  ...  0.236320             -0.050162\n",
              "dti                    0.016636  0.079038  ... -0.025439             -0.014558\n",
              "open_acc               0.198556  0.011649  ...  0.109205             -0.027732\n",
              "pub_rec               -0.077779  0.060986  ...  0.011552              0.699408\n",
              "revol_bal              0.328320 -0.011280  ...  0.194925             -0.124532\n",
              "revol_util             0.099911  0.293659  ...  0.007514             -0.086751\n",
              "total_acc              0.223886 -0.036404  ...  0.381072              0.042035\n",
              "mort_acc               0.222315 -0.082583  ...  1.000000              0.027239\n",
              "pub_rec_bankruptcies  -0.106539  0.057450  ...  0.027239              1.000000\n",
              "\n",
              "[12 rows x 12 columns]"
            ]
          },
          "execution_count": 19,
          "metadata": {},
          "output_type": "execute_result"
        }
      ],
      "source": [
        "df.corr()"
      ]
    },
    {
      "cell_type": "code",
      "execution_count": 24,
      "metadata": {
        "colab": {
          "base_uri": "https://localhost:8080/",
          "height": 549
        },
        "id": "2eVz864jRhZ8",
        "outputId": "8bdefdb4-c77b-4a6d-e4ca-9237b0b91e24"
      },
      "outputs": [
        {
          "data": {
            "text/plain": [
              "(10.0, 0.0)"
            ]
          },
          "execution_count": 24,
          "metadata": {},
          "output_type": "execute_result"
        },
        {
          "data": {
            "image/png": "[encoded data removed]",
            "text/plain": [
              "<Figure size 864x504 with 2 Axes>"
            ]
          },
          "metadata": {
            "needs_background": "light"
          },
          "output_type": "display_data"
        }
      ],
      "source": [
        "plt.figure(figsize=(12,7))\n",
        "sns.heatmap(df.corr(),annot=True,cmap='viridis')\n",
        "plt.ylim(10, 0)"
      ]
    },
    {
      "cell_type": "markdown",
      "metadata": {
        "id": "UQmAkA8qRhZ8"
      },
      "source": [
        " Almost perfect correlation with the \"installment\" feature. \n",
        "\n",
        "**TASK: Explore this feature further. Print out their descriptions and perform a scatterplot between them. Does this relationship make sense to you? Do you think there is duplicate information here?**"
      ]
    },
    {
      "cell_type": "code",
      "execution_count": 25,
      "metadata": {
        "colab": {
          "base_uri": "https://localhost:8080/"
        },
        "id": "MAWS8vo1RhZ9",
        "outputId": "6f4ab68c-1db0-4b1f-aa46-ab1b5ccbd1cf"
      },
      "outputs": [
        {
          "name": "stdout",
          "output_type": "stream",
          "text": [
            "The monthly payment owed by the borrower if the loan originates.\n"
          ]
        }
      ],
      "source": [
        "feat_info('installment')"
      ]
    },
    {
      "cell_type": "code",
      "execution_count": 26,
      "metadata": {
        "colab": {
          "base_uri": "https://localhost:8080/"
        },
        "id": "8xjGUoEeRhZ9",
        "outputId": "8a148b91-8a13-4e40-86da-75d4d73c8851"
      },
      "outputs": [
        {
          "name": "stdout",
          "output_type": "stream",
          "text": [
            "The listed amount of the loan applied for by the borrower. If at some point in time, the credit department reduces the loan amount, then it will be reflected in this value.\n"
          ]
        }
      ],
      "source": [
        "feat_info('loan_amnt')"
      ]
    },
    {
      "cell_type": "code",
      "execution_count": 27,
      "metadata": {
        "colab": {
          "base_uri": "https://localhost:8080/",
          "height": 459
        },
        "id": "Z0-Jt1MTRhZ-",
        "outputId": "ad4aa771-97ea-481e-ff47-a902aa16dc45"
      },
      "outputs": [
        {
          "data": {
            "text/plain": [
              "<AxesSubplot:xlabel='installment', ylabel='loan_amnt'>"
            ]
          },
          "execution_count": 27,
          "metadata": {},
          "output_type": "execute_result"
        },
        {
          "data": {
            "image/png": "[encoded data removed]",
            "text/plain": [
              "<Figure size 864x504 with 1 Axes>"
            ]
          },
          "metadata": {
            "needs_background": "light"
          },
          "output_type": "display_data"
        }
      ],
      "source": [
        "plt.figure(figsize=(12,7))\n",
        "sns.scatterplot(x='installment',y='loan_amnt',data=df,)"
      ]
    },
    {
      "cell_type": "markdown",
      "metadata": {
        "id": "goS7lIvcRhZ-"
      },
      "source": [
        "**TASK: Create a boxplot showing the relationship between the loan_status and the Loan Amount.**"
      ]
    },
    {
      "cell_type": "code",
      "execution_count": 28,
      "metadata": {
        "colab": {
          "base_uri": "https://localhost:8080/",
          "height": 460
        },
        "id": "nljMPaPRRhZ-",
        "outputId": "60ad56e8-2180-42f8-c61e-b5590b3e8f69"
      },
      "outputs": [
        {
          "data": {
            "text/plain": [
              "<AxesSubplot:xlabel='loan_status', ylabel='loan_amnt'>"
            ]
          },
          "execution_count": 28,
          "metadata": {},
          "output_type": "execute_result"
        },
        {
          "data": {
            "image/png": "[encoded data removed]",
            "text/plain": [
              "<Figure size 864x504 with 1 Axes>"
            ]
          },
          "metadata": {
            "needs_background": "light"
          },
          "output_type": "display_data"
        }
      ],
      "source": [
        "plt.figure(figsize=(12,7))\n",
        "sns.boxplot(x='loan_status',y='loan_amnt',data=df)"
      ]
    },
    {
      "cell_type": "code",
      "execution_count": 29,
      "metadata": {
        "colab": {
          "base_uri": "https://localhost:8080/",
          "height": 112
        },
        "id": "Uo6kgSRan0xJ",
        "outputId": "5a0ac5fa-5495-4dfe-c756-fd7451e3cce6"
      },
      "outputs": [
        {
          "data": {
            "text/html": [
              "\n",
              "  <div id=\"df-82d636d8-bea1-4fdb-8216-36e5c27a780b\">\n",
              "    <div class=\"colab-df-container\">\n",
              "      <div>\n",
              "<style scoped>\n",
              "    .dataframe tbody tr th:only-of-type {\n",
              "        vertical-align: middle;\n",
              "    }\n",
              "\n",
              "    .dataframe tbody tr th {\n",
              "        vertical-align: top;\n",
              "    }\n",
              "\n",
              "    .dataframe thead th {\n",
              "        text-align: right;\n",
              "    }\n",
              "</style>\n",
              "<table border=\"1\" class=\"dataframe\">\n",
              "  <thead>\n",
              "    <tr style=\"text-align: right;\">\n",
              "      <th></th>\n",
              "      <th>loan_status</th>\n",
              "      <th>loan_amnt</th>\n",
              "    </tr>\n",
              "  </thead>\n",
              "  <tbody>\n",
              "    <tr>\n",
              "      <th>0</th>\n",
              "      <td>Charged Off</td>\n",
              "      <td>14000.0</td>\n",
              "    </tr>\n",
              "    <tr>\n",
              "      <th>1</th>\n",
              "      <td>Fully Paid</td>\n",
              "      <td>12000.0</td>\n",
              "    </tr>\n",
              "  </tbody>\n",
              "</table>\n",
              "</div>\n",
              "      <button class=\"colab-df-convert\" onclick=\"convertToInteractive('df-82d636d8-bea1-4fdb-8216-36e5c27a780b')\"\n",
              "              title=\"Convert this dataframe to an interactive table.\"\n",
              "              style=\"display:none;\">\n",
              "        \n",
              "  <svg xmlns=\"http://www.w3.org/2000/svg\" height=\"24px\"viewBox=\"0 0 24 24\"\n",
              "       width=\"24px\">\n",
              "    <path d=\"M0 0h24v24H0V0z\" fill=\"none\"/>\n",
              "    <path d=\"M18.56 5.44l.94 2.06.94-2.06 2.06-.94-2.06-.94-.94-2.06-.94 2.06-2.06.94zm-11 1L8.5 8.5l.94-2.06 2.06-.94-2.06-.94L8.5 2.5l-.94 2.06-2.06.94zm10 10l.94 2.06.94-2.06 2.06-.94-2.06-.94-.94-2.06-.94 2.06-2.06.94z\"/><path d=\"M17.41 7.96l-1.37-1.37c-.4-.4-.92-.59-1.43-.59-.52 0-1.04.2-1.43.59L10.3 9.45l-7.72 7.72c-.78.78-.78 2.05 0 2.83L4 21.41c.39.39.9.59 1.41.59.51 0 1.02-.2 1.41-.59l7.78-7.78 2.81-2.81c.8-.78.8-2.07 0-2.86zM5.41 20L4 18.59l7.72-7.72 1.47 1.35L5.41 20z\"/>\n",
              "  </svg>\n",
              "      </button>\n",
              "      \n",
              "  <style>\n",
              "    .colab-df-container {\n",
              "      display:flex;\n",
              "      flex-wrap:wrap;\n",
              "      gap: 12px;\n",
              "    }\n",
              "\n",
              "    .colab-df-convert {\n",
              "      background-color: #E8F0FE;\n",
              "      border: none;\n",
              "      border-radius: 50%;\n",
              "      cursor: pointer;\n",
              "      display: none;\n",
              "      fill: #1967D2;\n",
              "      height: 32px;\n",
              "      padding: 0 0 0 0;\n",
              "      width: 32px;\n",
              "    }\n",
              "\n",
              "    .colab-df-convert:hover {\n",
              "      background-color: #E2EBFA;\n",
              "      box-shadow: 0px 1px 2px rgba(60, 64, 67, 0.3), 0px 1px 3px 1px rgba(60, 64, 67, 0.15);\n",
              "      fill: #174EA6;\n",
              "    }\n",
              "\n",
              "    [theme=dark] .colab-df-convert {\n",
              "      background-color: #3B4455;\n",
              "      fill: #D2E3FC;\n",
              "    }\n",
              "\n",
              "    [theme=dark] .colab-df-convert:hover {\n",
              "      background-color: #434B5C;\n",
              "      box-shadow: 0px 1px 3px 1px rgba(0, 0, 0, 0.15);\n",
              "      filter: drop-shadow(0px 1px 2px rgba(0, 0, 0, 0.3));\n",
              "      fill: #FFFFFF;\n",
              "    }\n",
              "  </style>\n",
              "\n",
              "      <script>\n",
              "        const buttonEl =\n",
              "          document.querySelector('#df-82d636d8-bea1-4fdb-8216-36e5c27a780b button.colab-df-convert');\n",
              "        buttonEl.style.display =\n",
              "          google.colab.kernel.accessAllowed ? 'block' : 'none';\n",
              "\n",
              "        async function convertToInteractive(key) {\n",
              "          const element = document.querySelector('#df-82d636d8-bea1-4fdb-8216-36e5c27a780b');\n",
              "          const dataTable =\n",
              "            await google.colab.kernel.invokeFunction('convertToInteractive',\n",
              "                                                     [key], {});\n",
              "          if (!dataTable) return;\n",
              "\n",
              "          const docLinkHtml = 'Like what you see? Visit the ' +\n",
              "            '<a target=\"_blank\" href=https://colab.research.google.com/notebooks/data_table.ipynb>data table notebook</a>'\n",
              "            + ' to learn more about interactive tables.';\n",
              "          element.innerHTML = '';\n",
              "          dataTable['output_type'] = 'display_data';\n",
              "          await google.colab.output.renderOutput(dataTable, element);\n",
              "          const docLink = document.createElement('div');\n",
              "          docLink.innerHTML = docLinkHtml;\n",
              "          element.appendChild(docLink);\n",
              "        }\n",
              "      </script>\n",
              "    </div>\n",
              "  </div>\n",
              "  "
            ],
            "text/plain": [
              "   loan_status  loan_amnt\n",
              "0  Charged Off    14000.0\n",
              "1   Fully Paid    12000.0"
            ]
          },
          "execution_count": 29,
          "metadata": {},
          "output_type": "execute_result"
        }
      ],
      "source": [
        "df.groupby('loan_status', as_index=False)['loan_amnt'].median()"
      ]
    },
    {
      "cell_type": "markdown",
      "metadata": {
        "id": "Q0PlaGY3RhZ-"
      },
      "source": [
        "**TASK: Calculate the summary statistics for the loan amount, grouped by the loan_status.**"
      ]
    },
    {
      "cell_type": "code",
      "execution_count": 30,
      "metadata": {
        "colab": {
          "base_uri": "https://localhost:8080/",
          "height": 143
        },
        "id": "fQIPz4TaRhZ_",
        "outputId": "90b60e24-e68d-4582-d07f-a12bc17a71dc"
      },
      "outputs": [
        {
          "data": {
            "text/html": [
              "\n",
              "  <div id=\"df-540d5cfa-6ede-4235-ba21-7364deff3a4f\">\n",
              "    <div class=\"colab-df-container\">\n",
              "      <div>\n",
              "<style scoped>\n",
              "    .dataframe tbody tr th:only-of-type {\n",
              "        vertical-align: middle;\n",
              "    }\n",
              "\n",
              "    .dataframe tbody tr th {\n",
              "        vertical-align: top;\n",
              "    }\n",
              "\n",
              "    .dataframe thead th {\n",
              "        text-align: right;\n",
              "    }\n",
              "</style>\n",
              "<table border=\"1\" class=\"dataframe\">\n",
              "  <thead>\n",
              "    <tr style=\"text-align: right;\">\n",
              "      <th></th>\n",
              "      <th>count</th>\n",
              "      <th>mean</th>\n",
              "      <th>std</th>\n",
              "      <th>min</th>\n",
              "      <th>25%</th>\n",
              "      <th>50%</th>\n",
              "      <th>75%</th>\n",
              "      <th>max</th>\n",
              "    </tr>\n",
              "    <tr>\n",
              "      <th>loan_status</th>\n",
              "      <th></th>\n",
              "      <th></th>\n",
              "      <th></th>\n",
              "      <th></th>\n",
              "      <th></th>\n",
              "      <th></th>\n",
              "      <th></th>\n",
              "      <th></th>\n",
              "    </tr>\n",
              "  </thead>\n",
              "  <tbody>\n",
              "    <tr>\n",
              "      <th>Charged Off</th>\n",
              "      <td>77673.0</td>\n",
              "      <td>15126.300967</td>\n",
              "      <td>8505.090557</td>\n",
              "      <td>1000.0</td>\n",
              "      <td>8525.0</td>\n",
              "      <td>14000.0</td>\n",
              "      <td>20000.0</td>\n",
              "      <td>40000.0</td>\n",
              "    </tr>\n",
              "    <tr>\n",
              "      <th>Fully Paid</th>\n",
              "      <td>318357.0</td>\n",
              "      <td>13866.878771</td>\n",
              "      <td>8302.319699</td>\n",
              "      <td>500.0</td>\n",
              "      <td>7500.0</td>\n",
              "      <td>12000.0</td>\n",
              "      <td>19225.0</td>\n",
              "      <td>40000.0</td>\n",
              "    </tr>\n",
              "  </tbody>\n",
              "</table>\n",
              "</div>\n",
              "      <button class=\"colab-df-convert\" onclick=\"convertToInteractive('df-540d5cfa-6ede-4235-ba21-7364deff3a4f')\"\n",
              "              title=\"Convert this dataframe to an interactive table.\"\n",
              "              style=\"display:none;\">\n",
              "        \n",
              "  <svg xmlns=\"http://www.w3.org/2000/svg\" height=\"24px\"viewBox=\"0 0 24 24\"\n",
              "       width=\"24px\">\n",
              "    <path d=\"M0 0h24v24H0V0z\" fill=\"none\"/>\n",
              "    <path d=\"M18.56 5.44l.94 2.06.94-2.06 2.06-.94-2.06-.94-.94-2.06-.94 2.06-2.06.94zm-11 1L8.5 8.5l.94-2.06 2.06-.94-2.06-.94L8.5 2.5l-.94 2.06-2.06.94zm10 10l.94 2.06.94-2.06 2.06-.94-2.06-.94-.94-2.06-.94 2.06-2.06.94z\"/><path d=\"M17.41 7.96l-1.37-1.37c-.4-.4-.92-.59-1.43-.59-.52 0-1.04.2-1.43.59L10.3 9.45l-7.72 7.72c-.78.78-.78 2.05 0 2.83L4 21.41c.39.39.9.59 1.41.59.51 0 1.02-.2 1.41-.59l7.78-7.78 2.81-2.81c.8-.78.8-2.07 0-2.86zM5.41 20L4 18.59l7.72-7.72 1.47 1.35L5.41 20z\"/>\n",
              "  </svg>\n",
              "      </button>\n",
              "      \n",
              "  <style>\n",
              "    .colab-df-container {\n",
              "      display:flex;\n",
              "      flex-wrap:wrap;\n",
              "      gap: 12px;\n",
              "    }\n",
              "\n",
              "    .colab-df-convert {\n",
              "      background-color: #E8F0FE;\n",
              "      border: none;\n",
              "      border-radius: 50%;\n",
              "      cursor: pointer;\n",
              "      display: none;\n",
              "      fill: #1967D2;\n",
              "      height: 32px;\n",
              "      padding: 0 0 0 0;\n",
              "      width: 32px;\n",
              "    }\n",
              "\n",
              "    .colab-df-convert:hover {\n",
              "      background-color: #E2EBFA;\n",
              "      box-shadow: 0px 1px 2px rgba(60, 64, 67, 0.3), 0px 1px 3px 1px rgba(60, 64, 67, 0.15);\n",
              "      fill: #174EA6;\n",
              "    }\n",
              "\n",
              "    [theme=dark] .colab-df-convert {\n",
              "      background-color: #3B4455;\n",
              "      fill: #D2E3FC;\n",
              "    }\n",
              "\n",
              "    [theme=dark] .colab-df-convert:hover {\n",
              "      background-color: #434B5C;\n",
              "      box-shadow: 0px 1px 3px 1px rgba(0, 0, 0, 0.15);\n",
              "      filter: drop-shadow(0px 1px 2px rgba(0, 0, 0, 0.3));\n",
              "      fill: #FFFFFF;\n",
              "    }\n",
              "  </style>\n",
              "\n",
              "      <script>\n",
              "        const buttonEl =\n",
              "          document.querySelector('#df-540d5cfa-6ede-4235-ba21-7364deff3a4f button.colab-df-convert');\n",
              "        buttonEl.style.display =\n",
              "          google.colab.kernel.accessAllowed ? 'block' : 'none';\n",
              "\n",
              "        async function convertToInteractive(key) {\n",
              "          const element = document.querySelector('#df-540d5cfa-6ede-4235-ba21-7364deff3a4f');\n",
              "          const dataTable =\n",
              "            await google.colab.kernel.invokeFunction('convertToInteractive',\n",
              "                                                     [key], {});\n",
              "          if (!dataTable) return;\n",
              "\n",
              "          const docLinkHtml = 'Like what you see? Visit the ' +\n",
              "            '<a target=\"_blank\" href=https://colab.research.google.com/notebooks/data_table.ipynb>data table notebook</a>'\n",
              "            + ' to learn more about interactive tables.';\n",
              "          element.innerHTML = '';\n",
              "          dataTable['output_type'] = 'display_data';\n",
              "          await google.colab.output.renderOutput(dataTable, element);\n",
              "          const docLink = document.createElement('div');\n",
              "          docLink.innerHTML = docLinkHtml;\n",
              "          element.appendChild(docLink);\n",
              "        }\n",
              "      </script>\n",
              "    </div>\n",
              "  </div>\n",
              "  "
            ],
            "text/plain": [
              "                count          mean          std  ...      50%      75%      max\n",
              "loan_status                                       ...                           \n",
              "Charged Off   77673.0  15126.300967  8505.090557  ...  14000.0  20000.0  40000.0\n",
              "Fully Paid   318357.0  13866.878771  8302.319699  ...  12000.0  19225.0  40000.0\n",
              "\n",
              "[2 rows x 8 columns]"
            ]
          },
          "execution_count": 30,
          "metadata": {},
          "output_type": "execute_result"
        }
      ],
      "source": [
        "df.groupby('loan_status')['loan_amnt'].describe()"
      ]
    },
    {
      "cell_type": "markdown",
      "metadata": {
        "id": "jSmQqhN2RhZ_"
      },
      "source": [
        "**TASK: Let's explore the Grade and SubGrade columns that LendingClub attributes to the loans. What are the unique possible grades and subgrades?**"
      ]
    },
    {
      "cell_type": "code",
      "execution_count": 31,
      "metadata": {
        "colab": {
          "base_uri": "https://localhost:8080/"
        },
        "id": "L-TkFZYRRhZ_",
        "outputId": "c0770d0a-19de-456e-e323-f3dfe9c937cf"
      },
      "outputs": [
        {
          "data": {
            "text/plain": [
              "['A', 'B', 'C', 'D', 'E', 'F', 'G']"
            ]
          },
          "execution_count": 31,
          "metadata": {},
          "output_type": "execute_result"
        }
      ],
      "source": [
        "sorted(df['grade'].unique())"
      ]
    },
    {
      "cell_type": "code",
      "execution_count": 32,
      "metadata": {
        "colab": {
          "base_uri": "https://localhost:8080/"
        },
        "id": "ngLYZxm4RhaA",
        "outputId": "1a1b22bc-6669-4e7f-c031-0bfac73247e8"
      },
      "outputs": [
        {
          "data": {
            "text/plain": [
              "['A1',\n",
              " 'A2',\n",
              " 'A3',\n",
              " 'A4',\n",
              " 'A5',\n",
              " 'B1',\n",
              " 'B2',\n",
              " 'B3',\n",
              " 'B4',\n",
              " 'B5',\n",
              " 'C1',\n",
              " 'C2',\n",
              " 'C3',\n",
              " 'C4',\n",
              " 'C5',\n",
              " 'D1',\n",
              " 'D2',\n",
              " 'D3',\n",
              " 'D4',\n",
              " 'D5',\n",
              " 'E1',\n",
              " 'E2',\n",
              " 'E3',\n",
              " 'E4',\n",
              " 'E5',\n",
              " 'F1',\n",
              " 'F2',\n",
              " 'F3',\n",
              " 'F4',\n",
              " 'F5',\n",
              " 'G1',\n",
              " 'G2',\n",
              " 'G3',\n",
              " 'G4',\n",
              " 'G5']"
            ]
          },
          "execution_count": 32,
          "metadata": {},
          "output_type": "execute_result"
        }
      ],
      "source": [
        "sorted(df['sub_grade'].unique())"
      ]
    },
    {
      "cell_type": "markdown",
      "metadata": {
        "id": "ZgZkImqSRhaA"
      },
      "source": [
        "**TASK: Create a countplot per grade. Set the hue to the loan_status label.**"
      ]
    },
    {
      "cell_type": "code",
      "execution_count": 33,
      "metadata": {
        "colab": {
          "base_uri": "https://localhost:8080/",
          "height": 296
        },
        "id": "Z1J5mI8tRhaA",
        "outputId": "2f543685-d621-4fd9-d074-003782de7e8f"
      },
      "outputs": [
        {
          "data": {
            "text/plain": [
              "<AxesSubplot:xlabel='grade', ylabel='count'>"
            ]
          },
          "execution_count": 33,
          "metadata": {},
          "output_type": "execute_result"
        },
        {
          "data": {
            "image/png": "[encoded data removed]",
            "text/plain": [
              "<Figure size 432x288 with 1 Axes>"
            ]
          },
          "metadata": {
            "needs_background": "light"
          },
          "output_type": "display_data"
        }
      ],
      "source": [
        "sns.countplot(x='grade',data=df,hue='loan_status')"
      ]
    },
    {
      "cell_type": "code",
      "execution_count": null,
      "metadata": {
        "colab": {
          "base_uri": "https://localhost:8080/",
          "height": 1000
        },
        "id": "FDPsgw8rWkiO",
        "outputId": "352fde55-8b4f-44b9-c50d-3bfa925c6d6a"
      },
      "outputs": [
        {
          "data": {
            "text/plain": [
              "[Text(0, 0, '26655 (7%)'),\n",
              " Text(0, 0, '25601 (6%)'),\n",
              " Text(0, 0, '23662 (6%)'),\n",
              " Text(0, 0, '22580 (6%)'),\n",
              " Text(0, 0, '22495 (6%)'),\n",
              " Text(0, 0, '22085 (6%)'),\n",
              " Text(0, 0, '21221 (5%)'),\n",
              " Text(0, 0, '20280 (5%)'),\n",
              " Text(0, 0, '19182 (5%)'),\n",
              " Text(0, 0, '18526 (5%)'),\n",
              " Text(0, 0, '18244 (5%)'),\n",
              " Text(0, 0, '15993 (4%)'),\n",
              " Text(0, 0, '15789 (4%)'),\n",
              " Text(0, 0, '13951 (4%)'),\n",
              " Text(0, 0, '12223 (3%)'),\n",
              " Text(0, 0, '11657 (3%)'),\n",
              " Text(0, 0, '10576 (3%)'),\n",
              " Text(0, 0, '9729 (2%)'),\n",
              " Text(0, 0, '9700 (2%)'),\n",
              " Text(0, 0, '9567 (2%)'),\n",
              " Text(0, 0, '7917 (2%)'),\n",
              " Text(0, 0, '7431 (2%)'),\n",
              " Text(0, 0, '6207 (2%)'),\n",
              " Text(0, 0, '5361 (1%)'),\n",
              " Text(0, 0, '4572 (1%)'),\n",
              " Text(0, 0, '3536 (1%)'),\n",
              " Text(0, 0, '2766 (1%)'),\n",
              " Text(0, 0, '2286 (1%)'),\n",
              " Text(0, 0, '1787 (0%)'),\n",
              " Text(0, 0, '1397 (0%)'),\n",
              " Text(0, 0, '1058 (0%)'),\n",
              " Text(0, 0, '754 (0%)'),\n",
              " Text(0, 0, '552 (0%)'),\n",
              " Text(0, 0, '374 (0%)'),\n",
              " Text(0, 0, '316 (0%)')]"
            ]
          },
          "execution_count": 23,
          "metadata": {},
          "output_type": "execute_result"
        },
        {
          "data": {
            "image/png": "[encoded data removed]",
            "text/plain": [
              "<Figure size 1440x864 with 1 Axes>"
            ]
          },
          "metadata": {
            "needs_background": "light"
          },
          "output_type": "display_data"
        }
      ],
      "source": [
        "plt.figure(figsize=(20,12))\n",
        "ax = sns.countplot(x='sub_grade', data=df, order = df['sub_grade'].value_counts().index)\n",
        "        \n",
        "abs_values = df['sub_grade'].value_counts(ascending=False)\n",
        "rel_values = df['sub_grade'].value_counts(ascending=False, normalize=True).values * 100\n",
        "lbls = [f'{p[0]} ({p[1]:.0f}%)' for p in zip(abs_values, rel_values)]\n",
        "\n",
        "ax.bar_label(container=ax.containers[0], labels=lbls)"
      ]
    },
    {
      "cell_type": "markdown",
      "metadata": {
        "id": "eL3DYYZ7RhaA"
      },
      "source": [
        "**TASK: Display a count plot per subgrade. You may need to resize for this plot and reorder the x axis. Feel free to edit the color palette. Explore both all loans made per subgrade as well being separated based on the loan_status**"
      ]
    },
    {
      "cell_type": "code",
      "execution_count": 34,
      "metadata": {
        "colab": {
          "base_uri": "https://localhost:8080/",
          "height": 297
        },
        "id": "N5eII3sORhaB",
        "outputId": "a4032c84-5b29-4205-9be1-a8873099c433"
      },
      "outputs": [
        {
          "data": {
            "text/plain": [
              "<AxesSubplot:xlabel='sub_grade', ylabel='count'>"
            ]
          },
          "execution_count": 34,
          "metadata": {},
          "output_type": "execute_result"
        },
        {
          "data": {
            "image/png": "[encoded data removed]",
            "text/plain": [
              "<Figure size 864x288 with 1 Axes>"
            ]
          },
          "metadata": {
            "needs_background": "light"
          },
          "output_type": "display_data"
        }
      ],
      "source": [
        "plt.figure(figsize=(12,4))\n",
        "subgrade_order = sorted(df['sub_grade'].unique())\n",
        "sns.countplot(x='sub_grade',data=df,order = subgrade_order,palette='coolwarm' )"
      ]
    },
    {
      "cell_type": "code",
      "execution_count": null,
      "metadata": {
        "id": "q9SkYOPBRhaB",
        "outputId": "0e40d921-7492-45f7-b5d5-9a8236d73385"
      },
      "outputs": [
        {
          "data": {
            "text/plain": [
              "<matplotlib.axes._subplots.AxesSubplot at 0x20798359608>"
            ]
          },
          "execution_count": 32,
          "metadata": {},
          "output_type": "execute_result"
        },
        {
          "data": {
            "image/png": "[encoded data removed]",
            "text/plain": [
              "<Figure size 864x288 with 1 Axes>"
            ]
          },
          "metadata": {
            "needs_background": "light"
          },
          "output_type": "display_data"
        }
      ],
      "source": [
        "plt.figure(figsize=(12,4))\n",
        "subgrade_order = sorted(df['sub_grade'].unique())\n",
        "sns.countplot(x='sub_grade',data=df,order = subgrade_order,palette='coolwarm' ,hue='loan_status')"
      ]
    },
    {
      "cell_type": "markdown",
      "metadata": {
        "id": "tEu4BW0ORhaB"
      },
      "source": [
        "**TASK: F and G subgrades don't get paid back that often. Isloate those and recreate the countplot just for those subgrades.**"
      ]
    },
    {
      "cell_type": "code",
      "execution_count": 36,
      "metadata": {
        "colab": {
          "base_uri": "https://localhost:8080/",
          "height": 297
        },
        "id": "xhgPVHXdRhaB",
        "outputId": "a3258b66-b2df-4905-9d0d-ac2e50fd997f"
      },
      "outputs": [
        {
          "data": {
            "text/plain": [
              "<AxesSubplot:xlabel='sub_grade', ylabel='count'>"
            ]
          },
          "execution_count": 36,
          "metadata": {},
          "output_type": "execute_result"
        },
        {
          "data": {
            "image/png": "[encoded data removed]",
            "text/plain": [
              "<Figure size 864x288 with 1 Axes>"
            ]
          },
          "metadata": {
            "needs_background": "light"
          },
          "output_type": "display_data"
        }
      ],
      "source": [
        "# filtering\n",
        "f_and_g = df[(df['grade']=='G') | (df['grade']=='F')]\n",
        "\n",
        "plt.figure(figsize=(12,4))\n",
        "subgrade_order = sorted(f_and_g['sub_grade'].unique())\n",
        "sns.countplot(x='sub_grade',data=f_and_g,order = subgrade_order,hue='loan_status')"
      ]
    },
    {
      "cell_type": "markdown",
      "metadata": {
        "id": "kFsvFO6tRhaC"
      },
      "source": [
        "**TASK: Create a new column called 'load_repaid' which will contain a 1 if the loan status was \"Fully Paid\" and a 0 if it was \"Charged Off\".**"
      ]
    },
    {
      "cell_type": "code",
      "execution_count": 37,
      "metadata": {
        "colab": {
          "base_uri": "https://localhost:8080/"
        },
        "id": "7FZStuEqRhaC",
        "outputId": "8ef37833-724b-4225-bfbe-3ed9bccc3640"
      },
      "outputs": [
        {
          "data": {
            "text/plain": [
              "array(['Fully Paid', 'Charged Off'], dtype=object)"
            ]
          },
          "execution_count": 37,
          "metadata": {},
          "output_type": "execute_result"
        }
      ],
      "source": [
        "df['loan_status'].unique()"
      ]
    },
    {
      "cell_type": "code",
      "execution_count": 38,
      "metadata": {
        "id": "QlB7bh5WRhaC"
      },
      "outputs": [],
      "source": [
        "df['loan_repaid'] = df['loan_status'].map({'Fully Paid':1,'Charged Off':0})"
      ]
    },
    {
      "cell_type": "code",
      "execution_count": 39,
      "metadata": {
        "colab": {
          "base_uri": "https://localhost:8080/",
          "height": 424
        },
        "id": "hIu-bkKKRhaC",
        "outputId": "c1fc1e85-8b7b-47d0-ce5d-6c9c50641c47"
      },
      "outputs": [
        {
          "data": {
            "text/html": [
              "\n",
              "  <div id=\"df-d942e5f3-dcf0-41f3-9c9a-3bdfc940b947\">\n",
              "    <div class=\"colab-df-container\">\n",
              "      <div>\n",
              "<style scoped>\n",
              "    .dataframe tbody tr th:only-of-type {\n",
              "        vertical-align: middle;\n",
              "    }\n",
              "\n",
              "    .dataframe tbody tr th {\n",
              "        vertical-align: top;\n",
              "    }\n",
              "\n",
              "    .dataframe thead th {\n",
              "        text-align: right;\n",
              "    }\n",
              "</style>\n",
              "<table border=\"1\" class=\"dataframe\">\n",
              "  <thead>\n",
              "    <tr style=\"text-align: right;\">\n",
              "      <th></th>\n",
              "      <th>loan_repaid</th>\n",
              "      <th>loan_status</th>\n",
              "    </tr>\n",
              "  </thead>\n",
              "  <tbody>\n",
              "    <tr>\n",
              "      <th>0</th>\n",
              "      <td>1</td>\n",
              "      <td>Fully Paid</td>\n",
              "    </tr>\n",
              "    <tr>\n",
              "      <th>1</th>\n",
              "      <td>1</td>\n",
              "      <td>Fully Paid</td>\n",
              "    </tr>\n",
              "    <tr>\n",
              "      <th>2</th>\n",
              "      <td>1</td>\n",
              "      <td>Fully Paid</td>\n",
              "    </tr>\n",
              "    <tr>\n",
              "      <th>3</th>\n",
              "      <td>1</td>\n",
              "      <td>Fully Paid</td>\n",
              "    </tr>\n",
              "    <tr>\n",
              "      <th>4</th>\n",
              "      <td>0</td>\n",
              "      <td>Charged Off</td>\n",
              "    </tr>\n",
              "    <tr>\n",
              "      <th>...</th>\n",
              "      <td>...</td>\n",
              "      <td>...</td>\n",
              "    </tr>\n",
              "    <tr>\n",
              "      <th>396025</th>\n",
              "      <td>1</td>\n",
              "      <td>Fully Paid</td>\n",
              "    </tr>\n",
              "    <tr>\n",
              "      <th>396026</th>\n",
              "      <td>1</td>\n",
              "      <td>Fully Paid</td>\n",
              "    </tr>\n",
              "    <tr>\n",
              "      <th>396027</th>\n",
              "      <td>1</td>\n",
              "      <td>Fully Paid</td>\n",
              "    </tr>\n",
              "    <tr>\n",
              "      <th>396028</th>\n",
              "      <td>1</td>\n",
              "      <td>Fully Paid</td>\n",
              "    </tr>\n",
              "    <tr>\n",
              "      <th>396029</th>\n",
              "      <td>1</td>\n",
              "      <td>Fully Paid</td>\n",
              "    </tr>\n",
              "  </tbody>\n",
              "</table>\n",
              "<p>396030 rows × 2 columns</p>\n",
              "</div>\n",
              "      <button class=\"colab-df-convert\" onclick=\"convertToInteractive('df-d942e5f3-dcf0-41f3-9c9a-3bdfc940b947')\"\n",
              "              title=\"Convert this dataframe to an interactive table.\"\n",
              "              style=\"display:none;\">\n",
              "        \n",
              "  <svg xmlns=\"http://www.w3.org/2000/svg\" height=\"24px\"viewBox=\"0 0 24 24\"\n",
              "       width=\"24px\">\n",
              "    <path d=\"M0 0h24v24H0V0z\" fill=\"none\"/>\n",
              "    <path d=\"M18.56 5.44l.94 2.06.94-2.06 2.06-.94-2.06-.94-.94-2.06-.94 2.06-2.06.94zm-11 1L8.5 8.5l.94-2.06 2.06-.94-2.06-.94L8.5 2.5l-.94 2.06-2.06.94zm10 10l.94 2.06.94-2.06 2.06-.94-2.06-.94-.94-2.06-.94 2.06-2.06.94z\"/><path d=\"M17.41 7.96l-1.37-1.37c-.4-.4-.92-.59-1.43-.59-.52 0-1.04.2-1.43.59L10.3 9.45l-7.72 7.72c-.78.78-.78 2.05 0 2.83L4 21.41c.39.39.9.59 1.41.59.51 0 1.02-.2 1.41-.59l7.78-7.78 2.81-2.81c.8-.78.8-2.07 0-2.86zM5.41 20L4 18.59l7.72-7.72 1.47 1.35L5.41 20z\"/>\n",
              "  </svg>\n",
              "      </button>\n",
              "      \n",
              "  <style>\n",
              "    .colab-df-container {\n",
              "      display:flex;\n",
              "      flex-wrap:wrap;\n",
              "      gap: 12px;\n",
              "    }\n",
              "\n",
              "    .colab-df-convert {\n",
              "      background-color: #E8F0FE;\n",
              "      border: none;\n",
              "      border-radius: 50%;\n",
              "      cursor: pointer;\n",
              "      display: none;\n",
              "      fill: #1967D2;\n",
              "      height: 32px;\n",
              "      padding: 0 0 0 0;\n",
              "      width: 32px;\n",
              "    }\n",
              "\n",
              "    .colab-df-convert:hover {\n",
              "      background-color: #E2EBFA;\n",
              "      box-shadow: 0px 1px 2px rgba(60, 64, 67, 0.3), 0px 1px 3px 1px rgba(60, 64, 67, 0.15);\n",
              "      fill: #174EA6;\n",
              "    }\n",
              "\n",
              "    [theme=dark] .colab-df-convert {\n",
              "      background-color: #3B4455;\n",
              "      fill: #D2E3FC;\n",
              "    }\n",
              "\n",
              "    [theme=dark] .colab-df-convert:hover {\n",
              "      background-color: #434B5C;\n",
              "      box-shadow: 0px 1px 3px 1px rgba(0, 0, 0, 0.15);\n",
              "      filter: drop-shadow(0px 1px 2px rgba(0, 0, 0, 0.3));\n",
              "      fill: #FFFFFF;\n",
              "    }\n",
              "  </style>\n",
              "\n",
              "      <script>\n",
              "        const buttonEl =\n",
              "          document.querySelector('#df-d942e5f3-dcf0-41f3-9c9a-3bdfc940b947 button.colab-df-convert');\n",
              "        buttonEl.style.display =\n",
              "          google.colab.kernel.accessAllowed ? 'block' : 'none';\n",
              "\n",
              "        async function convertToInteractive(key) {\n",
              "          const element = document.querySelector('#df-d942e5f3-dcf0-41f3-9c9a-3bdfc940b947');\n",
              "          const dataTable =\n",
              "            await google.colab.kernel.invokeFunction('convertToInteractive',\n",
              "                                                     [key], {});\n",
              "          if (!dataTable) return;\n",
              "\n",
              "          const docLinkHtml = 'Like what you see? Visit the ' +\n",
              "            '<a target=\"_blank\" href=https://colab.research.google.com/notebooks/data_table.ipynb>data table notebook</a>'\n",
              "            + ' to learn more about interactive tables.';\n",
              "          element.innerHTML = '';\n",
              "          dataTable['output_type'] = 'display_data';\n",
              "          await google.colab.output.renderOutput(dataTable, element);\n",
              "          const docLink = document.createElement('div');\n",
              "          docLink.innerHTML = docLinkHtml;\n",
              "          element.appendChild(docLink);\n",
              "        }\n",
              "      </script>\n",
              "    </div>\n",
              "  </div>\n",
              "  "
            ],
            "text/plain": [
              "        loan_repaid  loan_status\n",
              "0                 1   Fully Paid\n",
              "1                 1   Fully Paid\n",
              "2                 1   Fully Paid\n",
              "3                 1   Fully Paid\n",
              "4                 0  Charged Off\n",
              "...             ...          ...\n",
              "396025            1   Fully Paid\n",
              "396026            1   Fully Paid\n",
              "396027            1   Fully Paid\n",
              "396028            1   Fully Paid\n",
              "396029            1   Fully Paid\n",
              "\n",
              "[396030 rows x 2 columns]"
            ]
          },
          "execution_count": 39,
          "metadata": {},
          "output_type": "execute_result"
        }
      ],
      "source": [
        "df[['loan_repaid','loan_status']]"
      ]
    },
    {
      "cell_type": "markdown",
      "metadata": {
        "id": "ayd15EmWRhaD"
      },
      "source": [
        "**TASK: Create a bar plot showing the correlation of the numeric features to the new loan_repaid column. [Helpful Link](https://pandas.pydata.org/pandas-docs/stable/reference/api/pandas.DataFrame.plot.bar.html)**"
      ]
    },
    {
      "cell_type": "code",
      "execution_count": 40,
      "metadata": {
        "colab": {
          "base_uri": "https://localhost:8080/",
          "height": 382
        },
        "id": "fOyJTVOhRhaD",
        "outputId": "95c78fea-4a44-4922-906d-a0e02b06b1cb"
      },
      "outputs": [
        {
          "data": {
            "text/plain": [
              "<AxesSubplot:>"
            ]
          },
          "execution_count": 40,
          "metadata": {},
          "output_type": "execute_result"
        },
        {
          "data": {
            "image/png": "[encoded data removed]",
            "text/plain": [
              "<Figure size 432x288 with 1 Axes>"
            ]
          },
          "metadata": {
            "needs_background": "light"
          },
          "output_type": "display_data"
        }
      ],
      "source": [
        "df.corr()['loan_repaid'].sort_values().drop('loan_repaid').plot(kind='bar')"
      ]
    },
    {
      "cell_type": "markdown",
      "metadata": {
        "id": "YuxfQtKSRhaD"
      },
      "source": [
        "# Section 2: Data PreProcessing\n",
        "\n",
        "**Goals: Remove or fill any missing data. Remove unnecessary or repetitive features. Convert categorical string features to dummy variables.**\n",
        "\n"
      ]
    },
    {
      "cell_type": "code",
      "execution_count": 41,
      "metadata": {
        "colab": {
          "base_uri": "https://localhost:8080/",
          "height": 444
        },
        "id": "mrH9ob_VRhaD",
        "outputId": "c7448dbf-b73c-4de9-e4d6-7b2dba7614a1"
      },
      "outputs": [
        {
          "data": {
            "text/html": [
              "\n",
              "  <div id=\"df-9c437ce1-bd7d-452f-9b9e-b53994006fa6\">\n",
              "    <div class=\"colab-df-container\">\n",
              "      <div>\n",
              "<style scoped>\n",
              "    .dataframe tbody tr th:only-of-type {\n",
              "        vertical-align: middle;\n",
              "    }\n",
              "\n",
              "    .dataframe tbody tr th {\n",
              "        vertical-align: top;\n",
              "    }\n",
              "\n",
              "    .dataframe thead th {\n",
              "        text-align: right;\n",
              "    }\n",
              "</style>\n",
              "<table border=\"1\" class=\"dataframe\">\n",
              "  <thead>\n",
              "    <tr style=\"text-align: right;\">\n",
              "      <th></th>\n",
              "      <th>loan_amnt</th>\n",
              "      <th>term</th>\n",
              "      <th>int_rate</th>\n",
              "      <th>installment</th>\n",
              "      <th>grade</th>\n",
              "      <th>sub_grade</th>\n",
              "      <th>emp_title</th>\n",
              "      <th>emp_length</th>\n",
              "      <th>home_ownership</th>\n",
              "      <th>annual_inc</th>\n",
              "      <th>verification_status</th>\n",
              "      <th>issue_d</th>\n",
              "      <th>loan_status</th>\n",
              "      <th>purpose</th>\n",
              "      <th>title</th>\n",
              "      <th>dti</th>\n",
              "      <th>earliest_cr_line</th>\n",
              "      <th>open_acc</th>\n",
              "      <th>pub_rec</th>\n",
              "      <th>revol_bal</th>\n",
              "      <th>revol_util</th>\n",
              "      <th>total_acc</th>\n",
              "      <th>initial_list_status</th>\n",
              "      <th>application_type</th>\n",
              "      <th>mort_acc</th>\n",
              "      <th>pub_rec_bankruptcies</th>\n",
              "      <th>address</th>\n",
              "      <th>loan_repaid</th>\n",
              "    </tr>\n",
              "  </thead>\n",
              "  <tbody>\n",
              "    <tr>\n",
              "      <th>0</th>\n",
              "      <td>10000.0</td>\n",
              "      <td>36 months</td>\n",
              "      <td>11.44</td>\n",
              "      <td>329.48</td>\n",
              "      <td>B</td>\n",
              "      <td>B4</td>\n",
              "      <td>Marketing</td>\n",
              "      <td>10+ years</td>\n",
              "      <td>RENT</td>\n",
              "      <td>117000.0</td>\n",
              "      <td>Not Verified</td>\n",
              "      <td>Jan-2015</td>\n",
              "      <td>Fully Paid</td>\n",
              "      <td>vacation</td>\n",
              "      <td>Vacation</td>\n",
              "      <td>26.24</td>\n",
              "      <td>Jun-1990</td>\n",
              "      <td>16.0</td>\n",
              "      <td>0.0</td>\n",
              "      <td>36369.0</td>\n",
              "      <td>41.8</td>\n",
              "      <td>25.0</td>\n",
              "      <td>w</td>\n",
              "      <td>INDIVIDUAL</td>\n",
              "      <td>0.0</td>\n",
              "      <td>0.0</td>\n",
              "      <td>0174 Michelle Gateway\\nMendozaberg, OK 22690</td>\n",
              "      <td>1</td>\n",
              "    </tr>\n",
              "    <tr>\n",
              "      <th>1</th>\n",
              "      <td>8000.0</td>\n",
              "      <td>36 months</td>\n",
              "      <td>11.99</td>\n",
              "      <td>265.68</td>\n",
              "      <td>B</td>\n",
              "      <td>B5</td>\n",
              "      <td>Credit analyst</td>\n",
              "      <td>4 years</td>\n",
              "      <td>MORTGAGE</td>\n",
              "      <td>65000.0</td>\n",
              "      <td>Not Verified</td>\n",
              "      <td>Jan-2015</td>\n",
              "      <td>Fully Paid</td>\n",
              "      <td>debt_consolidation</td>\n",
              "      <td>Debt consolidation</td>\n",
              "      <td>22.05</td>\n",
              "      <td>Jul-2004</td>\n",
              "      <td>17.0</td>\n",
              "      <td>0.0</td>\n",
              "      <td>20131.0</td>\n",
              "      <td>53.3</td>\n",
              "      <td>27.0</td>\n",
              "      <td>f</td>\n",
              "      <td>INDIVIDUAL</td>\n",
              "      <td>3.0</td>\n",
              "      <td>0.0</td>\n",
              "      <td>1076 Carney Fort Apt. 347\\nLoganmouth, SD 05113</td>\n",
              "      <td>1</td>\n",
              "    </tr>\n",
              "    <tr>\n",
              "      <th>2</th>\n",
              "      <td>15600.0</td>\n",
              "      <td>36 months</td>\n",
              "      <td>10.49</td>\n",
              "      <td>506.97</td>\n",
              "      <td>B</td>\n",
              "      <td>B3</td>\n",
              "      <td>Statistician</td>\n",
              "      <td>&lt; 1 year</td>\n",
              "      <td>RENT</td>\n",
              "      <td>43057.0</td>\n",
              "      <td>Source Verified</td>\n",
              "      <td>Jan-2015</td>\n",
              "      <td>Fully Paid</td>\n",
              "      <td>credit_card</td>\n",
              "      <td>Credit card refinancing</td>\n",
              "      <td>12.79</td>\n",
              "      <td>Aug-2007</td>\n",
              "      <td>13.0</td>\n",
              "      <td>0.0</td>\n",
              "      <td>11987.0</td>\n",
              "      <td>92.2</td>\n",
              "      <td>26.0</td>\n",
              "      <td>f</td>\n",
              "      <td>INDIVIDUAL</td>\n",
              "      <td>0.0</td>\n",
              "      <td>0.0</td>\n",
              "      <td>87025 Mark Dale Apt. 269\\nNew Sabrina, WV 05113</td>\n",
              "      <td>1</td>\n",
              "    </tr>\n",
              "    <tr>\n",
              "      <th>3</th>\n",
              "      <td>7200.0</td>\n",
              "      <td>36 months</td>\n",
              "      <td>6.49</td>\n",
              "      <td>220.65</td>\n",
              "      <td>A</td>\n",
              "      <td>A2</td>\n",
              "      <td>Client Advocate</td>\n",
              "      <td>6 years</td>\n",
              "      <td>RENT</td>\n",
              "      <td>54000.0</td>\n",
              "      <td>Not Verified</td>\n",
              "      <td>Nov-2014</td>\n",
              "      <td>Fully Paid</td>\n",
              "      <td>credit_card</td>\n",
              "      <td>Credit card refinancing</td>\n",
              "      <td>2.60</td>\n",
              "      <td>Sep-2006</td>\n",
              "      <td>6.0</td>\n",
              "      <td>0.0</td>\n",
              "      <td>5472.0</td>\n",
              "      <td>21.5</td>\n",
              "      <td>13.0</td>\n",
              "      <td>f</td>\n",
              "      <td>INDIVIDUAL</td>\n",
              "      <td>0.0</td>\n",
              "      <td>0.0</td>\n",
              "      <td>823 Reid Ford\\nDelacruzside, MA 00813</td>\n",
              "      <td>1</td>\n",
              "    </tr>\n",
              "    <tr>\n",
              "      <th>4</th>\n",
              "      <td>24375.0</td>\n",
              "      <td>60 months</td>\n",
              "      <td>17.27</td>\n",
              "      <td>609.33</td>\n",
              "      <td>C</td>\n",
              "      <td>C5</td>\n",
              "      <td>Destiny Management Inc.</td>\n",
              "      <td>9 years</td>\n",
              "      <td>MORTGAGE</td>\n",
              "      <td>55000.0</td>\n",
              "      <td>Verified</td>\n",
              "      <td>Apr-2013</td>\n",
              "      <td>Charged Off</td>\n",
              "      <td>credit_card</td>\n",
              "      <td>Credit Card Refinance</td>\n",
              "      <td>33.95</td>\n",
              "      <td>Mar-1999</td>\n",
              "      <td>13.0</td>\n",
              "      <td>0.0</td>\n",
              "      <td>24584.0</td>\n",
              "      <td>69.8</td>\n",
              "      <td>43.0</td>\n",
              "      <td>f</td>\n",
              "      <td>INDIVIDUAL</td>\n",
              "      <td>1.0</td>\n",
              "      <td>0.0</td>\n",
              "      <td>679 Luna Roads\\nGreggshire, VA 11650</td>\n",
              "      <td>0</td>\n",
              "    </tr>\n",
              "  </tbody>\n",
              "</table>\n",
              "</div>\n",
              "      <button class=\"colab-df-convert\" onclick=\"convertToInteractive('df-9c437ce1-bd7d-452f-9b9e-b53994006fa6')\"\n",
              "              title=\"Convert this dataframe to an interactive table.\"\n",
              "              style=\"display:none;\">\n",
              "        \n",
              "  <svg xmlns=\"http://www.w3.org/2000/svg\" height=\"24px\"viewBox=\"0 0 24 24\"\n",
              "       width=\"24px\">\n",
              "    <path d=\"M0 0h24v24H0V0z\" fill=\"none\"/>\n",
              "    <path d=\"M18.56 5.44l.94 2.06.94-2.06 2.06-.94-2.06-.94-.94-2.06-.94 2.06-2.06.94zm-11 1L8.5 8.5l.94-2.06 2.06-.94-2.06-.94L8.5 2.5l-.94 2.06-2.06.94zm10 10l.94 2.06.94-2.06 2.06-.94-2.06-.94-.94-2.06-.94 2.06-2.06.94z\"/><path d=\"M17.41 7.96l-1.37-1.37c-.4-.4-.92-.59-1.43-.59-.52 0-1.04.2-1.43.59L10.3 9.45l-7.72 7.72c-.78.78-.78 2.05 0 2.83L4 21.41c.39.39.9.59 1.41.59.51 0 1.02-.2 1.41-.59l7.78-7.78 2.81-2.81c.8-.78.8-2.07 0-2.86zM5.41 20L4 18.59l7.72-7.72 1.47 1.35L5.41 20z\"/>\n",
              "  </svg>\n",
              "      </button>\n",
              "      \n",
              "  <style>\n",
              "    .colab-df-container {\n",
              "      display:flex;\n",
              "      flex-wrap:wrap;\n",
              "      gap: 12px;\n",
              "    }\n",
              "\n",
              "    .colab-df-convert {\n",
              "      background-color: #E8F0FE;\n",
              "      border: none;\n",
              "      border-radius: 50%;\n",
              "      cursor: pointer;\n",
              "      display: none;\n",
              "      fill: #1967D2;\n",
              "      height: 32px;\n",
              "      padding: 0 0 0 0;\n",
              "      width: 32px;\n",
              "    }\n",
              "\n",
              "    .colab-df-convert:hover {\n",
              "      background-color: #E2EBFA;\n",
              "      box-shadow: 0px 1px 2px rgba(60, 64, 67, 0.3), 0px 1px 3px 1px rgba(60, 64, 67, 0.15);\n",
              "      fill: #174EA6;\n",
              "    }\n",
              "\n",
              "    [theme=dark] .colab-df-convert {\n",
              "      background-color: #3B4455;\n",
              "      fill: #D2E3FC;\n",
              "    }\n",
              "\n",
              "    [theme=dark] .colab-df-convert:hover {\n",
              "      background-color: #434B5C;\n",
              "      box-shadow: 0px 1px 3px 1px rgba(0, 0, 0, 0.15);\n",
              "      filter: drop-shadow(0px 1px 2px rgba(0, 0, 0, 0.3));\n",
              "      fill: #FFFFFF;\n",
              "    }\n",
              "  </style>\n",
              "\n",
              "      <script>\n",
              "        const buttonEl =\n",
              "          document.querySelector('#df-9c437ce1-bd7d-452f-9b9e-b53994006fa6 button.colab-df-convert');\n",
              "        buttonEl.style.display =\n",
              "          google.colab.kernel.accessAllowed ? 'block' : 'none';\n",
              "\n",
              "        async function convertToInteractive(key) {\n",
              "          const element = document.querySelector('#df-9c437ce1-bd7d-452f-9b9e-b53994006fa6');\n",
              "          const dataTable =\n",
              "            await google.colab.kernel.invokeFunction('convertToInteractive',\n",
              "                                                     [key], {});\n",
              "          if (!dataTable) return;\n",
              "\n",
              "          const docLinkHtml = 'Like what you see? Visit the ' +\n",
              "            '<a target=\"_blank\" href=https://colab.research.google.com/notebooks/data_table.ipynb>data table notebook</a>'\n",
              "            + ' to learn more about interactive tables.';\n",
              "          element.innerHTML = '';\n",
              "          dataTable['output_type'] = 'display_data';\n",
              "          await google.colab.output.renderOutput(dataTable, element);\n",
              "          const docLink = document.createElement('div');\n",
              "          docLink.innerHTML = docLinkHtml;\n",
              "          element.appendChild(docLink);\n",
              "        }\n",
              "      </script>\n",
              "    </div>\n",
              "  </div>\n",
              "  "
            ],
            "text/plain": [
              "   loan_amnt  ... loan_repaid\n",
              "0    10000.0  ...           1\n",
              "1     8000.0  ...           1\n",
              "2    15600.0  ...           1\n",
              "3     7200.0  ...           1\n",
              "4    24375.0  ...           0\n",
              "\n",
              "[5 rows x 28 columns]"
            ]
          },
          "execution_count": 41,
          "metadata": {},
          "output_type": "execute_result"
        }
      ],
      "source": [
        "df.head()"
      ]
    },
    {
      "cell_type": "markdown",
      "metadata": {
        "id": "IpFhgrxVRhaE"
      },
      "source": [
        "# Missing Data\n",
        "\n",
        "**Let's explore this missing data columns. We use a variety of factors to decide whether or not they would be useful, to see if we should keep, discard, or fill in the missing data.**"
      ]
    },
    {
      "cell_type": "markdown",
      "metadata": {
        "id": "8953hYUwRhaE"
      },
      "source": [
        "**TASK: What is the length of the dataframe?**"
      ]
    },
    {
      "cell_type": "code",
      "execution_count": 42,
      "metadata": {
        "colab": {
          "base_uri": "https://localhost:8080/"
        },
        "id": "Xmt_Hs8kRhaE",
        "outputId": "1cfbeba6-abf5-4dd5-8225-7f78e076f53f"
      },
      "outputs": [
        {
          "data": {
            "text/plain": [
              "396030"
            ]
          },
          "execution_count": 42,
          "metadata": {},
          "output_type": "execute_result"
        }
      ],
      "source": [
        "len(df)"
      ]
    },
    {
      "cell_type": "markdown",
      "metadata": {
        "id": "h616QCkbRhaE"
      },
      "source": [
        "**TASK: Create a Series that displays the total count of missing values per column.**"
      ]
    },
    {
      "cell_type": "code",
      "execution_count": 44,
      "metadata": {
        "colab": {
          "base_uri": "https://localhost:8080/",
          "height": 490
        },
        "id": "bnyK7eWVrsJc",
        "outputId": "970aa140-256a-474d-a7d2-a3779a629c83"
      },
      "outputs": [
        {
          "data": {
            "text/plain": [
              "<AxesSubplot:>"
            ]
          },
          "execution_count": 44,
          "metadata": {},
          "output_type": "execute_result"
        },
        {
          "data": {
            "image/png": "[encoded data removed]",
            "text/plain": [
              "<Figure size 864x432 with 1 Axes>"
            ]
          },
          "metadata": {
            "needs_background": "light"
          },
          "output_type": "display_data"
        }
      ],
      "source": [
        "plt.figure(figsize=(12,6))\n",
        "sns.heatmap(df.isnull(),yticklabels=False,cbar=False,cmap='viridis')"
      ]
    },
    {
      "cell_type": "code",
      "execution_count": 43,
      "metadata": {
        "colab": {
          "base_uri": "https://localhost:8080/"
        },
        "id": "JbjgU9VYRhaF",
        "outputId": "2df621fe-ab18-4315-e64d-9783745ff2c0"
      },
      "outputs": [
        {
          "data": {
            "text/plain": [
              "loan_amnt                   0\n",
              "term                        0\n",
              "int_rate                    0\n",
              "installment                 0\n",
              "grade                       0\n",
              "sub_grade                   0\n",
              "emp_title               22927\n",
              "emp_length              18301\n",
              "home_ownership              0\n",
              "annual_inc                  0\n",
              "verification_status         0\n",
              "issue_d                     0\n",
              "loan_status                 0\n",
              "purpose                     0\n",
              "title                    1755\n",
              "dti                         0\n",
              "earliest_cr_line            0\n",
              "open_acc                    0\n",
              "pub_rec                     0\n",
              "revol_bal                   0\n",
              "revol_util                276\n",
              "total_acc                   0\n",
              "initial_list_status         0\n",
              "application_type            0\n",
              "mort_acc                37795\n",
              "pub_rec_bankruptcies      535\n",
              "address                     0\n",
              "loan_repaid                 0\n",
              "dtype: int64"
            ]
          },
          "execution_count": 43,
          "metadata": {},
          "output_type": "execute_result"
        }
      ],
      "source": [
        "df.isnull().sum()"
      ]
    },
    {
      "cell_type": "markdown",
      "metadata": {
        "id": "yl3oQVSiRhaF"
      },
      "source": [
        "**TASK: Convert this Series to be in term of percentage of the total DataFrame**"
      ]
    },
    {
      "cell_type": "code",
      "execution_count": 45,
      "metadata": {
        "colab": {
          "base_uri": "https://localhost:8080/"
        },
        "id": "vg9fECb9RhaF",
        "outputId": "88c4954f-bf29-4d2c-de4f-42a32970c400"
      },
      "outputs": [
        {
          "data": {
            "text/plain": [
              "loan_amnt               0.000000\n",
              "term                    0.000000\n",
              "int_rate                0.000000\n",
              "installment             0.000000\n",
              "grade                   0.000000\n",
              "sub_grade               0.000000\n",
              "emp_title               5.789208\n",
              "emp_length              4.621115\n",
              "home_ownership          0.000000\n",
              "annual_inc              0.000000\n",
              "verification_status     0.000000\n",
              "issue_d                 0.000000\n",
              "loan_status             0.000000\n",
              "purpose                 0.000000\n",
              "title                   0.443148\n",
              "dti                     0.000000\n",
              "earliest_cr_line        0.000000\n",
              "open_acc                0.000000\n",
              "pub_rec                 0.000000\n",
              "revol_bal               0.000000\n",
              "revol_util              0.069692\n",
              "total_acc               0.000000\n",
              "initial_list_status     0.000000\n",
              "application_type        0.000000\n",
              "mort_acc                9.543469\n",
              "pub_rec_bankruptcies    0.135091\n",
              "address                 0.000000\n",
              "loan_repaid             0.000000\n",
              "dtype: float64"
            ]
          },
          "execution_count": 45,
          "metadata": {},
          "output_type": "execute_result"
        }
      ],
      "source": [
        "100* df.isnull().sum() / len(df)"
      ]
    },
    {
      "cell_type": "markdown",
      "metadata": {
        "id": "BFSvre-4RhaF"
      },
      "source": [
        "**TASK: Let's examine emp_title and emp_length to see whether it will be okay to drop them. Print out their feature information using the feat_info() function from the top of this notebook.**"
      ]
    },
    {
      "cell_type": "code",
      "execution_count": 46,
      "metadata": {
        "colab": {
          "base_uri": "https://localhost:8080/"
        },
        "id": "BrvjH904RhaG",
        "outputId": "24b8b559-7121-41ce-f661-f2936d54629a"
      },
      "outputs": [
        {
          "name": "stdout",
          "output_type": "stream",
          "text": [
            "The job title supplied by the Borrower when applying for the loan.*\n",
            "\n",
            "\n",
            "Employment length in years. Possible values are between 0 and 10 where 0 means less than one year and 10 means ten or more years. \n"
          ]
        }
      ],
      "source": [
        "feat_info('emp_title')\n",
        "print('\\n')\n",
        "feat_info('emp_length')"
      ]
    },
    {
      "cell_type": "markdown",
      "metadata": {
        "id": "0hI3UQNhRhaG"
      },
      "source": [
        "**TASK: How many unique employment job titles are there?**"
      ]
    },
    {
      "cell_type": "code",
      "execution_count": 47,
      "metadata": {
        "colab": {
          "base_uri": "https://localhost:8080/"
        },
        "id": "8L--KbFORhaG",
        "outputId": "2333a402-0fb4-4d35-c638-ea6f413dcf65"
      },
      "outputs": [
        {
          "data": {
            "text/plain": [
              "173105"
            ]
          },
          "execution_count": 47,
          "metadata": {},
          "output_type": "execute_result"
        }
      ],
      "source": [
        "df['emp_title'].nunique()"
      ]
    },
    {
      "cell_type": "code",
      "execution_count": 48,
      "metadata": {
        "colab": {
          "base_uri": "https://localhost:8080/"
        },
        "id": "005QwKiQRhaG",
        "outputId": "8a07b7f5-bbb5-4567-b00d-3ab45e4a4490"
      },
      "outputs": [
        {
          "data": {
            "text/plain": [
              "Teacher                        4389\n",
              "Manager                        4250\n",
              "Registered Nurse               1856\n",
              "RN                             1846\n",
              "Supervisor                     1830\n",
              "                               ... \n",
              "Wright City School District       1\n",
              "Director, Product Marketing       1\n",
              "Hispanic Specialist               1\n",
              "Korean Airlines                   1\n",
              "Medford Mail Tribune              1\n",
              "Name: emp_title, Length: 173105, dtype: int64"
            ]
          },
          "execution_count": 48,
          "metadata": {},
          "output_type": "execute_result"
        }
      ],
      "source": [
        "df['emp_title'].value_counts()"
      ]
    },
    {
      "cell_type": "markdown",
      "metadata": {
        "id": "3KJuHvjjRhaH"
      },
      "source": [
        "**TASK: Realistically there are too many unique job titles to try to convert this to a dummy variable feature. Let's remove that emp_title column.**"
      ]
    },
    {
      "cell_type": "code",
      "execution_count": 49,
      "metadata": {
        "id": "86nKD7FrRhaH"
      },
      "outputs": [],
      "source": [
        "df = df.drop('emp_title',axis=1)"
      ]
    },
    {
      "cell_type": "markdown",
      "metadata": {
        "id": "gvZZZmH7RhaH"
      },
      "source": [
        "**TASK: Create a count plot of the emp_length feature column.**"
      ]
    },
    {
      "cell_type": "code",
      "execution_count": 50,
      "metadata": {
        "colab": {
          "base_uri": "https://localhost:8080/"
        },
        "id": "Cy6tb1EHRhaI",
        "outputId": "1ed4a223-823e-4759-c723-0dd1a6271c55"
      },
      "outputs": [
        {
          "data": {
            "text/plain": [
              "['1 year',\n",
              " '10+ years',\n",
              " '2 years',\n",
              " '3 years',\n",
              " '4 years',\n",
              " '5 years',\n",
              " '6 years',\n",
              " '7 years',\n",
              " '8 years',\n",
              " '9 years',\n",
              " '< 1 year']"
            ]
          },
          "execution_count": 50,
          "metadata": {},
          "output_type": "execute_result"
        }
      ],
      "source": [
        "sorted(df['emp_length'].dropna().unique())"
      ]
    },
    {
      "cell_type": "code",
      "execution_count": 51,
      "metadata": {
        "id": "GON4jLHqRhaI"
      },
      "outputs": [],
      "source": [
        "emp_length_order = [ '< 1 year',\n",
        "                      '1 year',\n",
        "                     '2 years',\n",
        "                     '3 years',\n",
        "                     '4 years',\n",
        "                     '5 years',\n",
        "                     '6 years',\n",
        "                     '7 years',\n",
        "                     '8 years',\n",
        "                     '9 years',\n",
        "                     '10+ years']"
      ]
    },
    {
      "cell_type": "code",
      "execution_count": 52,
      "metadata": {
        "colab": {
          "base_uri": "https://localhost:8080/",
          "height": 297
        },
        "id": "rZYMMvoJRhaI",
        "outputId": "16c55d1a-6cd0-4c1f-ea61-2251477bd887"
      },
      "outputs": [
        {
          "data": {
            "text/plain": [
              "<AxesSubplot:xlabel='emp_length', ylabel='count'>"
            ]
          },
          "execution_count": 52,
          "metadata": {},
          "output_type": "execute_result"
        },
        {
          "data": {
            "image/png": "[encoded data removed]",
            "text/plain": [
              "<Figure size 864x288 with 1 Axes>"
            ]
          },
          "metadata": {
            "needs_background": "light"
          },
          "output_type": "display_data"
        }
      ],
      "source": [
        "plt.figure(figsize=(12,4))\n",
        "\n",
        "sns.countplot(x='emp_length',data=df,order=emp_length_order)"
      ]
    },
    {
      "cell_type": "markdown",
      "metadata": {
        "id": "g8vPgbO0RhaJ"
      },
      "source": [
        "**TASK: Plot out the countplot with a hue separating Fully Paid vs Charged Off**"
      ]
    },
    {
      "cell_type": "code",
      "execution_count": 53,
      "metadata": {
        "colab": {
          "base_uri": "https://localhost:8080/",
          "height": 297
        },
        "id": "1v2K2EuMRhaJ",
        "outputId": "57b31915-efc2-42bb-9bd5-0cbad4880ad2"
      },
      "outputs": [
        {
          "data": {
            "text/plain": [
              "<AxesSubplot:xlabel='emp_length', ylabel='count'>"
            ]
          },
          "execution_count": 53,
          "metadata": {},
          "output_type": "execute_result"
        },
        {
          "data": {
            "image/png": "[encoded data removed]",
            "text/plain": [
              "<Figure size 864x288 with 1 Axes>"
            ]
          },
          "metadata": {
            "needs_background": "light"
          },
          "output_type": "display_data"
        }
      ],
      "source": [
        "plt.figure(figsize=(12,4))\n",
        "sns.countplot(x='emp_length',data=df,order=emp_length_order,hue='loan_status')"
      ]
    },
    {
      "cell_type": "markdown",
      "metadata": {
        "id": "wTNP4XJGRhaK"
      },
      "source": [
        "**TASK: This still doesn't really inform us if there is a strong relationship between employment length and being charged off, what we want is the percentage of charge offs per category. Essentially informing us what percent of people per employment category didn't pay back their loan. There are a multitude of ways to create this Series.**"
      ]
    },
    {
      "cell_type": "code",
      "execution_count": 56,
      "metadata": {
        "id": "RrCrJPRMRhaK"
      },
      "outputs": [],
      "source": [
        "emp_co = df[df['loan_status']==\"Charged Off\"].groupby(\"emp_length\").count()['loan_status']"
      ]
    },
    {
      "cell_type": "code",
      "execution_count": 58,
      "metadata": {
        "colab": {
          "base_uri": "https://localhost:8080/"
        },
        "id": "lrrFDdd0uvdd",
        "outputId": "af329a82-ac38-4e01-fb87-8f096679c85e"
      },
      "outputs": [
        {
          "data": {
            "text/plain": [
              "emp_length\n",
              "1 year        5154\n",
              "10+ years    23215\n",
              "2 years       6924\n",
              "3 years       6182\n",
              "4 years       4608\n",
              "Name: loan_status, dtype: int64"
            ]
          },
          "execution_count": 58,
          "metadata": {},
          "output_type": "execute_result"
        }
      ],
      "source": [
        "emp_co.head()"
      ]
    },
    {
      "cell_type": "code",
      "execution_count": 59,
      "metadata": {
        "id": "qQ8b5BZHRhaL"
      },
      "outputs": [],
      "source": [
        "emp_fp = df[df['loan_status']==\"Fully Paid\"].groupby(\"emp_length\").count()['loan_status']"
      ]
    },
    {
      "cell_type": "code",
      "execution_count": 60,
      "metadata": {
        "colab": {
          "base_uri": "https://localhost:8080/"
        },
        "id": "jD8CXY9fu3qs",
        "outputId": "76188dba-2d67-4822-9f48-b9bdb0621fbb"
      },
      "outputs": [
        {
          "data": {
            "text/plain": [
              "emp_length\n",
              "1 year        20728\n",
              "10+ years    102826\n",
              "2 years       28903\n",
              "3 years       25483\n",
              "4 years       19344\n",
              "Name: loan_status, dtype: int64"
            ]
          },
          "execution_count": 60,
          "metadata": {},
          "output_type": "execute_result"
        }
      ],
      "source": [
        "emp_fp.head()"
      ]
    },
    {
      "cell_type": "code",
      "execution_count": 61,
      "metadata": {
        "id": "C_gAaxfZRhaL"
      },
      "outputs": [],
      "source": [
        "emp_len = emp_co / emp_fp"
      ]
    },
    {
      "cell_type": "code",
      "execution_count": 62,
      "metadata": {
        "colab": {
          "base_uri": "https://localhost:8080/"
        },
        "id": "VZKs_vBfRhaL",
        "outputId": "c0711bb5-8e77-4f19-ad86-031c2c731969"
      },
      "outputs": [
        {
          "data": {
            "text/plain": [
              "emp_length\n",
              "1 year       0.248649\n",
              "10+ years    0.225770\n",
              "2 years      0.239560\n",
              "3 years      0.242593\n",
              "4 years      0.238213\n",
              "5 years      0.237911\n",
              "6 years      0.233341\n",
              "7 years      0.241887\n",
              "8 years      0.249625\n",
              "9 years      0.250735\n",
              "< 1 year     0.260830\n",
              "Name: loan_status, dtype: float64"
            ]
          },
          "execution_count": 62,
          "metadata": {},
          "output_type": "execute_result"
        }
      ],
      "source": [
        "emp_len"
      ]
    },
    {
      "cell_type": "code",
      "execution_count": 64,
      "metadata": {
        "id": "u4QL8ZiIvczi"
      },
      "outputs": [],
      "source": [
        "emp_co_percent = emp_co / (emp_co + emp_fp) * 100"
      ]
    },
    {
      "cell_type": "code",
      "execution_count": 65,
      "metadata": {
        "colab": {
          "base_uri": "https://localhost:8080/"
        },
        "id": "ony1OELvvuNR",
        "outputId": "1feabad1-a09c-43af-db25-8548de1ab437"
      },
      "outputs": [
        {
          "data": {
            "text/plain": [
              "emp_length\n",
              "1 year       19.913453\n",
              "10+ years    18.418610\n",
              "2 years      19.326206\n",
              "3 years      19.523133\n",
              "4 years      19.238477\n",
              "5 years      19.218721\n",
              "6 years      18.919438\n",
              "7 years      19.477400\n",
              "8 years      19.976002\n",
              "9 years      20.047016\n",
              "< 1 year     20.687155\n",
              "Name: loan_status, dtype: float64"
            ]
          },
          "execution_count": 65,
          "metadata": {},
          "output_type": "execute_result"
        }
      ],
      "source": [
        "emp_co_percent"
      ]
    },
    {
      "cell_type": "code",
      "execution_count": 67,
      "metadata": {
        "colab": {
          "base_uri": "https://localhost:8080/",
          "height": 339
        },
        "id": "JCT9-WT-RhaL",
        "outputId": "e84ad9c0-44f7-49d4-e5c9-78cbf56fbd1d"
      },
      "outputs": [
        {
          "data": {
            "text/plain": [
              "<AxesSubplot:xlabel='emp_length'>"
            ]
          },
          "execution_count": 67,
          "metadata": {},
          "output_type": "execute_result"
        },
        {
          "data": {
            "image/png": "[encoded data removed]",
            "text/plain": [
              "<Figure size 864x288 with 1 Axes>"
            ]
          },
          "metadata": {
            "needs_background": "light"
          },
          "output_type": "display_data"
        }
      ],
      "source": [
        "plt.figure(figsize=(12,4))\n",
        "emp_len.plot(kind='bar')"
      ]
    },
    {
      "cell_type": "markdown",
      "metadata": {
        "id": "VphvhGJfRhaM"
      },
      "source": [
        "**TASK: Charge off rates are extremely similar across all employment lengths. Go ahead and drop the emp_length column.**"
      ]
    },
    {
      "cell_type": "code",
      "execution_count": 68,
      "metadata": {
        "id": "sF19ZKXGRhaM"
      },
      "outputs": [],
      "source": [
        "df = df.drop('emp_length',axis=1)"
      ]
    },
    {
      "cell_type": "markdown",
      "metadata": {
        "id": "NPWJoGpgRhaM"
      },
      "source": [
        "**TASK: Revisit the DataFrame to see what feature columns still have missing data.**"
      ]
    },
    {
      "cell_type": "code",
      "execution_count": 69,
      "metadata": {
        "colab": {
          "base_uri": "https://localhost:8080/"
        },
        "id": "_R32btwuRhaM",
        "outputId": "6fc78c2a-31cc-403a-b488-82b65b6abc03"
      },
      "outputs": [
        {
          "data": {
            "text/plain": [
              "loan_amnt                   0\n",
              "term                        0\n",
              "int_rate                    0\n",
              "installment                 0\n",
              "grade                       0\n",
              "sub_grade                   0\n",
              "home_ownership              0\n",
              "annual_inc                  0\n",
              "verification_status         0\n",
              "issue_d                     0\n",
              "loan_status                 0\n",
              "purpose                     0\n",
              "title                    1755\n",
              "dti                         0\n",
              "earliest_cr_line            0\n",
              "open_acc                    0\n",
              "pub_rec                     0\n",
              "revol_bal                   0\n",
              "revol_util                276\n",
              "total_acc                   0\n",
              "initial_list_status         0\n",
              "application_type            0\n",
              "mort_acc                37795\n",
              "pub_rec_bankruptcies      535\n",
              "address                     0\n",
              "loan_repaid                 0\n",
              "dtype: int64"
            ]
          },
          "execution_count": 69,
          "metadata": {},
          "output_type": "execute_result"
        }
      ],
      "source": [
        "df.isnull().sum()"
      ]
    },
    {
      "cell_type": "markdown",
      "metadata": {
        "id": "oHXaL7BARhaN"
      },
      "source": [
        "**TASK: Review the title column vs the purpose column. Is this repeated information?**"
      ]
    },
    {
      "cell_type": "code",
      "execution_count": 72,
      "metadata": {
        "colab": {
          "base_uri": "https://localhost:8080/"
        },
        "id": "LWJZbB81x0Pk",
        "outputId": "441dc10b-af63-4dab-8043-55fe1d3f8d6e"
      },
      "outputs": [
        {
          "name": "stdout",
          "output_type": "stream",
          "text": [
            "A category provided by the borrower for the loan request. \n"
          ]
        }
      ],
      "source": [
        "feat_info('purpose')"
      ]
    },
    {
      "cell_type": "code",
      "execution_count": 73,
      "metadata": {
        "colab": {
          "base_uri": "https://localhost:8080/"
        },
        "id": "il48RoAax4a2",
        "outputId": "6705487b-2da6-431c-c5bf-b821a6e16452"
      },
      "outputs": [
        {
          "name": "stdout",
          "output_type": "stream",
          "text": [
            "The loan title provided by the borrower\n"
          ]
        }
      ],
      "source": [
        "feat_info('title')"
      ]
    },
    {
      "cell_type": "code",
      "execution_count": 70,
      "metadata": {
        "colab": {
          "base_uri": "https://localhost:8080/"
        },
        "id": "Q-rMtzQFRhaN",
        "outputId": "5522f41d-a7a3-44b6-a87c-72184a2763a6"
      },
      "outputs": [
        {
          "data": {
            "text/plain": [
              "0              vacation\n",
              "1    debt_consolidation\n",
              "2           credit_card\n",
              "3           credit_card\n",
              "4           credit_card\n",
              "5    debt_consolidation\n",
              "6      home_improvement\n",
              "7           credit_card\n",
              "8    debt_consolidation\n",
              "9    debt_consolidation\n",
              "Name: purpose, dtype: object"
            ]
          },
          "execution_count": 70,
          "metadata": {},
          "output_type": "execute_result"
        }
      ],
      "source": [
        "df['purpose'].head(10)"
      ]
    },
    {
      "cell_type": "code",
      "execution_count": 71,
      "metadata": {
        "colab": {
          "base_uri": "https://localhost:8080/"
        },
        "id": "TZEQQdQMRhaN",
        "outputId": "1ba6b82f-934f-41f3-ff3a-95382268e7aa"
      },
      "outputs": [
        {
          "data": {
            "text/plain": [
              "0                   Vacation\n",
              "1         Debt consolidation\n",
              "2    Credit card refinancing\n",
              "3    Credit card refinancing\n",
              "4      Credit Card Refinance\n",
              "5         Debt consolidation\n",
              "6           Home improvement\n",
              "7       No More Credit Cards\n",
              "8         Debt consolidation\n",
              "9         Debt Consolidation\n",
              "Name: title, dtype: object"
            ]
          },
          "execution_count": 71,
          "metadata": {},
          "output_type": "execute_result"
        }
      ],
      "source": [
        "df['title'].head(10)"
      ]
    },
    {
      "cell_type": "markdown",
      "metadata": {
        "id": "nH5uaivaRhaN"
      },
      "source": [
        "**TASK: The title column is simply a string subcategory/description of the purpose column. Drop the title column.**"
      ]
    },
    {
      "cell_type": "code",
      "execution_count": 74,
      "metadata": {
        "id": "nFiMS--fRhaO"
      },
      "outputs": [],
      "source": [
        "df = df.drop('title',axis=1)"
      ]
    },
    {
      "cell_type": "markdown",
      "metadata": {
        "id": "Tp6-aqFqRhaO"
      },
      "source": [
        "**TASK: Find out what the mort_acc feature represents**"
      ]
    },
    {
      "cell_type": "code",
      "execution_count": 78,
      "metadata": {
        "colab": {
          "base_uri": "https://localhost:8080/"
        },
        "id": "-hY7Py1gzDxs",
        "outputId": "9a30030c-dcc4-4732-def5-39fc4e087117"
      },
      "outputs": [
        {
          "data": {
            "text/plain": [
              "loan_amnt                   0\n",
              "term                        0\n",
              "int_rate                    0\n",
              "installment                 0\n",
              "grade                       0\n",
              "sub_grade                   0\n",
              "home_ownership              0\n",
              "annual_inc                  0\n",
              "verification_status         0\n",
              "issue_d                     0\n",
              "loan_status                 0\n",
              "purpose                     0\n",
              "dti                         0\n",
              "earliest_cr_line            0\n",
              "open_acc                    0\n",
              "pub_rec                     0\n",
              "revol_bal                   0\n",
              "revol_util                276\n",
              "total_acc                   0\n",
              "initial_list_status         0\n",
              "application_type            0\n",
              "mort_acc                37795\n",
              "pub_rec_bankruptcies      535\n",
              "address                     0\n",
              "loan_repaid                 0\n",
              "dtype: int64"
            ]
          },
          "execution_count": 78,
          "metadata": {},
          "output_type": "execute_result"
        }
      ],
      "source": [
        "df.isnull().sum()"
      ]
    },
    {
      "cell_type": "code",
      "execution_count": 75,
      "metadata": {
        "colab": {
          "base_uri": "https://localhost:8080/"
        },
        "id": "-KXXr5JpRhaO",
        "outputId": "b7c8056c-da3c-4a6e-a893-d3481232907d"
      },
      "outputs": [
        {
          "name": "stdout",
          "output_type": "stream",
          "text": [
            "Number of mortgage accounts.\n"
          ]
        }
      ],
      "source": [
        "feat_info('mort_acc')"
      ]
    },
    {
      "cell_type": "markdown",
      "metadata": {
        "id": "hcbucxxIRhaO"
      },
      "source": [
        "**TASK: Create a value_counts of the mort_acc column.**"
      ]
    },
    {
      "cell_type": "code",
      "execution_count": 76,
      "metadata": {
        "colab": {
          "base_uri": "https://localhost:8080/"
        },
        "id": "Pq_dux-3RhaP",
        "outputId": "f71b068d-88ab-4f3a-815b-7ca64acc87fa"
      },
      "outputs": [
        {
          "data": {
            "text/plain": [
              "0.0     139777\n",
              "1.0      60416\n",
              "2.0      49948\n",
              "3.0      38049\n",
              "4.0      27887\n",
              "5.0      18194\n",
              "6.0      11069\n",
              "7.0       6052\n",
              "8.0       3121\n",
              "9.0       1656\n",
              "10.0       865\n",
              "11.0       479\n",
              "12.0       264\n",
              "13.0       146\n",
              "14.0       107\n",
              "15.0        61\n",
              "16.0        37\n",
              "17.0        22\n",
              "18.0        18\n",
              "19.0        15\n",
              "20.0        13\n",
              "24.0        10\n",
              "22.0         7\n",
              "21.0         4\n",
              "25.0         4\n",
              "27.0         3\n",
              "23.0         2\n",
              "32.0         2\n",
              "26.0         2\n",
              "31.0         2\n",
              "30.0         1\n",
              "28.0         1\n",
              "34.0         1\n",
              "Name: mort_acc, dtype: int64"
            ]
          },
          "execution_count": 76,
          "metadata": {},
          "output_type": "execute_result"
        }
      ],
      "source": [
        "df['mort_acc'].value_counts()"
      ]
    },
    {
      "cell_type": "markdown",
      "metadata": {
        "id": "yOb0U-YXRhaP"
      },
      "source": [
        "**TASK: There are many ways we could deal with this missing data. We could attempt to build a simple model to fill it in, such as a linear model, we could just fill it in based on the mean of the other columns, or you could even bin the columns into categories and then set NaN as its own category. There is no 100% correct approach! Let's review the other columsn to see which most highly correlates to mort_acc**"
      ]
    },
    {
      "cell_type": "code",
      "execution_count": 77,
      "metadata": {
        "colab": {
          "base_uri": "https://localhost:8080/"
        },
        "id": "Y4EPe6OtRhaP",
        "outputId": "f4f91967-441b-4f60-a0db-3766284b181d"
      },
      "outputs": [
        {
          "name": "stdout",
          "output_type": "stream",
          "text": [
            "Correlation with the mort_acc column\n"
          ]
        },
        {
          "data": {
            "text/plain": [
              "int_rate               -0.082583\n",
              "dti                    -0.025439\n",
              "revol_util              0.007514\n",
              "pub_rec                 0.011552\n",
              "pub_rec_bankruptcies    0.027239\n",
              "loan_repaid             0.073111\n",
              "open_acc                0.109205\n",
              "installment             0.193694\n",
              "revol_bal               0.194925\n",
              "loan_amnt               0.222315\n",
              "annual_inc              0.236320\n",
              "total_acc               0.381072\n",
              "mort_acc                1.000000\n",
              "Name: mort_acc, dtype: float64"
            ]
          },
          "execution_count": 77,
          "metadata": {},
          "output_type": "execute_result"
        }
      ],
      "source": [
        "print(\"Correlation with the mort_acc column\")\n",
        "df.corr()['mort_acc'].sort_values()"
      ]
    },
    {
      "cell_type": "markdown",
      "metadata": {
        "id": "NR1wKOXyRhaP"
      },
      "source": [
        "**TASK: Looks like the total_acc feature correlates with the mort_acc , this makes sense! Let's try this fillna() approach. We will group the dataframe by the total_acc and calculate the mean value for the mort_acc per total_acc entry. To get the result below:**"
      ]
    },
    {
      "cell_type": "code",
      "execution_count": 79,
      "metadata": {
        "colab": {
          "base_uri": "https://localhost:8080/"
        },
        "id": "_-Zse9rTzK2L",
        "outputId": "f99fb82e-3c32-4d59-b26c-53e95aa9233c"
      },
      "outputs": [
        {
          "name": "stdout",
          "output_type": "stream",
          "text": [
            "The total number of credit lines currently in the borrower's credit file\n"
          ]
        }
      ],
      "source": [
        "feat_info('total_acc')"
      ]
    },
    {
      "cell_type": "code",
      "execution_count": 80,
      "metadata": {
        "colab": {
          "base_uri": "https://localhost:8080/"
        },
        "id": "1mcaWyqhRhaQ",
        "outputId": "de8cdba1-38f9-4295-abdb-f84b2d7dc53f"
      },
      "outputs": [
        {
          "name": "stdout",
          "output_type": "stream",
          "text": [
            "Mean of mort_acc column per total_acc\n"
          ]
        },
        {
          "data": {
            "text/plain": [
              "total_acc\n",
              "2.0      0.000000\n",
              "3.0      0.052023\n",
              "4.0      0.066743\n",
              "5.0      0.103289\n",
              "6.0      0.151293\n",
              "           ...   \n",
              "124.0    1.000000\n",
              "129.0    1.000000\n",
              "135.0    3.000000\n",
              "150.0    2.000000\n",
              "151.0    0.000000\n",
              "Name: mort_acc, Length: 118, dtype: float64"
            ]
          },
          "execution_count": 80,
          "metadata": {},
          "output_type": "execute_result"
        }
      ],
      "source": [
        "print(\"Mean of mort_acc column per total_acc\")\n",
        "df.groupby('total_acc').mean()['mort_acc']"
      ]
    },
    {
      "cell_type": "markdown",
      "metadata": {
        "id": "haI70WQuRhaQ"
      },
      "source": [
        "**TASK: Let's fill in the missing mort_acc values based on their total_acc value. If the mort_acc is missing, then we will fill in that missing value with the mean value corresponding to its total_acc value from the Series we created above.** \n",
        "\n",
        "This involves using an .apply() method with two columns."
      ]
    },
    {
      "cell_type": "code",
      "execution_count": 81,
      "metadata": {
        "id": "2hHZ8OTgRhaQ"
      },
      "outputs": [],
      "source": [
        "total_acc_avg = df.groupby('total_acc').mean()['mort_acc']"
      ]
    },
    {
      "cell_type": "code",
      "execution_count": 83,
      "metadata": {
        "colab": {
          "base_uri": "https://localhost:8080/"
        },
        "id": "F_tbmWcd0onC",
        "outputId": "f9abd14c-b376-4766-c29a-83ca13d43abd"
      },
      "outputs": [
        {
          "data": {
            "text/plain": [
              "total_acc\n",
              "2.0      0.000000\n",
              "3.0      0.052023\n",
              "4.0      0.066743\n",
              "5.0      0.103289\n",
              "6.0      0.151293\n",
              "           ...   \n",
              "124.0    1.000000\n",
              "129.0    1.000000\n",
              "135.0    3.000000\n",
              "150.0    2.000000\n",
              "151.0    0.000000\n",
              "Name: mort_acc, Length: 118, dtype: float64"
            ]
          },
          "execution_count": 83,
          "metadata": {},
          "output_type": "execute_result"
        }
      ],
      "source": [
        "total_acc_avg"
      ]
    },
    {
      "cell_type": "code",
      "execution_count": 84,
      "metadata": {
        "id": "vtH0BaHjRhaR"
      },
      "outputs": [],
      "source": [
        "def fill_mort_acc(total_acc, mort_acc):\n",
        "    '''\n",
        "    Accepts the total_acc and mort_acc values for the row.\n",
        "    Checks if the mort_acc is NaN , if so, it returns the avg mort_acc value\n",
        "    for the corresponding total_acc value for that row.\n",
        "    \n",
        "    total_acc_avg here should be a Series or dictionary containing the mapping of the\n",
        "    groupby averages of mort_acc per total_acc values.\n",
        "    '''\n",
        "    if np.isnan(mort_acc):\n",
        "        return total_acc_avg[total_acc]\n",
        "    else:\n",
        "        return mort_acc"
      ]
    },
    {
      "cell_type": "code",
      "execution_count": 85,
      "metadata": {
        "id": "iDjul6XzRhaR"
      },
      "outputs": [],
      "source": [
        "df['mort_acc'] = df.apply(lambda x: fill_mort_acc(x['total_acc'], x['mort_acc']), axis=1)"
      ]
    },
    {
      "cell_type": "code",
      "execution_count": 86,
      "metadata": {
        "colab": {
          "base_uri": "https://localhost:8080/"
        },
        "id": "DYSJZRzdRhaR",
        "outputId": "93f1746f-58cd-4051-9efd-796165bd7958"
      },
      "outputs": [
        {
          "data": {
            "text/plain": [
              "loan_amnt                 0\n",
              "term                      0\n",
              "int_rate                  0\n",
              "installment               0\n",
              "grade                     0\n",
              "sub_grade                 0\n",
              "home_ownership            0\n",
              "annual_inc                0\n",
              "verification_status       0\n",
              "issue_d                   0\n",
              "loan_status               0\n",
              "purpose                   0\n",
              "dti                       0\n",
              "earliest_cr_line          0\n",
              "open_acc                  0\n",
              "pub_rec                   0\n",
              "revol_bal                 0\n",
              "revol_util              276\n",
              "total_acc                 0\n",
              "initial_list_status       0\n",
              "application_type          0\n",
              "mort_acc                  0\n",
              "pub_rec_bankruptcies    535\n",
              "address                   0\n",
              "loan_repaid               0\n",
              "dtype: int64"
            ]
          },
          "execution_count": 86,
          "metadata": {},
          "output_type": "execute_result"
        }
      ],
      "source": [
        "df.isnull().sum()"
      ]
    },
    {
      "cell_type": "markdown",
      "metadata": {
        "id": "xos-z2koRhaR"
      },
      "source": [
        "**TASK: revol_util and the pub_rec_bankruptcies have missing data points, but they account for less than 0.5% of the total data. Go ahead and remove the rows that are missing those values in those columns with dropna().**"
      ]
    },
    {
      "cell_type": "code",
      "execution_count": 87,
      "metadata": {
        "id": "9T07vfi6RhaS"
      },
      "outputs": [],
      "source": [
        "df = df.dropna()"
      ]
    },
    {
      "cell_type": "code",
      "execution_count": 88,
      "metadata": {
        "colab": {
          "base_uri": "https://localhost:8080/"
        },
        "id": "rHQKRr-wRhaS",
        "outputId": "e2353a70-85ef-49a9-8ac9-3efc6042c579",
        "scrolled": true
      },
      "outputs": [
        {
          "data": {
            "text/plain": [
              "loan_amnt               0\n",
              "term                    0\n",
              "int_rate                0\n",
              "installment             0\n",
              "grade                   0\n",
              "sub_grade               0\n",
              "home_ownership          0\n",
              "annual_inc              0\n",
              "verification_status     0\n",
              "issue_d                 0\n",
              "loan_status             0\n",
              "purpose                 0\n",
              "dti                     0\n",
              "earliest_cr_line        0\n",
              "open_acc                0\n",
              "pub_rec                 0\n",
              "revol_bal               0\n",
              "revol_util              0\n",
              "total_acc               0\n",
              "initial_list_status     0\n",
              "application_type        0\n",
              "mort_acc                0\n",
              "pub_rec_bankruptcies    0\n",
              "address                 0\n",
              "loan_repaid             0\n",
              "dtype: int64"
            ]
          },
          "execution_count": 88,
          "metadata": {},
          "output_type": "execute_result"
        }
      ],
      "source": [
        "df.isnull().sum()"
      ]
    },
    {
      "cell_type": "markdown",
      "metadata": {
        "id": "ShdUnrvERhaS"
      },
      "source": [
        "## Categorical Variables and Dummy Variables\n",
        "\n",
        "**We're done working with the missing data! Now we just need to deal with the string values due to the categorical columns.**\n",
        "\n",
        "**TASK: List all the columns that are currently non-numeric.**\n",
        "\n",
        "[Link](https://stackoverflow.com/questions/22470690/get-list-of-pandas-dataframe-columns-based-on-data-type)\n",
        "\n",
        "[Another Link](https://pandas.pydata.org/pandas-docs/stable/reference/api/pandas.DataFrame.select_dtypes.html)"
      ]
    },
    {
      "cell_type": "code",
      "execution_count": 89,
      "metadata": {
        "colab": {
          "base_uri": "https://localhost:8080/"
        },
        "id": "1jA0pZ8r162e",
        "outputId": "8d7dea60-6927-4688-8f10-b5b724e65f84"
      },
      "outputs": [
        {
          "name": "stdout",
          "output_type": "stream",
          "text": [
            "<class 'pandas.core.frame.DataFrame'>\n",
            "Int64Index: 395219 entries, 0 to 396029\n",
            "Data columns (total 25 columns):\n",
            " #   Column                Non-Null Count   Dtype  \n",
            "---  ------                --------------   -----  \n",
            " 0   loan_amnt             395219 non-null  float64\n",
            " 1   term                  395219 non-null  object \n",
            " 2   int_rate              395219 non-null  float64\n",
            " 3   installment           395219 non-null  float64\n",
            " 4   grade                 395219 non-null  object \n",
            " 5   sub_grade             395219 non-null  object \n",
            " 6   home_ownership        395219 non-null  object \n",
            " 7   annual_inc            395219 non-null  float64\n",
            " 8   verification_status   395219 non-null  object \n",
            " 9   issue_d               395219 non-null  object \n",
            " 10  loan_status           395219 non-null  object \n",
            " 11  purpose               395219 non-null  object \n",
            " 12  dti                   395219 non-null  float64\n",
            " 13  earliest_cr_line      395219 non-null  object \n",
            " 14  open_acc              395219 non-null  float64\n",
            " 15  pub_rec               395219 non-null  float64\n",
            " 16  revol_bal             395219 non-null  float64\n",
            " 17  revol_util            395219 non-null  float64\n",
            " 18  total_acc             395219 non-null  float64\n",
            " 19  initial_list_status   395219 non-null  object \n",
            " 20  application_type      395219 non-null  object \n",
            " 21  mort_acc              395219 non-null  float64\n",
            " 22  pub_rec_bankruptcies  395219 non-null  float64\n",
            " 23  address               395219 non-null  object \n",
            " 24  loan_repaid           395219 non-null  int64  \n",
            "dtypes: float64(12), int64(1), object(12)\n",
            "memory usage: 78.4+ MB\n"
          ]
        }
      ],
      "source": [
        "df.info()"
      ]
    },
    {
      "cell_type": "code",
      "execution_count": 90,
      "metadata": {
        "colab": {
          "base_uri": "https://localhost:8080/"
        },
        "id": "CATAEj1aRhaS",
        "outputId": "5314600d-bbe6-4949-d1d6-5dcf50f7054e"
      },
      "outputs": [
        {
          "data": {
            "text/plain": [
              "Index(['term', 'grade', 'sub_grade', 'home_ownership', 'verification_status',\n",
              "       'issue_d', 'loan_status', 'purpose', 'earliest_cr_line',\n",
              "       'initial_list_status', 'application_type', 'address'],\n",
              "      dtype='object')"
            ]
          },
          "execution_count": 90,
          "metadata": {},
          "output_type": "execute_result"
        }
      ],
      "source": [
        "df.select_dtypes(['object']).columns"
      ]
    },
    {
      "cell_type": "markdown",
      "metadata": {
        "id": "ogLT-Ai9RhaT"
      },
      "source": [
        "### term feature\n",
        "\n",
        "**TASK: Convert the term feature into either a numeric data type using .apply() or .map().**"
      ]
    },
    {
      "cell_type": "code",
      "execution_count": 92,
      "metadata": {
        "colab": {
          "base_uri": "https://localhost:8080/"
        },
        "id": "4klxwtkB20P6",
        "outputId": "66d23568-1086-4209-e431-e736863999b4"
      },
      "outputs": [
        {
          "name": "stdout",
          "output_type": "stream",
          "text": [
            "The number of payments on the loan. Values are in months and can be either 36 or 60.\n"
          ]
        }
      ],
      "source": [
        "feat_info('term')"
      ]
    },
    {
      "cell_type": "code",
      "execution_count": 91,
      "metadata": {
        "colab": {
          "base_uri": "https://localhost:8080/"
        },
        "id": "PXQzEv2eRhaT",
        "outputId": "9fa93ed6-0d06-4245-85a4-50396a9efc63"
      },
      "outputs": [
        {
          "data": {
            "text/plain": [
              " 36 months    301247\n",
              " 60 months     93972\n",
              "Name: term, dtype: int64"
            ]
          },
          "execution_count": 91,
          "metadata": {},
          "output_type": "execute_result"
        }
      ],
      "source": [
        "df['term'].value_counts()"
      ]
    },
    {
      "cell_type": "code",
      "execution_count": 99,
      "metadata": {
        "colab": {
          "base_uri": "https://localhost:8080/",
          "height": 35
        },
        "id": "FVXPWNfo3ZN3",
        "outputId": "1600bdda-d703-465b-d020-deaad8b13c95"
      },
      "outputs": [
        {
          "data": {
            "application/vnd.google.colaboratory.intrinsic+json": {
              "type": "string"
            },
            "text/plain": [
              "' 36'"
            ]
          },
          "execution_count": 99,
          "metadata": {},
          "output_type": "execute_result"
        }
      ],
      "source": [
        "# loc gets rows (and/or columns) with particular labels.\n",
        "\n",
        "# iloc gets rows (and/or columns) at integer locations.\n",
        "\n",
        "df['term'].iloc[0][:3]"
      ]
    },
    {
      "cell_type": "code",
      "execution_count": 100,
      "metadata": {
        "id": "fr6BccyGRhaT"
      },
      "outputs": [],
      "source": [
        "df['term'] = df['term'].apply(lambda term: int(term[:3]))"
      ]
    },
    {
      "cell_type": "code",
      "execution_count": 105,
      "metadata": {
        "colab": {
          "base_uri": "https://localhost:8080/",
          "height": 179
        },
        "id": "2M4vnO2M4LLC",
        "outputId": "494f39cd-a23c-41a0-dff7-d04ce47a7dfb"
      },
      "outputs": [
        {
          "data": {
            "text/html": [
              "\n",
              "  <div id=\"df-6e32c583-040a-4be1-b80f-80819956d08e\">\n",
              "    <div class=\"colab-df-container\">\n",
              "      <div>\n",
              "<style scoped>\n",
              "    .dataframe tbody tr th:only-of-type {\n",
              "        vertical-align: middle;\n",
              "    }\n",
              "\n",
              "    .dataframe tbody tr th {\n",
              "        vertical-align: top;\n",
              "    }\n",
              "\n",
              "    .dataframe thead th {\n",
              "        text-align: right;\n",
              "    }\n",
              "</style>\n",
              "<table border=\"1\" class=\"dataframe\">\n",
              "  <thead>\n",
              "    <tr style=\"text-align: right;\">\n",
              "      <th></th>\n",
              "      <th>loan_amnt</th>\n",
              "      <th>term</th>\n",
              "      <th>int_rate</th>\n",
              "      <th>installment</th>\n",
              "      <th>grade</th>\n",
              "      <th>sub_grade</th>\n",
              "      <th>home_ownership</th>\n",
              "      <th>annual_inc</th>\n",
              "      <th>verification_status</th>\n",
              "      <th>issue_d</th>\n",
              "      <th>loan_status</th>\n",
              "      <th>purpose</th>\n",
              "      <th>dti</th>\n",
              "      <th>earliest_cr_line</th>\n",
              "      <th>open_acc</th>\n",
              "      <th>pub_rec</th>\n",
              "      <th>revol_bal</th>\n",
              "      <th>revol_util</th>\n",
              "      <th>total_acc</th>\n",
              "      <th>initial_list_status</th>\n",
              "      <th>application_type</th>\n",
              "      <th>mort_acc</th>\n",
              "      <th>pub_rec_bankruptcies</th>\n",
              "      <th>address</th>\n",
              "      <th>loan_repaid</th>\n",
              "    </tr>\n",
              "  </thead>\n",
              "  <tbody>\n",
              "    <tr>\n",
              "      <th>0</th>\n",
              "      <td>10000.0</td>\n",
              "      <td>36</td>\n",
              "      <td>11.44</td>\n",
              "      <td>329.48</td>\n",
              "      <td>B</td>\n",
              "      <td>B4</td>\n",
              "      <td>RENT</td>\n",
              "      <td>117000.0</td>\n",
              "      <td>Not Verified</td>\n",
              "      <td>Jan-2015</td>\n",
              "      <td>Fully Paid</td>\n",
              "      <td>vacation</td>\n",
              "      <td>26.24</td>\n",
              "      <td>Jun-1990</td>\n",
              "      <td>16.0</td>\n",
              "      <td>0.0</td>\n",
              "      <td>36369.0</td>\n",
              "      <td>41.8</td>\n",
              "      <td>25.0</td>\n",
              "      <td>w</td>\n",
              "      <td>INDIVIDUAL</td>\n",
              "      <td>0.0</td>\n",
              "      <td>0.0</td>\n",
              "      <td>0174 Michelle Gateway\\nMendozaberg, OK 22690</td>\n",
              "      <td>1</td>\n",
              "    </tr>\n",
              "  </tbody>\n",
              "</table>\n",
              "</div>\n",
              "      <button class=\"colab-df-convert\" onclick=\"convertToInteractive('df-6e32c583-040a-4be1-b80f-80819956d08e')\"\n",
              "              title=\"Convert this dataframe to an interactive table.\"\n",
              "              style=\"display:none;\">\n",
              "        \n",
              "  <svg xmlns=\"http://www.w3.org/2000/svg\" height=\"24px\"viewBox=\"0 0 24 24\"\n",
              "       width=\"24px\">\n",
              "    <path d=\"M0 0h24v24H0V0z\" fill=\"none\"/>\n",
              "    <path d=\"M18.56 5.44l.94 2.06.94-2.06 2.06-.94-2.06-.94-.94-2.06-.94 2.06-2.06.94zm-11 1L8.5 8.5l.94-2.06 2.06-.94-2.06-.94L8.5 2.5l-.94 2.06-2.06.94zm10 10l.94 2.06.94-2.06 2.06-.94-2.06-.94-.94-2.06-.94 2.06-2.06.94z\"/><path d=\"M17.41 7.96l-1.37-1.37c-.4-.4-.92-.59-1.43-.59-.52 0-1.04.2-1.43.59L10.3 9.45l-7.72 7.72c-.78.78-.78 2.05 0 2.83L4 21.41c.39.39.9.59 1.41.59.51 0 1.02-.2 1.41-.59l7.78-7.78 2.81-2.81c.8-.78.8-2.07 0-2.86zM5.41 20L4 18.59l7.72-7.72 1.47 1.35L5.41 20z\"/>\n",
              "  </svg>\n",
              "      </button>\n",
              "      \n",
              "  <style>\n",
              "    .colab-df-container {\n",
              "      display:flex;\n",
              "      flex-wrap:wrap;\n",
              "      gap: 12px;\n",
              "    }\n",
              "\n",
              "    .colab-df-convert {\n",
              "      background-color: #E8F0FE;\n",
              "      border: none;\n",
              "      border-radius: 50%;\n",
              "      cursor: pointer;\n",
              "      display: none;\n",
              "      fill: #1967D2;\n",
              "      height: 32px;\n",
              "      padding: 0 0 0 0;\n",
              "      width: 32px;\n",
              "    }\n",
              "\n",
              "    .colab-df-convert:hover {\n",
              "      background-color: #E2EBFA;\n",
              "      box-shadow: 0px 1px 2px rgba(60, 64, 67, 0.3), 0px 1px 3px 1px rgba(60, 64, 67, 0.15);\n",
              "      fill: #174EA6;\n",
              "    }\n",
              "\n",
              "    [theme=dark] .colab-df-convert {\n",
              "      background-color: #3B4455;\n",
              "      fill: #D2E3FC;\n",
              "    }\n",
              "\n",
              "    [theme=dark] .colab-df-convert:hover {\n",
              "      background-color: #434B5C;\n",
              "      box-shadow: 0px 1px 3px 1px rgba(0, 0, 0, 0.15);\n",
              "      filter: drop-shadow(0px 1px 2px rgba(0, 0, 0, 0.3));\n",
              "      fill: #FFFFFF;\n",
              "    }\n",
              "  </style>\n",
              "\n",
              "      <script>\n",
              "        const buttonEl =\n",
              "          document.querySelector('#df-6e32c583-040a-4be1-b80f-80819956d08e button.colab-df-convert');\n",
              "        buttonEl.style.display =\n",
              "          google.colab.kernel.accessAllowed ? 'block' : 'none';\n",
              "\n",
              "        async function convertToInteractive(key) {\n",
              "          const element = document.querySelector('#df-6e32c583-040a-4be1-b80f-80819956d08e');\n",
              "          const dataTable =\n",
              "            await google.colab.kernel.invokeFunction('convertToInteractive',\n",
              "                                                     [key], {});\n",
              "          if (!dataTable) return;\n",
              "\n",
              "          const docLinkHtml = 'Like what you see? Visit the ' +\n",
              "            '<a target=\"_blank\" href=https://colab.research.google.com/notebooks/data_table.ipynb>data table notebook</a>'\n",
              "            + ' to learn more about interactive tables.';\n",
              "          element.innerHTML = '';\n",
              "          dataTable['output_type'] = 'display_data';\n",
              "          await google.colab.output.renderOutput(dataTable, element);\n",
              "          const docLink = document.createElement('div');\n",
              "          docLink.innerHTML = docLinkHtml;\n",
              "          element.appendChild(docLink);\n",
              "        }\n",
              "      </script>\n",
              "    </div>\n",
              "  </div>\n",
              "  "
            ],
            "text/plain": [
              "   loan_amnt  term  ...                                       address  loan_repaid\n",
              "0    10000.0    36  ...  0174 Michelle Gateway\\nMendozaberg, OK 22690            1\n",
              "\n",
              "[1 rows x 25 columns]"
            ]
          },
          "execution_count": 105,
          "metadata": {},
          "output_type": "execute_result"
        }
      ],
      "source": [
        "df.head(1)"
      ]
    },
    {
      "cell_type": "markdown",
      "metadata": {
        "id": "9ccmUt-1RhaT"
      },
      "source": [
        "### grade feature\n",
        "\n",
        "**TASK: We already know grade is part of sub_grade, so just drop the grade feature.**"
      ]
    },
    {
      "cell_type": "code",
      "execution_count": 106,
      "metadata": {
        "id": "a1rX4n9ARhaT"
      },
      "outputs": [],
      "source": [
        "df = df.drop('grade',axis=1)"
      ]
    },
    {
      "cell_type": "markdown",
      "metadata": {
        "id": "lsTm221HRhaU"
      },
      "source": [
        "**TASK: Convert the subgrade into dummy variables. Then concatenate these new columns to the original dataframe.**\n",
        "\n",
        "To drop the original subgrade column and to add drop_first=True to your get_dummies call."
      ]
    },
    {
      "cell_type": "code",
      "execution_count": 107,
      "metadata": {
        "id": "e6-utuj9RhaU"
      },
      "outputs": [],
      "source": [
        "subgrade_dummies = pd.get_dummies(df['sub_grade'],drop_first=True)"
      ]
    },
    {
      "cell_type": "code",
      "execution_count": 108,
      "metadata": {
        "id": "bOn3w6gqRhaU"
      },
      "outputs": [],
      "source": [
        "df = pd.concat([df.drop('sub_grade',axis=1),subgrade_dummies],axis=1)"
      ]
    },
    {
      "cell_type": "code",
      "execution_count": 109,
      "metadata": {
        "colab": {
          "base_uri": "https://localhost:8080/"
        },
        "id": "UR8AEgTfRhaU",
        "outputId": "a37d00a2-f050-45b2-f606-b8f6e50220e9"
      },
      "outputs": [
        {
          "data": {
            "text/plain": [
              "Index(['loan_amnt', 'term', 'int_rate', 'installment', 'home_ownership',\n",
              "       'annual_inc', 'verification_status', 'issue_d', 'loan_status',\n",
              "       'purpose', 'dti', 'earliest_cr_line', 'open_acc', 'pub_rec',\n",
              "       'revol_bal', 'revol_util', 'total_acc', 'initial_list_status',\n",
              "       'application_type', 'mort_acc', 'pub_rec_bankruptcies', 'address',\n",
              "       'loan_repaid', 'A2', 'A3', 'A4', 'A5', 'B1', 'B2', 'B3', 'B4', 'B5',\n",
              "       'C1', 'C2', 'C3', 'C4', 'C5', 'D1', 'D2', 'D3', 'D4', 'D5', 'E1', 'E2',\n",
              "       'E3', 'E4', 'E5', 'F1', 'F2', 'F3', 'F4', 'F5', 'G1', 'G2', 'G3', 'G4',\n",
              "       'G5'],\n",
              "      dtype='object')"
            ]
          },
          "execution_count": 109,
          "metadata": {},
          "output_type": "execute_result"
        }
      ],
      "source": [
        "df.columns"
      ]
    },
    {
      "cell_type": "code",
      "execution_count": 110,
      "metadata": {
        "colab": {
          "base_uri": "https://localhost:8080/"
        },
        "id": "mXk4UkttRhaU",
        "outputId": "44a99413-1314-48ff-df4f-6891195d5e09"
      },
      "outputs": [
        {
          "data": {
            "text/plain": [
              "Index(['home_ownership', 'verification_status', 'issue_d', 'loan_status',\n",
              "       'purpose', 'earliest_cr_line', 'initial_list_status',\n",
              "       'application_type', 'address'],\n",
              "      dtype='object')"
            ]
          },
          "execution_count": 110,
          "metadata": {},
          "output_type": "execute_result"
        }
      ],
      "source": [
        "df.select_dtypes(['object']).columns"
      ]
    },
    {
      "cell_type": "markdown",
      "metadata": {
        "id": "PPoFmo_YRhaV"
      },
      "source": [
        "### verification_status, application_type,initial_list_status,purpose \n",
        "\n",
        "**TASK: Convert these columns: ['verification_status', 'application_type','initial_list_status','purpose'] into dummy variables and concatenate them with the original dataframe.**\n",
        "\n",
        "Remember to set drop_first=True and to drop the original columns."
      ]
    },
    {
      "cell_type": "code",
      "execution_count": 113,
      "metadata": {
        "colab": {
          "base_uri": "https://localhost:8080/"
        },
        "id": "8CnlH6c36Jqr",
        "outputId": "ba4a1bb3-915e-4526-f7ed-31363c65ef85"
      },
      "outputs": [
        {
          "data": {
            "text/plain": [
              "Verified           139451\n",
              "Source Verified    131301\n",
              "Not Verified       124467\n",
              "Name: verification_status, dtype: int64"
            ]
          },
          "execution_count": 113,
          "metadata": {},
          "output_type": "execute_result"
        }
      ],
      "source": [
        "df['verification_status'].value_counts()"
      ]
    },
    {
      "cell_type": "code",
      "execution_count": 114,
      "metadata": {
        "colab": {
          "base_uri": "https://localhost:8080/"
        },
        "id": "f1z29Z4S6Npj",
        "outputId": "dcdd221d-58e0-4ce3-8e08-d19b8fec13a1"
      },
      "outputs": [
        {
          "data": {
            "text/plain": [
              "INDIVIDUAL    394508\n",
              "JOINT            425\n",
              "DIRECT_PAY       286\n",
              "Name: application_type, dtype: int64"
            ]
          },
          "execution_count": 114,
          "metadata": {},
          "output_type": "execute_result"
        }
      ],
      "source": [
        "df['application_type'].value_counts()"
      ]
    },
    {
      "cell_type": "code",
      "execution_count": 115,
      "metadata": {
        "colab": {
          "base_uri": "https://localhost:8080/"
        },
        "id": "89mlFjf16QT-",
        "outputId": "00ee8059-1791-465a-b139-50965fd1d322"
      },
      "outputs": [
        {
          "data": {
            "text/plain": [
              "f    237346\n",
              "w    157873\n",
              "Name: initial_list_status, dtype: int64"
            ]
          },
          "execution_count": 115,
          "metadata": {},
          "output_type": "execute_result"
        }
      ],
      "source": [
        "df['initial_list_status'].value_counts()"
      ]
    },
    {
      "cell_type": "code",
      "execution_count": 116,
      "metadata": {
        "colab": {
          "base_uri": "https://localhost:8080/"
        },
        "id": "GeC_FLHi6SLl",
        "outputId": "9c034431-5825-4f36-b3c1-ce0ed0b25d60"
      },
      "outputs": [
        {
          "data": {
            "text/plain": [
              "debt_consolidation    234169\n",
              "credit_card            82923\n",
              "home_improvement       23961\n",
              "other                  21059\n",
              "major_purchase          8756\n",
              "small_business          5656\n",
              "car                     4670\n",
              "medical                 4175\n",
              "moving                  2842\n",
              "vacation                2442\n",
              "house                   2197\n",
              "wedding                 1794\n",
              "renewable_energy         329\n",
              "educational              246\n",
              "Name: purpose, dtype: int64"
            ]
          },
          "execution_count": 116,
          "metadata": {},
          "output_type": "execute_result"
        }
      ],
      "source": [
        "df['purpose'].value_counts()"
      ]
    },
    {
      "cell_type": "code",
      "execution_count": 117,
      "metadata": {
        "id": "_ob2urLpRhaV"
      },
      "outputs": [],
      "source": [
        "dummies = pd.get_dummies(df[['verification_status', 'application_type','initial_list_status','purpose' ]],drop_first=True)\n",
        "\n",
        "df = df.drop(['verification_status', 'application_type','initial_list_status','purpose'],axis=1)\n",
        "\n",
        "df = pd.concat([df,dummies],axis=1)"
      ]
    },
    {
      "cell_type": "code",
      "execution_count": 118,
      "metadata": {
        "colab": {
          "base_uri": "https://localhost:8080/",
          "height": 197
        },
        "id": "qWu9ig5W6h5Y",
        "outputId": "664ddf39-cc67-4830-e01f-ce0e3e441781"
      },
      "outputs": [
        {
          "data": {
            "text/html": [
              "\n",
              "  <div id=\"df-acb0a6ed-0bbc-4b0b-ac10-20065c169d41\">\n",
              "    <div class=\"colab-df-container\">\n",
              "      <div>\n",
              "<style scoped>\n",
              "    .dataframe tbody tr th:only-of-type {\n",
              "        vertical-align: middle;\n",
              "    }\n",
              "\n",
              "    .dataframe tbody tr th {\n",
              "        vertical-align: top;\n",
              "    }\n",
              "\n",
              "    .dataframe thead th {\n",
              "        text-align: right;\n",
              "    }\n",
              "</style>\n",
              "<table border=\"1\" class=\"dataframe\">\n",
              "  <thead>\n",
              "    <tr style=\"text-align: right;\">\n",
              "      <th></th>\n",
              "      <th>loan_amnt</th>\n",
              "      <th>term</th>\n",
              "      <th>int_rate</th>\n",
              "      <th>installment</th>\n",
              "      <th>home_ownership</th>\n",
              "      <th>annual_inc</th>\n",
              "      <th>issue_d</th>\n",
              "      <th>loan_status</th>\n",
              "      <th>dti</th>\n",
              "      <th>earliest_cr_line</th>\n",
              "      <th>open_acc</th>\n",
              "      <th>pub_rec</th>\n",
              "      <th>revol_bal</th>\n",
              "      <th>revol_util</th>\n",
              "      <th>total_acc</th>\n",
              "      <th>mort_acc</th>\n",
              "      <th>pub_rec_bankruptcies</th>\n",
              "      <th>address</th>\n",
              "      <th>loan_repaid</th>\n",
              "      <th>A2</th>\n",
              "      <th>A3</th>\n",
              "      <th>A4</th>\n",
              "      <th>A5</th>\n",
              "      <th>B1</th>\n",
              "      <th>B2</th>\n",
              "      <th>B3</th>\n",
              "      <th>B4</th>\n",
              "      <th>B5</th>\n",
              "      <th>C1</th>\n",
              "      <th>C2</th>\n",
              "      <th>C3</th>\n",
              "      <th>C4</th>\n",
              "      <th>C5</th>\n",
              "      <th>D1</th>\n",
              "      <th>D2</th>\n",
              "      <th>D3</th>\n",
              "      <th>D4</th>\n",
              "      <th>D5</th>\n",
              "      <th>E1</th>\n",
              "      <th>E2</th>\n",
              "      <th>E3</th>\n",
              "      <th>E4</th>\n",
              "      <th>E5</th>\n",
              "      <th>F1</th>\n",
              "      <th>F2</th>\n",
              "      <th>F3</th>\n",
              "      <th>F4</th>\n",
              "      <th>F5</th>\n",
              "      <th>G1</th>\n",
              "      <th>G2</th>\n",
              "      <th>G3</th>\n",
              "      <th>G4</th>\n",
              "      <th>G5</th>\n",
              "      <th>verification_status_Source Verified</th>\n",
              "      <th>verification_status_Verified</th>\n",
              "      <th>application_type_INDIVIDUAL</th>\n",
              "      <th>application_type_JOINT</th>\n",
              "      <th>initial_list_status_w</th>\n",
              "      <th>purpose_credit_card</th>\n",
              "      <th>purpose_debt_consolidation</th>\n",
              "      <th>purpose_educational</th>\n",
              "      <th>purpose_home_improvement</th>\n",
              "      <th>purpose_house</th>\n",
              "      <th>purpose_major_purchase</th>\n",
              "      <th>purpose_medical</th>\n",
              "      <th>purpose_moving</th>\n",
              "      <th>purpose_other</th>\n",
              "      <th>purpose_renewable_energy</th>\n",
              "      <th>purpose_small_business</th>\n",
              "      <th>purpose_vacation</th>\n",
              "      <th>purpose_wedding</th>\n",
              "    </tr>\n",
              "  </thead>\n",
              "  <tbody>\n",
              "    <tr>\n",
              "      <th>0</th>\n",
              "      <td>10000.0</td>\n",
              "      <td>36</td>\n",
              "      <td>11.44</td>\n",
              "      <td>329.48</td>\n",
              "      <td>RENT</td>\n",
              "      <td>117000.0</td>\n",
              "      <td>Jan-2015</td>\n",
              "      <td>Fully Paid</td>\n",
              "      <td>26.24</td>\n",
              "      <td>Jun-1990</td>\n",
              "      <td>16.0</td>\n",
              "      <td>0.0</td>\n",
              "      <td>36369.0</td>\n",
              "      <td>41.8</td>\n",
              "      <td>25.0</td>\n",
              "      <td>0.0</td>\n",
              "      <td>0.0</td>\n",
              "      <td>0174 Michelle Gateway\\nMendozaberg, OK 22690</td>\n",
              "      <td>1</td>\n",
              "      <td>0</td>\n",
              "      <td>0</td>\n",
              "      <td>0</td>\n",
              "      <td>0</td>\n",
              "      <td>0</td>\n",
              "      <td>0</td>\n",
              "      <td>0</td>\n",
              "      <td>1</td>\n",
              "      <td>0</td>\n",
              "      <td>0</td>\n",
              "      <td>0</td>\n",
              "      <td>0</td>\n",
              "      <td>0</td>\n",
              "      <td>0</td>\n",
              "      <td>0</td>\n",
              "      <td>0</td>\n",
              "      <td>0</td>\n",
              "      <td>0</td>\n",
              "      <td>0</td>\n",
              "      <td>0</td>\n",
              "      <td>0</td>\n",
              "      <td>0</td>\n",
              "      <td>0</td>\n",
              "      <td>0</td>\n",
              "      <td>0</td>\n",
              "      <td>0</td>\n",
              "      <td>0</td>\n",
              "      <td>0</td>\n",
              "      <td>0</td>\n",
              "      <td>0</td>\n",
              "      <td>0</td>\n",
              "      <td>0</td>\n",
              "      <td>0</td>\n",
              "      <td>0</td>\n",
              "      <td>0</td>\n",
              "      <td>0</td>\n",
              "      <td>1</td>\n",
              "      <td>0</td>\n",
              "      <td>1</td>\n",
              "      <td>0</td>\n",
              "      <td>0</td>\n",
              "      <td>0</td>\n",
              "      <td>0</td>\n",
              "      <td>0</td>\n",
              "      <td>0</td>\n",
              "      <td>0</td>\n",
              "      <td>0</td>\n",
              "      <td>0</td>\n",
              "      <td>0</td>\n",
              "      <td>0</td>\n",
              "      <td>1</td>\n",
              "      <td>0</td>\n",
              "    </tr>\n",
              "  </tbody>\n",
              "</table>\n",
              "</div>\n",
              "      <button class=\"colab-df-convert\" onclick=\"convertToInteractive('df-acb0a6ed-0bbc-4b0b-ac10-20065c169d41')\"\n",
              "              title=\"Convert this dataframe to an interactive table.\"\n",
              "              style=\"display:none;\">\n",
              "        \n",
              "  <svg xmlns=\"http://www.w3.org/2000/svg\" height=\"24px\"viewBox=\"0 0 24 24\"\n",
              "       width=\"24px\">\n",
              "    <path d=\"M0 0h24v24H0V0z\" fill=\"none\"/>\n",
              "    <path d=\"M18.56 5.44l.94 2.06.94-2.06 2.06-.94-2.06-.94-.94-2.06-.94 2.06-2.06.94zm-11 1L8.5 8.5l.94-2.06 2.06-.94-2.06-.94L8.5 2.5l-.94 2.06-2.06.94zm10 10l.94 2.06.94-2.06 2.06-.94-2.06-.94-.94-2.06-.94 2.06-2.06.94z\"/><path d=\"M17.41 7.96l-1.37-1.37c-.4-.4-.92-.59-1.43-.59-.52 0-1.04.2-1.43.59L10.3 9.45l-7.72 7.72c-.78.78-.78 2.05 0 2.83L4 21.41c.39.39.9.59 1.41.59.51 0 1.02-.2 1.41-.59l7.78-7.78 2.81-2.81c.8-.78.8-2.07 0-2.86zM5.41 20L4 18.59l7.72-7.72 1.47 1.35L5.41 20z\"/>\n",
              "  </svg>\n",
              "      </button>\n",
              "      \n",
              "  <style>\n",
              "    .colab-df-container {\n",
              "      display:flex;\n",
              "      flex-wrap:wrap;\n",
              "      gap: 12px;\n",
              "    }\n",
              "\n",
              "    .colab-df-convert {\n",
              "      background-color: #E8F0FE;\n",
              "      border: none;\n",
              "      border-radius: 50%;\n",
              "      cursor: pointer;\n",
              "      display: none;\n",
              "      fill: #1967D2;\n",
              "      height: 32px;\n",
              "      padding: 0 0 0 0;\n",
              "      width: 32px;\n",
              "    }\n",
              "\n",
              "    .colab-df-convert:hover {\n",
              "      background-color: #E2EBFA;\n",
              "      box-shadow: 0px 1px 2px rgba(60, 64, 67, 0.3), 0px 1px 3px 1px rgba(60, 64, 67, 0.15);\n",
              "      fill: #174EA6;\n",
              "    }\n",
              "\n",
              "    [theme=dark] .colab-df-convert {\n",
              "      background-color: #3B4455;\n",
              "      fill: #D2E3FC;\n",
              "    }\n",
              "\n",
              "    [theme=dark] .colab-df-convert:hover {\n",
              "      background-color: #434B5C;\n",
              "      box-shadow: 0px 1px 3px 1px rgba(0, 0, 0, 0.15);\n",
              "      filter: drop-shadow(0px 1px 2px rgba(0, 0, 0, 0.3));\n",
              "      fill: #FFFFFF;\n",
              "    }\n",
              "  </style>\n",
              "\n",
              "      <script>\n",
              "        const buttonEl =\n",
              "          document.querySelector('#df-acb0a6ed-0bbc-4b0b-ac10-20065c169d41 button.colab-df-convert');\n",
              "        buttonEl.style.display =\n",
              "          google.colab.kernel.accessAllowed ? 'block' : 'none';\n",
              "\n",
              "        async function convertToInteractive(key) {\n",
              "          const element = document.querySelector('#df-acb0a6ed-0bbc-4b0b-ac10-20065c169d41');\n",
              "          const dataTable =\n",
              "            await google.colab.kernel.invokeFunction('convertToInteractive',\n",
              "                                                     [key], {});\n",
              "          if (!dataTable) return;\n",
              "\n",
              "          const docLinkHtml = 'Like what you see? Visit the ' +\n",
              "            '<a target=\"_blank\" href=https://colab.research.google.com/notebooks/data_table.ipynb>data table notebook</a>'\n",
              "            + ' to learn more about interactive tables.';\n",
              "          element.innerHTML = '';\n",
              "          dataTable['output_type'] = 'display_data';\n",
              "          await google.colab.output.renderOutput(dataTable, element);\n",
              "          const docLink = document.createElement('div');\n",
              "          docLink.innerHTML = docLinkHtml;\n",
              "          element.appendChild(docLink);\n",
              "        }\n",
              "      </script>\n",
              "    </div>\n",
              "  </div>\n",
              "  "
            ],
            "text/plain": [
              "   loan_amnt  term  ...  purpose_vacation  purpose_wedding\n",
              "0    10000.0    36  ...                 1                0\n",
              "\n",
              "[1 rows x 71 columns]"
            ]
          },
          "execution_count": 118,
          "metadata": {},
          "output_type": "execute_result"
        }
      ],
      "source": [
        "df.head(1)"
      ]
    },
    {
      "cell_type": "markdown",
      "metadata": {
        "id": "YHcBSZskRhaV"
      },
      "source": [
        "### home_ownership\n",
        "**TASK:Review the value_counts for the home_ownership column.**"
      ]
    },
    {
      "cell_type": "code",
      "execution_count": 119,
      "metadata": {
        "colab": {
          "base_uri": "https://localhost:8080/"
        },
        "id": "HBa4HkqfRhaW",
        "outputId": "5931bd8b-0513-498b-cab5-b4a6741277ee"
      },
      "outputs": [
        {
          "data": {
            "text/plain": [
              "MORTGAGE    198022\n",
              "RENT        159395\n",
              "OWN          37660\n",
              "OTHER          110\n",
              "NONE            29\n",
              "ANY              3\n",
              "Name: home_ownership, dtype: int64"
            ]
          },
          "execution_count": 119,
          "metadata": {},
          "output_type": "execute_result"
        }
      ],
      "source": [
        "df['home_ownership'].value_counts()"
      ]
    },
    {
      "cell_type": "markdown",
      "metadata": {
        "id": "lTixOeOVRhaW"
      },
      "source": [
        "**TASK: Convert these to dummy variables, but [replace](https://pandas.pydata.org/pandas-docs/stable/reference/api/pandas.DataFrame.replace.html) NONE and ANY with OTHER, so that we end up with just 4 categories, MORTGAGE, RENT, OWN, OTHER. Then concatenate them with the original dataframe.**\n",
        "\n",
        "Remember to set drop_first=True and to drop the original columns."
      ]
    },
    {
      "cell_type": "code",
      "execution_count": 120,
      "metadata": {
        "id": "Qj5yo0ONRhaW"
      },
      "outputs": [],
      "source": [
        "df['home_ownership'] = df['home_ownership'].replace(['NONE', 'ANY'], 'OTHER')"
      ]
    },
    {
      "cell_type": "code",
      "execution_count": 121,
      "metadata": {
        "id": "GydIZa-M64jU"
      },
      "outputs": [],
      "source": [
        "dummies = pd.get_dummies(df['home_ownership'],drop_first=True)\n",
        "\n",
        "df = df.drop('home_ownership',axis=1)\n",
        "\n",
        "df = pd.concat([df,dummies],axis=1)"
      ]
    },
    {
      "cell_type": "code",
      "execution_count": 122,
      "metadata": {
        "colab": {
          "base_uri": "https://localhost:8080/",
          "height": 197
        },
        "id": "gKPDolF169nG",
        "outputId": "f720bffa-daca-47e6-cf61-9a70770238d2"
      },
      "outputs": [
        {
          "data": {
            "text/html": [
              "\n",
              "  <div id=\"df-a6fdd9ca-a009-4851-a9c4-d8d6f9eae9bd\">\n",
              "    <div class=\"colab-df-container\">\n",
              "      <div>\n",
              "<style scoped>\n",
              "    .dataframe tbody tr th:only-of-type {\n",
              "        vertical-align: middle;\n",
              "    }\n",
              "\n",
              "    .dataframe tbody tr th {\n",
              "        vertical-align: top;\n",
              "    }\n",
              "\n",
              "    .dataframe thead th {\n",
              "        text-align: right;\n",
              "    }\n",
              "</style>\n",
              "<table border=\"1\" class=\"dataframe\">\n",
              "  <thead>\n",
              "    <tr style=\"text-align: right;\">\n",
              "      <th></th>\n",
              "      <th>loan_amnt</th>\n",
              "      <th>term</th>\n",
              "      <th>int_rate</th>\n",
              "      <th>installment</th>\n",
              "      <th>annual_inc</th>\n",
              "      <th>issue_d</th>\n",
              "      <th>loan_status</th>\n",
              "      <th>dti</th>\n",
              "      <th>earliest_cr_line</th>\n",
              "      <th>open_acc</th>\n",
              "      <th>pub_rec</th>\n",
              "      <th>revol_bal</th>\n",
              "      <th>revol_util</th>\n",
              "      <th>total_acc</th>\n",
              "      <th>mort_acc</th>\n",
              "      <th>pub_rec_bankruptcies</th>\n",
              "      <th>address</th>\n",
              "      <th>loan_repaid</th>\n",
              "      <th>A2</th>\n",
              "      <th>A3</th>\n",
              "      <th>A4</th>\n",
              "      <th>A5</th>\n",
              "      <th>B1</th>\n",
              "      <th>B2</th>\n",
              "      <th>B3</th>\n",
              "      <th>B4</th>\n",
              "      <th>B5</th>\n",
              "      <th>C1</th>\n",
              "      <th>C2</th>\n",
              "      <th>C3</th>\n",
              "      <th>C4</th>\n",
              "      <th>C5</th>\n",
              "      <th>D1</th>\n",
              "      <th>D2</th>\n",
              "      <th>D3</th>\n",
              "      <th>D4</th>\n",
              "      <th>D5</th>\n",
              "      <th>E1</th>\n",
              "      <th>E2</th>\n",
              "      <th>E3</th>\n",
              "      <th>E4</th>\n",
              "      <th>E5</th>\n",
              "      <th>F1</th>\n",
              "      <th>F2</th>\n",
              "      <th>F3</th>\n",
              "      <th>F4</th>\n",
              "      <th>F5</th>\n",
              "      <th>G1</th>\n",
              "      <th>G2</th>\n",
              "      <th>G3</th>\n",
              "      <th>G4</th>\n",
              "      <th>G5</th>\n",
              "      <th>verification_status_Source Verified</th>\n",
              "      <th>verification_status_Verified</th>\n",
              "      <th>application_type_INDIVIDUAL</th>\n",
              "      <th>application_type_JOINT</th>\n",
              "      <th>initial_list_status_w</th>\n",
              "      <th>purpose_credit_card</th>\n",
              "      <th>purpose_debt_consolidation</th>\n",
              "      <th>purpose_educational</th>\n",
              "      <th>purpose_home_improvement</th>\n",
              "      <th>purpose_house</th>\n",
              "      <th>purpose_major_purchase</th>\n",
              "      <th>purpose_medical</th>\n",
              "      <th>purpose_moving</th>\n",
              "      <th>purpose_other</th>\n",
              "      <th>purpose_renewable_energy</th>\n",
              "      <th>purpose_small_business</th>\n",
              "      <th>purpose_vacation</th>\n",
              "      <th>purpose_wedding</th>\n",
              "      <th>OTHER</th>\n",
              "      <th>OWN</th>\n",
              "      <th>RENT</th>\n",
              "    </tr>\n",
              "  </thead>\n",
              "  <tbody>\n",
              "    <tr>\n",
              "      <th>0</th>\n",
              "      <td>10000.0</td>\n",
              "      <td>36</td>\n",
              "      <td>11.44</td>\n",
              "      <td>329.48</td>\n",
              "      <td>117000.0</td>\n",
              "      <td>Jan-2015</td>\n",
              "      <td>Fully Paid</td>\n",
              "      <td>26.24</td>\n",
              "      <td>Jun-1990</td>\n",
              "      <td>16.0</td>\n",
              "      <td>0.0</td>\n",
              "      <td>36369.0</td>\n",
              "      <td>41.8</td>\n",
              "      <td>25.0</td>\n",
              "      <td>0.0</td>\n",
              "      <td>0.0</td>\n",
              "      <td>0174 Michelle Gateway\\nMendozaberg, OK 22690</td>\n",
              "      <td>1</td>\n",
              "      <td>0</td>\n",
              "      <td>0</td>\n",
              "      <td>0</td>\n",
              "      <td>0</td>\n",
              "      <td>0</td>\n",
              "      <td>0</td>\n",
              "      <td>0</td>\n",
              "      <td>1</td>\n",
              "      <td>0</td>\n",
              "      <td>0</td>\n",
              "      <td>0</td>\n",
              "      <td>0</td>\n",
              "      <td>0</td>\n",
              "      <td>0</td>\n",
              "      <td>0</td>\n",
              "      <td>0</td>\n",
              "      <td>0</td>\n",
              "      <td>0</td>\n",
              "      <td>0</td>\n",
              "      <td>0</td>\n",
              "      <td>0</td>\n",
              "      <td>0</td>\n",
              "      <td>0</td>\n",
              "      <td>0</td>\n",
              "      <td>0</td>\n",
              "      <td>0</td>\n",
              "      <td>0</td>\n",
              "      <td>0</td>\n",
              "      <td>0</td>\n",
              "      <td>0</td>\n",
              "      <td>0</td>\n",
              "      <td>0</td>\n",
              "      <td>0</td>\n",
              "      <td>0</td>\n",
              "      <td>0</td>\n",
              "      <td>0</td>\n",
              "      <td>1</td>\n",
              "      <td>0</td>\n",
              "      <td>1</td>\n",
              "      <td>0</td>\n",
              "      <td>0</td>\n",
              "      <td>0</td>\n",
              "      <td>0</td>\n",
              "      <td>0</td>\n",
              "      <td>0</td>\n",
              "      <td>0</td>\n",
              "      <td>0</td>\n",
              "      <td>0</td>\n",
              "      <td>0</td>\n",
              "      <td>0</td>\n",
              "      <td>1</td>\n",
              "      <td>0</td>\n",
              "      <td>0</td>\n",
              "      <td>0</td>\n",
              "      <td>1</td>\n",
              "    </tr>\n",
              "  </tbody>\n",
              "</table>\n",
              "</div>\n",
              "      <button class=\"colab-df-convert\" onclick=\"convertToInteractive('df-a6fdd9ca-a009-4851-a9c4-d8d6f9eae9bd')\"\n",
              "              title=\"Convert this dataframe to an interactive table.\"\n",
              "              style=\"display:none;\">\n",
              "        \n",
              "  <svg xmlns=\"http://www.w3.org/2000/svg\" height=\"24px\"viewBox=\"0 0 24 24\"\n",
              "       width=\"24px\">\n",
              "    <path d=\"M0 0h24v24H0V0z\" fill=\"none\"/>\n",
              "    <path d=\"M18.56 5.44l.94 2.06.94-2.06 2.06-.94-2.06-.94-.94-2.06-.94 2.06-2.06.94zm-11 1L8.5 8.5l.94-2.06 2.06-.94-2.06-.94L8.5 2.5l-.94 2.06-2.06.94zm10 10l.94 2.06.94-2.06 2.06-.94-2.06-.94-.94-2.06-.94 2.06-2.06.94z\"/><path d=\"M17.41 7.96l-1.37-1.37c-.4-.4-.92-.59-1.43-.59-.52 0-1.04.2-1.43.59L10.3 9.45l-7.72 7.72c-.78.78-.78 2.05 0 2.83L4 21.41c.39.39.9.59 1.41.59.51 0 1.02-.2 1.41-.59l7.78-7.78 2.81-2.81c.8-.78.8-2.07 0-2.86zM5.41 20L4 18.59l7.72-7.72 1.47 1.35L5.41 20z\"/>\n",
              "  </svg>\n",
              "      </button>\n",
              "      \n",
              "  <style>\n",
              "    .colab-df-container {\n",
              "      display:flex;\n",
              "      flex-wrap:wrap;\n",
              "      gap: 12px;\n",
              "    }\n",
              "\n",
              "    .colab-df-convert {\n",
              "      background-color: #E8F0FE;\n",
              "      border: none;\n",
              "      border-radius: 50%;\n",
              "      cursor: pointer;\n",
              "      display: none;\n",
              "      fill: #1967D2;\n",
              "      height: 32px;\n",
              "      padding: 0 0 0 0;\n",
              "      width: 32px;\n",
              "    }\n",
              "\n",
              "    .colab-df-convert:hover {\n",
              "      background-color: #E2EBFA;\n",
              "      box-shadow: 0px 1px 2px rgba(60, 64, 67, 0.3), 0px 1px 3px 1px rgba(60, 64, 67, 0.15);\n",
              "      fill: #174EA6;\n",
              "    }\n",
              "\n",
              "    [theme=dark] .colab-df-convert {\n",
              "      background-color: #3B4455;\n",
              "      fill: #D2E3FC;\n",
              "    }\n",
              "\n",
              "    [theme=dark] .colab-df-convert:hover {\n",
              "      background-color: #434B5C;\n",
              "      box-shadow: 0px 1px 3px 1px rgba(0, 0, 0, 0.15);\n",
              "      filter: drop-shadow(0px 1px 2px rgba(0, 0, 0, 0.3));\n",
              "      fill: #FFFFFF;\n",
              "    }\n",
              "  </style>\n",
              "\n",
              "      <script>\n",
              "        const buttonEl =\n",
              "          document.querySelector('#df-a6fdd9ca-a009-4851-a9c4-d8d6f9eae9bd button.colab-df-convert');\n",
              "        buttonEl.style.display =\n",
              "          google.colab.kernel.accessAllowed ? 'block' : 'none';\n",
              "\n",
              "        async function convertToInteractive(key) {\n",
              "          const element = document.querySelector('#df-a6fdd9ca-a009-4851-a9c4-d8d6f9eae9bd');\n",
              "          const dataTable =\n",
              "            await google.colab.kernel.invokeFunction('convertToInteractive',\n",
              "                                                     [key], {});\n",
              "          if (!dataTable) return;\n",
              "\n",
              "          const docLinkHtml = 'Like what you see? Visit the ' +\n",
              "            '<a target=\"_blank\" href=https://colab.research.google.com/notebooks/data_table.ipynb>data table notebook</a>'\n",
              "            + ' to learn more about interactive tables.';\n",
              "          element.innerHTML = '';\n",
              "          dataTable['output_type'] = 'display_data';\n",
              "          await google.colab.output.renderOutput(dataTable, element);\n",
              "          const docLink = document.createElement('div');\n",
              "          docLink.innerHTML = docLinkHtml;\n",
              "          element.appendChild(docLink);\n",
              "        }\n",
              "      </script>\n",
              "    </div>\n",
              "  </div>\n",
              "  "
            ],
            "text/plain": [
              "   loan_amnt  term  int_rate  installment  ...  purpose_wedding OTHER OWN  RENT\n",
              "0    10000.0    36     11.44       329.48  ...                0     0   0     1\n",
              "\n",
              "[1 rows x 73 columns]"
            ]
          },
          "execution_count": 122,
          "metadata": {},
          "output_type": "execute_result"
        }
      ],
      "source": [
        "df.head(1)"
      ]
    },
    {
      "cell_type": "markdown",
      "metadata": {
        "id": "rylXxqM9RhaW"
      },
      "source": [
        "### address\n",
        "**TASK: Let's feature engineer a zip code column from the address in the data set. Create a column called 'zip_code' that extracts the zip code from the address column.**"
      ]
    },
    {
      "cell_type": "code",
      "execution_count": 123,
      "metadata": {
        "colab": {
          "base_uri": "https://localhost:8080/"
        },
        "id": "4GW3Rlgb7Tx6",
        "outputId": "6108c73d-96d7-4f3c-9537-ff55e5d25508"
      },
      "outputs": [
        {
          "data": {
            "text/plain": [
              "0              0174 Michelle Gateway\\nMendozaberg, OK 22690\n",
              "1           1076 Carney Fort Apt. 347\\nLoganmouth, SD 05113\n",
              "2           87025 Mark Dale Apt. 269\\nNew Sabrina, WV 05113\n",
              "3                     823 Reid Ford\\nDelacruzside, MA 00813\n",
              "4                      679 Luna Roads\\nGreggshire, VA 11650\n",
              "                                ...                        \n",
              "396025       12951 Williams Crossing\\nJohnnyville, DC 30723\n",
              "396026    0114 Fowler Field Suite 028\\nRachelborough, LA...\n",
              "396027     953 Matthew Points Suite 414\\nReedfort, NY 70466\n",
              "396028    7843 Blake Freeway Apt. 229\\nNew Michael, FL 2...\n",
              "396029          787 Michelle Causeway\\nBriannaton, AR 48052\n",
              "Name: address, Length: 395219, dtype: object"
            ]
          },
          "execution_count": 123,
          "metadata": {},
          "output_type": "execute_result"
        }
      ],
      "source": [
        "df['address']"
      ]
    },
    {
      "cell_type": "code",
      "execution_count": 124,
      "metadata": {
        "id": "v9bpQvS1RhaX"
      },
      "outputs": [],
      "source": [
        "df['zip_code'] = df['address'].apply(lambda address : address[-5:])"
      ]
    },
    {
      "cell_type": "code",
      "execution_count": 125,
      "metadata": {
        "colab": {
          "base_uri": "https://localhost:8080/"
        },
        "id": "262OSozO7yJY",
        "outputId": "17ee5c53-d5fa-468c-a296-6dfcec9d3ee8"
      },
      "outputs": [
        {
          "data": {
            "text/plain": [
              "0         22690\n",
              "1         05113\n",
              "2         05113\n",
              "3         00813\n",
              "4         11650\n",
              "          ...  \n",
              "396025    30723\n",
              "396026    05113\n",
              "396027    70466\n",
              "396028    29597\n",
              "396029    48052\n",
              "Name: zip_code, Length: 395219, dtype: object"
            ]
          },
          "execution_count": 125,
          "metadata": {},
          "output_type": "execute_result"
        }
      ],
      "source": [
        "df['zip_code']"
      ]
    },
    {
      "cell_type": "markdown",
      "metadata": {
        "id": "1TrfbswrRhaX"
      },
      "source": [
        "**TASK: Now make this zip_code column into dummy variables using pandas. Concatenate the result and drop the original zip_code column along with dropping the address column.**"
      ]
    },
    {
      "cell_type": "code",
      "execution_count": 126,
      "metadata": {
        "colab": {
          "base_uri": "https://localhost:8080/"
        },
        "id": "YBDZr6JI788r",
        "outputId": "9acf32b9-b3fc-43c5-8dde-102dc459adf8"
      },
      "outputs": [
        {
          "data": {
            "text/plain": [
              "70466    56880\n",
              "22690    56413\n",
              "30723    56402\n",
              "48052    55811\n",
              "00813    45725\n",
              "29597    45393\n",
              "05113    45300\n",
              "11650    11210\n",
              "93700    11126\n",
              "86630    10959\n",
              "Name: zip_code, dtype: int64"
            ]
          },
          "execution_count": 126,
          "metadata": {},
          "output_type": "execute_result"
        }
      ],
      "source": [
        "df['zip_code'].value_counts()"
      ]
    },
    {
      "cell_type": "code",
      "execution_count": 127,
      "metadata": {
        "id": "izY8q6QsRhaX"
      },
      "outputs": [],
      "source": [
        "dummies = pd.get_dummies(df['zip_code'],drop_first=True)\n",
        "\n",
        "df = df.drop(['zip_code','address'],axis=1)\n",
        "\n",
        "df = pd.concat([df,dummies],axis=1)"
      ]
    },
    {
      "cell_type": "code",
      "execution_count": 128,
      "metadata": {
        "colab": {
          "base_uri": "https://localhost:8080/",
          "height": 209
        },
        "id": "U8OFXFvU76V0",
        "outputId": "516c0e7c-0645-460f-d8b7-97f4f9222bf7"
      },
      "outputs": [
        {
          "data": {
            "text/html": [
              "\n",
              "  <div id=\"df-648f3947-8c0b-4154-a141-58030565095e\">\n",
              "    <div class=\"colab-df-container\">\n",
              "      <div>\n",
              "<style scoped>\n",
              "    .dataframe tbody tr th:only-of-type {\n",
              "        vertical-align: middle;\n",
              "    }\n",
              "\n",
              "    .dataframe tbody tr th {\n",
              "        vertical-align: top;\n",
              "    }\n",
              "\n",
              "    .dataframe thead th {\n",
              "        text-align: right;\n",
              "    }\n",
              "</style>\n",
              "<table border=\"1\" class=\"dataframe\">\n",
              "  <thead>\n",
              "    <tr style=\"text-align: right;\">\n",
              "      <th></th>\n",
              "      <th>loan_amnt</th>\n",
              "      <th>term</th>\n",
              "      <th>int_rate</th>\n",
              "      <th>installment</th>\n",
              "      <th>annual_inc</th>\n",
              "      <th>issue_d</th>\n",
              "      <th>loan_status</th>\n",
              "      <th>dti</th>\n",
              "      <th>earliest_cr_line</th>\n",
              "      <th>open_acc</th>\n",
              "      <th>pub_rec</th>\n",
              "      <th>revol_bal</th>\n",
              "      <th>revol_util</th>\n",
              "      <th>total_acc</th>\n",
              "      <th>mort_acc</th>\n",
              "      <th>pub_rec_bankruptcies</th>\n",
              "      <th>loan_repaid</th>\n",
              "      <th>A2</th>\n",
              "      <th>A3</th>\n",
              "      <th>A4</th>\n",
              "      <th>A5</th>\n",
              "      <th>B1</th>\n",
              "      <th>B2</th>\n",
              "      <th>B3</th>\n",
              "      <th>B4</th>\n",
              "      <th>B5</th>\n",
              "      <th>C1</th>\n",
              "      <th>C2</th>\n",
              "      <th>C3</th>\n",
              "      <th>C4</th>\n",
              "      <th>C5</th>\n",
              "      <th>D1</th>\n",
              "      <th>D2</th>\n",
              "      <th>D3</th>\n",
              "      <th>D4</th>\n",
              "      <th>D5</th>\n",
              "      <th>E1</th>\n",
              "      <th>E2</th>\n",
              "      <th>E3</th>\n",
              "      <th>E4</th>\n",
              "      <th>...</th>\n",
              "      <th>F1</th>\n",
              "      <th>F2</th>\n",
              "      <th>F3</th>\n",
              "      <th>F4</th>\n",
              "      <th>F5</th>\n",
              "      <th>G1</th>\n",
              "      <th>G2</th>\n",
              "      <th>G3</th>\n",
              "      <th>G4</th>\n",
              "      <th>G5</th>\n",
              "      <th>verification_status_Source Verified</th>\n",
              "      <th>verification_status_Verified</th>\n",
              "      <th>application_type_INDIVIDUAL</th>\n",
              "      <th>application_type_JOINT</th>\n",
              "      <th>initial_list_status_w</th>\n",
              "      <th>purpose_credit_card</th>\n",
              "      <th>purpose_debt_consolidation</th>\n",
              "      <th>purpose_educational</th>\n",
              "      <th>purpose_home_improvement</th>\n",
              "      <th>purpose_house</th>\n",
              "      <th>purpose_major_purchase</th>\n",
              "      <th>purpose_medical</th>\n",
              "      <th>purpose_moving</th>\n",
              "      <th>purpose_other</th>\n",
              "      <th>purpose_renewable_energy</th>\n",
              "      <th>purpose_small_business</th>\n",
              "      <th>purpose_vacation</th>\n",
              "      <th>purpose_wedding</th>\n",
              "      <th>OTHER</th>\n",
              "      <th>OWN</th>\n",
              "      <th>RENT</th>\n",
              "      <th>05113</th>\n",
              "      <th>11650</th>\n",
              "      <th>22690</th>\n",
              "      <th>29597</th>\n",
              "      <th>30723</th>\n",
              "      <th>48052</th>\n",
              "      <th>70466</th>\n",
              "      <th>86630</th>\n",
              "      <th>93700</th>\n",
              "    </tr>\n",
              "  </thead>\n",
              "  <tbody>\n",
              "    <tr>\n",
              "      <th>0</th>\n",
              "      <td>10000.0</td>\n",
              "      <td>36</td>\n",
              "      <td>11.44</td>\n",
              "      <td>329.48</td>\n",
              "      <td>117000.0</td>\n",
              "      <td>Jan-2015</td>\n",
              "      <td>Fully Paid</td>\n",
              "      <td>26.24</td>\n",
              "      <td>Jun-1990</td>\n",
              "      <td>16.0</td>\n",
              "      <td>0.0</td>\n",
              "      <td>36369.0</td>\n",
              "      <td>41.8</td>\n",
              "      <td>25.0</td>\n",
              "      <td>0.0</td>\n",
              "      <td>0.0</td>\n",
              "      <td>1</td>\n",
              "      <td>0</td>\n",
              "      <td>0</td>\n",
              "      <td>0</td>\n",
              "      <td>0</td>\n",
              "      <td>0</td>\n",
              "      <td>0</td>\n",
              "      <td>0</td>\n",
              "      <td>1</td>\n",
              "      <td>0</td>\n",
              "      <td>0</td>\n",
              "      <td>0</td>\n",
              "      <td>0</td>\n",
              "      <td>0</td>\n",
              "      <td>0</td>\n",
              "      <td>0</td>\n",
              "      <td>0</td>\n",
              "      <td>0</td>\n",
              "      <td>0</td>\n",
              "      <td>0</td>\n",
              "      <td>0</td>\n",
              "      <td>0</td>\n",
              "      <td>0</td>\n",
              "      <td>0</td>\n",
              "      <td>...</td>\n",
              "      <td>0</td>\n",
              "      <td>0</td>\n",
              "      <td>0</td>\n",
              "      <td>0</td>\n",
              "      <td>0</td>\n",
              "      <td>0</td>\n",
              "      <td>0</td>\n",
              "      <td>0</td>\n",
              "      <td>0</td>\n",
              "      <td>0</td>\n",
              "      <td>0</td>\n",
              "      <td>0</td>\n",
              "      <td>1</td>\n",
              "      <td>0</td>\n",
              "      <td>1</td>\n",
              "      <td>0</td>\n",
              "      <td>0</td>\n",
              "      <td>0</td>\n",
              "      <td>0</td>\n",
              "      <td>0</td>\n",
              "      <td>0</td>\n",
              "      <td>0</td>\n",
              "      <td>0</td>\n",
              "      <td>0</td>\n",
              "      <td>0</td>\n",
              "      <td>0</td>\n",
              "      <td>1</td>\n",
              "      <td>0</td>\n",
              "      <td>0</td>\n",
              "      <td>0</td>\n",
              "      <td>1</td>\n",
              "      <td>0</td>\n",
              "      <td>0</td>\n",
              "      <td>1</td>\n",
              "      <td>0</td>\n",
              "      <td>0</td>\n",
              "      <td>0</td>\n",
              "      <td>0</td>\n",
              "      <td>0</td>\n",
              "      <td>0</td>\n",
              "    </tr>\n",
              "  </tbody>\n",
              "</table>\n",
              "<p>1 rows × 81 columns</p>\n",
              "</div>\n",
              "      <button class=\"colab-df-convert\" onclick=\"convertToInteractive('df-648f3947-8c0b-4154-a141-58030565095e')\"\n",
              "              title=\"Convert this dataframe to an interactive table.\"\n",
              "              style=\"display:none;\">\n",
              "        \n",
              "  <svg xmlns=\"http://www.w3.org/2000/svg\" height=\"24px\"viewBox=\"0 0 24 24\"\n",
              "       width=\"24px\">\n",
              "    <path d=\"M0 0h24v24H0V0z\" fill=\"none\"/>\n",
              "    <path d=\"M18.56 5.44l.94 2.06.94-2.06 2.06-.94-2.06-.94-.94-2.06-.94 2.06-2.06.94zm-11 1L8.5 8.5l.94-2.06 2.06-.94-2.06-.94L8.5 2.5l-.94 2.06-2.06.94zm10 10l.94 2.06.94-2.06 2.06-.94-2.06-.94-.94-2.06-.94 2.06-2.06.94z\"/><path d=\"M17.41 7.96l-1.37-1.37c-.4-.4-.92-.59-1.43-.59-.52 0-1.04.2-1.43.59L10.3 9.45l-7.72 7.72c-.78.78-.78 2.05 0 2.83L4 21.41c.39.39.9.59 1.41.59.51 0 1.02-.2 1.41-.59l7.78-7.78 2.81-2.81c.8-.78.8-2.07 0-2.86zM5.41 20L4 18.59l7.72-7.72 1.47 1.35L5.41 20z\"/>\n",
              "  </svg>\n",
              "      </button>\n",
              "      \n",
              "  <style>\n",
              "    .colab-df-container {\n",
              "      display:flex;\n",
              "      flex-wrap:wrap;\n",
              "      gap: 12px;\n",
              "    }\n",
              "\n",
              "    .colab-df-convert {\n",
              "      background-color: #E8F0FE;\n",
              "      border: none;\n",
              "      border-radius: 50%;\n",
              "      cursor: pointer;\n",
              "      display: none;\n",
              "      fill: #1967D2;\n",
              "      height: 32px;\n",
              "      padding: 0 0 0 0;\n",
              "      width: 32px;\n",
              "    }\n",
              "\n",
              "    .colab-df-convert:hover {\n",
              "      background-color: #E2EBFA;\n",
              "      box-shadow: 0px 1px 2px rgba(60, 64, 67, 0.3), 0px 1px 3px 1px rgba(60, 64, 67, 0.15);\n",
              "      fill: #174EA6;\n",
              "    }\n",
              "\n",
              "    [theme=dark] .colab-df-convert {\n",
              "      background-color: #3B4455;\n",
              "      fill: #D2E3FC;\n",
              "    }\n",
              "\n",
              "    [theme=dark] .colab-df-convert:hover {\n",
              "      background-color: #434B5C;\n",
              "      box-shadow: 0px 1px 3px 1px rgba(0, 0, 0, 0.15);\n",
              "      filter: drop-shadow(0px 1px 2px rgba(0, 0, 0, 0.3));\n",
              "      fill: #FFFFFF;\n",
              "    }\n",
              "  </style>\n",
              "\n",
              "      <script>\n",
              "        const buttonEl =\n",
              "          document.querySelector('#df-648f3947-8c0b-4154-a141-58030565095e button.colab-df-convert');\n",
              "        buttonEl.style.display =\n",
              "          google.colab.kernel.accessAllowed ? 'block' : 'none';\n",
              "\n",
              "        async function convertToInteractive(key) {\n",
              "          const element = document.querySelector('#df-648f3947-8c0b-4154-a141-58030565095e');\n",
              "          const dataTable =\n",
              "            await google.colab.kernel.invokeFunction('convertToInteractive',\n",
              "                                                     [key], {});\n",
              "          if (!dataTable) return;\n",
              "\n",
              "          const docLinkHtml = 'Like what you see? Visit the ' +\n",
              "            '<a target=\"_blank\" href=https://colab.research.google.com/notebooks/data_table.ipynb>data table notebook</a>'\n",
              "            + ' to learn more about interactive tables.';\n",
              "          element.innerHTML = '';\n",
              "          dataTable['output_type'] = 'display_data';\n",
              "          await google.colab.output.renderOutput(dataTable, element);\n",
              "          const docLink = document.createElement('div');\n",
              "          docLink.innerHTML = docLinkHtml;\n",
              "          element.appendChild(docLink);\n",
              "        }\n",
              "      </script>\n",
              "    </div>\n",
              "  </div>\n",
              "  "
            ],
            "text/plain": [
              "   loan_amnt  term  int_rate  installment  ...  48052 70466 86630  93700\n",
              "0    10000.0    36     11.44       329.48  ...      0     0     0      0\n",
              "\n",
              "[1 rows x 81 columns]"
            ]
          },
          "execution_count": 128,
          "metadata": {},
          "output_type": "execute_result"
        }
      ],
      "source": [
        "df.head(1)"
      ]
    },
    {
      "cell_type": "markdown",
      "metadata": {
        "id": "SOPF4kPpRhaX"
      },
      "source": [
        "### issue_d \n",
        "\n",
        "**TASK: This would be data leakage, we wouldn't know beforehand whether or not a loan would be issued when using our model, so in theory we wouldn't have an issue_date, drop this feature.**"
      ]
    },
    {
      "cell_type": "code",
      "execution_count": 129,
      "metadata": {
        "colab": {
          "base_uri": "https://localhost:8080/"
        },
        "id": "24h3o__T8jY2",
        "outputId": "7a977465-7fa3-4a28-f50c-5fc392f9e2a6"
      },
      "outputs": [
        {
          "name": "stdout",
          "output_type": "stream",
          "text": [
            "The month which the loan was funded\n"
          ]
        }
      ],
      "source": [
        "feat_info('issue_d')"
      ]
    },
    {
      "cell_type": "code",
      "execution_count": 130,
      "metadata": {
        "id": "fNTQbI18RhaY"
      },
      "outputs": [],
      "source": [
        "df = df.drop('issue_d',axis=1)"
      ]
    },
    {
      "cell_type": "code",
      "execution_count": 131,
      "metadata": {
        "colab": {
          "base_uri": "https://localhost:8080/"
        },
        "id": "PfahAw668tho",
        "outputId": "4e8da491-7577-4a2d-dcbb-36229d4debba"
      },
      "outputs": [
        {
          "data": {
            "text/plain": [
              "Index(['loan_status', 'earliest_cr_line'], dtype='object')"
            ]
          },
          "execution_count": 131,
          "metadata": {},
          "output_type": "execute_result"
        }
      ],
      "source": [
        "df.select_dtypes(['object']).columns"
      ]
    },
    {
      "cell_type": "markdown",
      "metadata": {
        "id": "4rTHR4Z8RhaY"
      },
      "source": [
        "### earliest_cr_line\n",
        "**TASK: This appears to be a historical time stamp feature. Extract the year from this feature using a .apply function, then convert it to a numeric feature. Set this new data to a feature column called 'earliest_cr_year'.Then drop the earliest_cr_line feature.**"
      ]
    },
    {
      "cell_type": "code",
      "execution_count": 133,
      "metadata": {
        "colab": {
          "base_uri": "https://localhost:8080/"
        },
        "id": "_oInQbEdRhaY",
        "outputId": "07642218-d6ac-48f9-9051-f25971639539"
      },
      "outputs": [
        {
          "name": "stdout",
          "output_type": "stream",
          "text": [
            "The month the borrower's earliest reported credit line was opened\n"
          ]
        }
      ],
      "source": [
        "feat_info('earliest_cr_line')"
      ]
    },
    {
      "cell_type": "code",
      "execution_count": 134,
      "metadata": {
        "colab": {
          "base_uri": "https://localhost:8080/"
        },
        "id": "VCD3Sh_J9EsT",
        "outputId": "bddc784c-d8ed-441d-e2e2-943572e5793b"
      },
      "outputs": [
        {
          "data": {
            "text/plain": [
              "0         Jun-1990\n",
              "1         Jul-2004\n",
              "2         Aug-2007\n",
              "3         Sep-2006\n",
              "4         Mar-1999\n",
              "            ...   \n",
              "396025    Nov-2004\n",
              "396026    Feb-2006\n",
              "396027    Mar-1997\n",
              "396028    Nov-1990\n",
              "396029    Sep-1998\n",
              "Name: earliest_cr_line, Length: 395219, dtype: object"
            ]
          },
          "execution_count": 134,
          "metadata": {},
          "output_type": "execute_result"
        }
      ],
      "source": [
        "df['earliest_cr_line']"
      ]
    },
    {
      "cell_type": "code",
      "execution_count": 135,
      "metadata": {
        "id": "H34oDnr_RhaY"
      },
      "outputs": [],
      "source": [
        "df['earliest_cr_year'] = df['earliest_cr_line'].apply(lambda date:int(date[-4:]))\n",
        "\n",
        "df = df.drop('earliest_cr_line',axis=1)"
      ]
    },
    {
      "cell_type": "code",
      "execution_count": 136,
      "metadata": {
        "colab": {
          "base_uri": "https://localhost:8080/"
        },
        "id": "7Fw849xtRhaY",
        "outputId": "25279f1f-4db0-43cc-ae3d-cb9ad878b26d"
      },
      "outputs": [
        {
          "data": {
            "text/plain": [
              "Index(['loan_status'], dtype='object')"
            ]
          },
          "execution_count": 136,
          "metadata": {},
          "output_type": "execute_result"
        }
      ],
      "source": [
        "df.select_dtypes(['object']).columns"
      ]
    },
    {
      "cell_type": "code",
      "execution_count": 137,
      "metadata": {
        "colab": {
          "base_uri": "https://localhost:8080/"
        },
        "id": "I17D5Kb69PDy",
        "outputId": "93a14ba6-b627-4bed-ea64-168835d2adbd"
      },
      "outputs": [
        {
          "name": "stdout",
          "output_type": "stream",
          "text": [
            "<class 'pandas.core.frame.DataFrame'>\n",
            "Int64Index: 395219 entries, 0 to 396029\n",
            "Data columns (total 80 columns):\n",
            " #   Column                               Non-Null Count   Dtype  \n",
            "---  ------                               --------------   -----  \n",
            " 0   loan_amnt                            395219 non-null  float64\n",
            " 1   term                                 395219 non-null  int64  \n",
            " 2   int_rate                             395219 non-null  float64\n",
            " 3   installment                          395219 non-null  float64\n",
            " 4   annual_inc                           395219 non-null  float64\n",
            " 5   loan_status                          395219 non-null  object \n",
            " 6   dti                                  395219 non-null  float64\n",
            " 7   open_acc                             395219 non-null  float64\n",
            " 8   pub_rec                              395219 non-null  float64\n",
            " 9   revol_bal                            395219 non-null  float64\n",
            " 10  revol_util                           395219 non-null  float64\n",
            " 11  total_acc                            395219 non-null  float64\n",
            " 12  mort_acc                             395219 non-null  float64\n",
            " 13  pub_rec_bankruptcies                 395219 non-null  float64\n",
            " 14  loan_repaid                          395219 non-null  int64  \n",
            " 15  A2                                   395219 non-null  uint8  \n",
            " 16  A3                                   395219 non-null  uint8  \n",
            " 17  A4                                   395219 non-null  uint8  \n",
            " 18  A5                                   395219 non-null  uint8  \n",
            " 19  B1                                   395219 non-null  uint8  \n",
            " 20  B2                                   395219 non-null  uint8  \n",
            " 21  B3                                   395219 non-null  uint8  \n",
            " 22  B4                                   395219 non-null  uint8  \n",
            " 23  B5                                   395219 non-null  uint8  \n",
            " 24  C1                                   395219 non-null  uint8  \n",
            " 25  C2                                   395219 non-null  uint8  \n",
            " 26  C3                                   395219 non-null  uint8  \n",
            " 27  C4                                   395219 non-null  uint8  \n",
            " 28  C5                                   395219 non-null  uint8  \n",
            " 29  D1                                   395219 non-null  uint8  \n",
            " 30  D2                                   395219 non-null  uint8  \n",
            " 31  D3                                   395219 non-null  uint8  \n",
            " 32  D4                                   395219 non-null  uint8  \n",
            " 33  D5                                   395219 non-null  uint8  \n",
            " 34  E1                                   395219 non-null  uint8  \n",
            " 35  E2                                   395219 non-null  uint8  \n",
            " 36  E3                                   395219 non-null  uint8  \n",
            " 37  E4                                   395219 non-null  uint8  \n",
            " 38  E5                                   395219 non-null  uint8  \n",
            " 39  F1                                   395219 non-null  uint8  \n",
            " 40  F2                                   395219 non-null  uint8  \n",
            " 41  F3                                   395219 non-null  uint8  \n",
            " 42  F4                                   395219 non-null  uint8  \n",
            " 43  F5                                   395219 non-null  uint8  \n",
            " 44  G1                                   395219 non-null  uint8  \n",
            " 45  G2                                   395219 non-null  uint8  \n",
            " 46  G3                                   395219 non-null  uint8  \n",
            " 47  G4                                   395219 non-null  uint8  \n",
            " 48  G5                                   395219 non-null  uint8  \n",
            " 49  verification_status_Source Verified  395219 non-null  uint8  \n",
            " 50  verification_status_Verified         395219 non-null  uint8  \n",
            " 51  application_type_INDIVIDUAL          395219 non-null  uint8  \n",
            " 52  application_type_JOINT               395219 non-null  uint8  \n",
            " 53  initial_list_status_w                395219 non-null  uint8  \n",
            " 54  purpose_credit_card                  395219 non-null  uint8  \n",
            " 55  purpose_debt_consolidation           395219 non-null  uint8  \n",
            " 56  purpose_educational                  395219 non-null  uint8  \n",
            " 57  purpose_home_improvement             395219 non-null  uint8  \n",
            " 58  purpose_house                        395219 non-null  uint8  \n",
            " 59  purpose_major_purchase               395219 non-null  uint8  \n",
            " 60  purpose_medical                      395219 non-null  uint8  \n",
            " 61  purpose_moving                       395219 non-null  uint8  \n",
            " 62  purpose_other                        395219 non-null  uint8  \n",
            " 63  purpose_renewable_energy             395219 non-null  uint8  \n",
            " 64  purpose_small_business               395219 non-null  uint8  \n",
            " 65  purpose_vacation                     395219 non-null  uint8  \n",
            " 66  purpose_wedding                      395219 non-null  uint8  \n",
            " 67  OTHER                                395219 non-null  uint8  \n",
            " 68  OWN                                  395219 non-null  uint8  \n",
            " 69  RENT                                 395219 non-null  uint8  \n",
            " 70  05113                                395219 non-null  uint8  \n",
            " 71  11650                                395219 non-null  uint8  \n",
            " 72  22690                                395219 non-null  uint8  \n",
            " 73  29597                                395219 non-null  uint8  \n",
            " 74  30723                                395219 non-null  uint8  \n",
            " 75  48052                                395219 non-null  uint8  \n",
            " 76  70466                                395219 non-null  uint8  \n",
            " 77  86630                                395219 non-null  uint8  \n",
            " 78  93700                                395219 non-null  uint8  \n",
            " 79  earliest_cr_year                     395219 non-null  int64  \n",
            "dtypes: float64(12), int64(3), object(1), uint8(64)\n",
            "memory usage: 85.4+ MB\n"
          ]
        }
      ],
      "source": [
        "df.info()"
      ]
    },
    {
      "cell_type": "code",
      "execution_count": 138,
      "metadata": {
        "colab": {
          "base_uri": "https://localhost:8080/",
          "height": 162
        },
        "id": "EgT56-F89XYP",
        "outputId": "b699748f-5fdc-440e-bb01-6feb4561fbd0"
      },
      "outputs": [
        {
          "data": {
            "text/html": [
              "\n",
              "  <div id=\"df-6ed2ab9a-d4a7-4083-920e-0a2c52b241b3\">\n",
              "    <div class=\"colab-df-container\">\n",
              "      <div>\n",
              "<style scoped>\n",
              "    .dataframe tbody tr th:only-of-type {\n",
              "        vertical-align: middle;\n",
              "    }\n",
              "\n",
              "    .dataframe tbody tr th {\n",
              "        vertical-align: top;\n",
              "    }\n",
              "\n",
              "    .dataframe thead th {\n",
              "        text-align: right;\n",
              "    }\n",
              "</style>\n",
              "<table border=\"1\" class=\"dataframe\">\n",
              "  <thead>\n",
              "    <tr style=\"text-align: right;\">\n",
              "      <th></th>\n",
              "      <th>loan_amnt</th>\n",
              "      <th>term</th>\n",
              "      <th>int_rate</th>\n",
              "      <th>installment</th>\n",
              "      <th>annual_inc</th>\n",
              "      <th>loan_status</th>\n",
              "      <th>dti</th>\n",
              "      <th>open_acc</th>\n",
              "      <th>pub_rec</th>\n",
              "      <th>revol_bal</th>\n",
              "      <th>revol_util</th>\n",
              "      <th>total_acc</th>\n",
              "      <th>mort_acc</th>\n",
              "      <th>pub_rec_bankruptcies</th>\n",
              "      <th>loan_repaid</th>\n",
              "      <th>A2</th>\n",
              "      <th>A3</th>\n",
              "      <th>A4</th>\n",
              "      <th>A5</th>\n",
              "      <th>B1</th>\n",
              "      <th>B2</th>\n",
              "      <th>B3</th>\n",
              "      <th>B4</th>\n",
              "      <th>B5</th>\n",
              "      <th>C1</th>\n",
              "      <th>C2</th>\n",
              "      <th>C3</th>\n",
              "      <th>C4</th>\n",
              "      <th>C5</th>\n",
              "      <th>D1</th>\n",
              "      <th>D2</th>\n",
              "      <th>D3</th>\n",
              "      <th>D4</th>\n",
              "      <th>D5</th>\n",
              "      <th>E1</th>\n",
              "      <th>E2</th>\n",
              "      <th>E3</th>\n",
              "      <th>E4</th>\n",
              "      <th>E5</th>\n",
              "      <th>F1</th>\n",
              "      <th>F2</th>\n",
              "      <th>F3</th>\n",
              "      <th>F4</th>\n",
              "      <th>F5</th>\n",
              "      <th>G1</th>\n",
              "      <th>G2</th>\n",
              "      <th>G3</th>\n",
              "      <th>G4</th>\n",
              "      <th>G5</th>\n",
              "      <th>verification_status_Source Verified</th>\n",
              "      <th>verification_status_Verified</th>\n",
              "      <th>application_type_INDIVIDUAL</th>\n",
              "      <th>application_type_JOINT</th>\n",
              "      <th>initial_list_status_w</th>\n",
              "      <th>purpose_credit_card</th>\n",
              "      <th>purpose_debt_consolidation</th>\n",
              "      <th>purpose_educational</th>\n",
              "      <th>purpose_home_improvement</th>\n",
              "      <th>purpose_house</th>\n",
              "      <th>purpose_major_purchase</th>\n",
              "      <th>purpose_medical</th>\n",
              "      <th>purpose_moving</th>\n",
              "      <th>purpose_other</th>\n",
              "      <th>purpose_renewable_energy</th>\n",
              "      <th>purpose_small_business</th>\n",
              "      <th>purpose_vacation</th>\n",
              "      <th>purpose_wedding</th>\n",
              "      <th>OTHER</th>\n",
              "      <th>OWN</th>\n",
              "      <th>RENT</th>\n",
              "      <th>05113</th>\n",
              "      <th>11650</th>\n",
              "      <th>22690</th>\n",
              "      <th>29597</th>\n",
              "      <th>30723</th>\n",
              "      <th>48052</th>\n",
              "      <th>70466</th>\n",
              "      <th>86630</th>\n",
              "      <th>93700</th>\n",
              "      <th>earliest_cr_year</th>\n",
              "    </tr>\n",
              "  </thead>\n",
              "  <tbody>\n",
              "    <tr>\n",
              "      <th>0</th>\n",
              "      <td>10000.0</td>\n",
              "      <td>36</td>\n",
              "      <td>11.44</td>\n",
              "      <td>329.48</td>\n",
              "      <td>117000.0</td>\n",
              "      <td>Fully Paid</td>\n",
              "      <td>26.24</td>\n",
              "      <td>16.0</td>\n",
              "      <td>0.0</td>\n",
              "      <td>36369.0</td>\n",
              "      <td>41.8</td>\n",
              "      <td>25.0</td>\n",
              "      <td>0.0</td>\n",
              "      <td>0.0</td>\n",
              "      <td>1</td>\n",
              "      <td>0</td>\n",
              "      <td>0</td>\n",
              "      <td>0</td>\n",
              "      <td>0</td>\n",
              "      <td>0</td>\n",
              "      <td>0</td>\n",
              "      <td>0</td>\n",
              "      <td>1</td>\n",
              "      <td>0</td>\n",
              "      <td>0</td>\n",
              "      <td>0</td>\n",
              "      <td>0</td>\n",
              "      <td>0</td>\n",
              "      <td>0</td>\n",
              "      <td>0</td>\n",
              "      <td>0</td>\n",
              "      <td>0</td>\n",
              "      <td>0</td>\n",
              "      <td>0</td>\n",
              "      <td>0</td>\n",
              "      <td>0</td>\n",
              "      <td>0</td>\n",
              "      <td>0</td>\n",
              "      <td>0</td>\n",
              "      <td>0</td>\n",
              "      <td>0</td>\n",
              "      <td>0</td>\n",
              "      <td>0</td>\n",
              "      <td>0</td>\n",
              "      <td>0</td>\n",
              "      <td>0</td>\n",
              "      <td>0</td>\n",
              "      <td>0</td>\n",
              "      <td>0</td>\n",
              "      <td>0</td>\n",
              "      <td>0</td>\n",
              "      <td>1</td>\n",
              "      <td>0</td>\n",
              "      <td>1</td>\n",
              "      <td>0</td>\n",
              "      <td>0</td>\n",
              "      <td>0</td>\n",
              "      <td>0</td>\n",
              "      <td>0</td>\n",
              "      <td>0</td>\n",
              "      <td>0</td>\n",
              "      <td>0</td>\n",
              "      <td>0</td>\n",
              "      <td>0</td>\n",
              "      <td>0</td>\n",
              "      <td>1</td>\n",
              "      <td>0</td>\n",
              "      <td>0</td>\n",
              "      <td>0</td>\n",
              "      <td>1</td>\n",
              "      <td>0</td>\n",
              "      <td>0</td>\n",
              "      <td>1</td>\n",
              "      <td>0</td>\n",
              "      <td>0</td>\n",
              "      <td>0</td>\n",
              "      <td>0</td>\n",
              "      <td>0</td>\n",
              "      <td>0</td>\n",
              "      <td>1990</td>\n",
              "    </tr>\n",
              "  </tbody>\n",
              "</table>\n",
              "</div>\n",
              "      <button class=\"colab-df-convert\" onclick=\"convertToInteractive('df-6ed2ab9a-d4a7-4083-920e-0a2c52b241b3')\"\n",
              "              title=\"Convert this dataframe to an interactive table.\"\n",
              "              style=\"display:none;\">\n",
              "        \n",
              "  <svg xmlns=\"http://www.w3.org/2000/svg\" height=\"24px\"viewBox=\"0 0 24 24\"\n",
              "       width=\"24px\">\n",
              "    <path d=\"M0 0h24v24H0V0z\" fill=\"none\"/>\n",
              "    <path d=\"M18.56 5.44l.94 2.06.94-2.06 2.06-.94-2.06-.94-.94-2.06-.94 2.06-2.06.94zm-11 1L8.5 8.5l.94-2.06 2.06-.94-2.06-.94L8.5 2.5l-.94 2.06-2.06.94zm10 10l.94 2.06.94-2.06 2.06-.94-2.06-.94-.94-2.06-.94 2.06-2.06.94z\"/><path d=\"M17.41 7.96l-1.37-1.37c-.4-.4-.92-.59-1.43-.59-.52 0-1.04.2-1.43.59L10.3 9.45l-7.72 7.72c-.78.78-.78 2.05 0 2.83L4 21.41c.39.39.9.59 1.41.59.51 0 1.02-.2 1.41-.59l7.78-7.78 2.81-2.81c.8-.78.8-2.07 0-2.86zM5.41 20L4 18.59l7.72-7.72 1.47 1.35L5.41 20z\"/>\n",
              "  </svg>\n",
              "      </button>\n",
              "      \n",
              "  <style>\n",
              "    .colab-df-container {\n",
              "      display:flex;\n",
              "      flex-wrap:wrap;\n",
              "      gap: 12px;\n",
              "    }\n",
              "\n",
              "    .colab-df-convert {\n",
              "      background-color: #E8F0FE;\n",
              "      border: none;\n",
              "      border-radius: 50%;\n",
              "      cursor: pointer;\n",
              "      display: none;\n",
              "      fill: #1967D2;\n",
              "      height: 32px;\n",
              "      padding: 0 0 0 0;\n",
              "      width: 32px;\n",
              "    }\n",
              "\n",
              "    .colab-df-convert:hover {\n",
              "      background-color: #E2EBFA;\n",
              "      box-shadow: 0px 1px 2px rgba(60, 64, 67, 0.3), 0px 1px 3px 1px rgba(60, 64, 67, 0.15);\n",
              "      fill: #174EA6;\n",
              "    }\n",
              "\n",
              "    [theme=dark] .colab-df-convert {\n",
              "      background-color: #3B4455;\n",
              "      fill: #D2E3FC;\n",
              "    }\n",
              "\n",
              "    [theme=dark] .colab-df-convert:hover {\n",
              "      background-color: #434B5C;\n",
              "      box-shadow: 0px 1px 3px 1px rgba(0, 0, 0, 0.15);\n",
              "      filter: drop-shadow(0px 1px 2px rgba(0, 0, 0, 0.3));\n",
              "      fill: #FFFFFF;\n",
              "    }\n",
              "  </style>\n",
              "\n",
              "      <script>\n",
              "        const buttonEl =\n",
              "          document.querySelector('#df-6ed2ab9a-d4a7-4083-920e-0a2c52b241b3 button.colab-df-convert');\n",
              "        buttonEl.style.display =\n",
              "          google.colab.kernel.accessAllowed ? 'block' : 'none';\n",
              "\n",
              "        async function convertToInteractive(key) {\n",
              "          const element = document.querySelector('#df-6ed2ab9a-d4a7-4083-920e-0a2c52b241b3');\n",
              "          const dataTable =\n",
              "            await google.colab.kernel.invokeFunction('convertToInteractive',\n",
              "                                                     [key], {});\n",
              "          if (!dataTable) return;\n",
              "\n",
              "          const docLinkHtml = 'Like what you see? Visit the ' +\n",
              "            '<a target=\"_blank\" href=https://colab.research.google.com/notebooks/data_table.ipynb>data table notebook</a>'\n",
              "            + ' to learn more about interactive tables.';\n",
              "          element.innerHTML = '';\n",
              "          dataTable['output_type'] = 'display_data';\n",
              "          await google.colab.output.renderOutput(dataTable, element);\n",
              "          const docLink = document.createElement('div');\n",
              "          docLink.innerHTML = docLinkHtml;\n",
              "          element.appendChild(docLink);\n",
              "        }\n",
              "      </script>\n",
              "    </div>\n",
              "  </div>\n",
              "  "
            ],
            "text/plain": [
              "   loan_amnt  term  int_rate  ...  86630  93700 earliest_cr_year\n",
              "0    10000.0    36     11.44  ...      0      0             1990\n",
              "\n",
              "[1 rows x 80 columns]"
            ]
          },
          "execution_count": 138,
          "metadata": {},
          "output_type": "execute_result"
        }
      ],
      "source": [
        "df.head(1)"
      ]
    },
    {
      "cell_type": "markdown",
      "metadata": {
        "id": "wO5B_eH3RhaY"
      },
      "source": [
        "## Train Test Split"
      ]
    },
    {
      "cell_type": "code",
      "execution_count": 139,
      "metadata": {
        "id": "MkJu5owsRhaZ"
      },
      "outputs": [],
      "source": [
        "from sklearn.model_selection import train_test_split"
      ]
    },
    {
      "cell_type": "markdown",
      "metadata": {
        "id": "Tor9GUQkRhaZ"
      },
      "source": [
        "**TASK: drop the load_status column we created earlier, since its a duplicate of the loan_repaid column.**\n",
        "\n",
        "Use the loan_repaid column since its already in 0s and 1s."
      ]
    },
    {
      "cell_type": "code",
      "execution_count": 140,
      "metadata": {
        "id": "vbRLYr4-RhaZ"
      },
      "outputs": [],
      "source": [
        "df = df.drop('loan_status',axis=1)"
      ]
    },
    {
      "cell_type": "markdown",
      "metadata": {
        "id": "9g3TScFuRhaZ"
      },
      "source": [
        "**TASK: Set X and y variables to the .values of the features and label.**"
      ]
    },
    {
      "cell_type": "code",
      "execution_count": 141,
      "metadata": {
        "id": "yh5eLV2FRhaa"
      },
      "outputs": [],
      "source": [
        "X = df.drop('loan_repaid',axis=1).values\n",
        "y = df['loan_repaid'].values"
      ]
    },
    {
      "cell_type": "markdown",
      "metadata": {
        "id": "KLgAgYg6Rhaa"
      },
      "source": [
        "\n",
        "## Grabbing a Sample for Training Time (Optional)\n"
      ]
    },
    {
      "cell_type": "code",
      "execution_count": 142,
      "metadata": {
        "colab": {
          "base_uri": "https://localhost:8080/"
        },
        "id": "47xjWKgSRhaa",
        "outputId": "d40d155c-c080-49df-dccd-f63fe9b846c4"
      },
      "outputs": [
        {
          "name": "stdout",
          "output_type": "stream",
          "text": [
            "395219\n"
          ]
        }
      ],
      "source": [
        "# df = df.sample(frac=0.1,random_state=101)\n",
        "\n",
        "print(len(df))"
      ]
    },
    {
      "cell_type": "markdown",
      "metadata": {
        "id": "wkV7lheLRhaa"
      },
      "source": [
        "**TASK: Perform a train/test split with test_size=0.2 and a random_state of 101.**"
      ]
    },
    {
      "cell_type": "code",
      "execution_count": 143,
      "metadata": {
        "id": "oye8afd_Rhaa"
      },
      "outputs": [],
      "source": [
        "X_train, X_test, y_train, y_test = train_test_split(X, y, test_size=0.20, random_state=101)"
      ]
    },
    {
      "cell_type": "markdown",
      "metadata": {
        "id": "SZJ5lPMqRhab"
      },
      "source": [
        "## Normalizing the Data\n",
        "\n",
        "**TASK: Use a MinMaxScaler to normalize the feature data X_train and X_test.**\n",
        "\n",
        "**Recall we don't want data leakge from the test set so we only fit on the X_train data.**"
      ]
    },
    {
      "cell_type": "code",
      "execution_count": 144,
      "metadata": {
        "id": "X6Vmle94Rhab"
      },
      "outputs": [],
      "source": [
        "from sklearn.preprocessing import MinMaxScaler"
      ]
    },
    {
      "cell_type": "code",
      "execution_count": 145,
      "metadata": {
        "id": "1EsudtavRhab"
      },
      "outputs": [],
      "source": [
        "scaler = MinMaxScaler()"
      ]
    },
    {
      "cell_type": "code",
      "execution_count": 146,
      "metadata": {
        "id": "QUOfAHlqRhab"
      },
      "outputs": [],
      "source": [
        "X_train = scaler.fit_transform(X_train)"
      ]
    },
    {
      "cell_type": "code",
      "execution_count": 147,
      "metadata": {
        "id": "UHqYF9J6Rhab"
      },
      "outputs": [],
      "source": [
        "X_test = scaler.transform(X_test)"
      ]
    },
    {
      "cell_type": "code",
      "execution_count": 149,
      "metadata": {
        "colab": {
          "base_uri": "https://localhost:8080/"
        },
        "id": "QTRbLTzzBRKb",
        "outputId": "ff176cef-cfbc-4723-db69-9575aa56438f"
      },
      "outputs": [
        {
          "data": {
            "text/plain": [
              "(316175, 78)"
            ]
          },
          "execution_count": 149,
          "metadata": {},
          "output_type": "execute_result"
        }
      ],
      "source": [
        "X_train.shape"
      ]
    },
    {
      "cell_type": "code",
      "execution_count": 150,
      "metadata": {
        "colab": {
          "base_uri": "https://localhost:8080/"
        },
        "id": "zRv8f0stBTnx",
        "outputId": "b28ae76b-ef4d-4b55-fa9a-b8b593fd18df"
      },
      "outputs": [
        {
          "data": {
            "text/plain": [
              "(79044, 78)"
            ]
          },
          "execution_count": 150,
          "metadata": {},
          "output_type": "execute_result"
        }
      ],
      "source": [
        "X_test.shape"
      ]
    },
    {
      "cell_type": "markdown",
      "metadata": {
        "id": "0atTE9lNRhab"
      },
      "source": [
        "# Creating the Model\n"
      ]
    },
    {
      "cell_type": "code",
      "execution_count": 148,
      "metadata": {
        "id": "4x9J08eSRhac"
      },
      "outputs": [],
      "source": [
        "import tensorflow as tf\n",
        "from tensorflow.keras.models import Sequential\n",
        "from tensorflow.keras.layers import Dense, Activation,Dropout\n",
        "from tensorflow.keras.constraints import max_norm"
      ]
    },
    {
      "cell_type": "markdown",
      "metadata": {
        "id": "yz8Vsw-gRhac"
      },
      "source": [
        "**TASK: Build a sequential model to will be trained on the data.**"
      ]
    },
    {
      "cell_type": "code",
      "execution_count": 151,
      "metadata": {
        "id": "bgyG0ZUiRhac"
      },
      "outputs": [],
      "source": [
        "model = Sequential()\n",
        "\n",
        "# input layer\n",
        "model.add(Dense(78,  activation='relu'))\n",
        "model.add(Dropout(0.2))\n",
        "\n",
        "# hidden layer\n",
        "model.add(Dense(39, activation='relu'))\n",
        "model.add(Dropout(0.2))\n",
        "\n",
        "# hidden layer\n",
        "model.add(Dense(19, activation='relu'))\n",
        "model.add(Dropout(0.2))\n",
        "\n",
        "# output layer\n",
        "model.add(Dense(units=1,activation='sigmoid'))"
      ]
    },
    {
      "cell_type": "code",
      "execution_count": 152,
      "metadata": {
        "id": "poT14TNPBpDV"
      },
      "outputs": [],
      "source": [
        "# Compile model\n",
        "model.compile(loss='binary_crossentropy', optimizer='adam')"
      ]
    },
    {
      "cell_type": "markdown",
      "metadata": {
        "id": "F9wlxKdPRhac"
      },
      "source": [
        "**TASK: Fit the model to the training data for at least 25 epochs. Also add in the validation data for later plotting. Optional: add in a batch_size of 256.**"
      ]
    },
    {
      "cell_type": "code",
      "execution_count": 153,
      "metadata": {
        "colab": {
          "base_uri": "https://localhost:8080/"
        },
        "id": "QJpFevXERhad",
        "outputId": "97dd3ba2-adb1-419f-fbe2-417d4e103bf0"
      },
      "outputs": [
        {
          "name": "stdout",
          "output_type": "stream",
          "text": [
            "Epoch 1/25\n",
            "1236/1236 [==============================] - 11s 6ms/step - loss: 0.3027 - val_loss: 0.2695\n",
            "Epoch 2/25\n",
            "1236/1236 [==============================] - 5s 4ms/step - loss: 0.2657 - val_loss: 0.2633\n",
            "Epoch 3/25\n",
            "1236/1236 [==============================] - 5s 4ms/step - loss: 0.2631 - val_loss: 0.2625\n",
            "Epoch 4/25\n",
            "1236/1236 [==============================] - 5s 4ms/step - loss: 0.2617 - val_loss: 0.2624\n",
            "Epoch 5/25\n",
            "1236/1236 [==============================] - 5s 4ms/step - loss: 0.2610 - val_loss: 0.2621\n",
            "Epoch 6/25\n",
            "1236/1236 [==============================] - 5s 4ms/step - loss: 0.2603 - val_loss: 0.2621\n",
            "Epoch 7/25\n",
            "1236/1236 [==============================] - 5s 4ms/step - loss: 0.2601 - val_loss: 0.2616\n",
            "Epoch 8/25\n",
            "1236/1236 [==============================] - 5s 4ms/step - loss: 0.2597 - val_loss: 0.2613\n",
            "Epoch 9/25\n",
            "1236/1236 [==============================] - 5s 4ms/step - loss: 0.2592 - val_loss: 0.2620\n",
            "Epoch 10/25\n",
            "1236/1236 [==============================] - 5s 4ms/step - loss: 0.2591 - val_loss: 0.2618\n",
            "Epoch 11/25\n",
            "1236/1236 [==============================] - 5s 4ms/step - loss: 0.2589 - val_loss: 0.2615\n",
            "Epoch 12/25\n",
            "1236/1236 [==============================] - 6s 4ms/step - loss: 0.2587 - val_loss: 0.2613\n",
            "Epoch 13/25\n",
            "1236/1236 [==============================] - 5s 4ms/step - loss: 0.2584 - val_loss: 0.2610\n",
            "Epoch 14/25\n",
            "1236/1236 [==============================] - 5s 4ms/step - loss: 0.2582 - val_loss: 0.2614\n",
            "Epoch 15/25\n",
            "1236/1236 [==============================] - 5s 4ms/step - loss: 0.2579 - val_loss: 0.2617\n",
            "Epoch 16/25\n",
            "1236/1236 [==============================] - 5s 4ms/step - loss: 0.2576 - val_loss: 0.2613\n",
            "Epoch 17/25\n",
            "1236/1236 [==============================] - 6s 5ms/step - loss: 0.2573 - val_loss: 0.2611\n",
            "Epoch 18/25\n",
            "1236/1236 [==============================] - 5s 4ms/step - loss: 0.2574 - val_loss: 0.2617\n",
            "Epoch 19/25\n",
            "1236/1236 [==============================] - 6s 5ms/step - loss: 0.2571 - val_loss: 0.2612\n",
            "Epoch 20/25\n",
            "1236/1236 [==============================] - 5s 4ms/step - loss: 0.2569 - val_loss: 0.2611\n",
            "Epoch 21/25\n",
            "1236/1236 [==============================] - 5s 4ms/step - loss: 0.2570 - val_loss: 0.2611\n",
            "Epoch 22/25\n",
            "1236/1236 [==============================] - 5s 4ms/step - loss: 0.2564 - val_loss: 0.2612\n",
            "Epoch 23/25\n",
            "1236/1236 [==============================] - 5s 4ms/step - loss: 0.2566 - val_loss: 0.2612\n",
            "Epoch 24/25\n",
            "1236/1236 [==============================] - 5s 4ms/step - loss: 0.2562 - val_loss: 0.2610\n",
            "Epoch 25/25\n",
            "1236/1236 [==============================] - 7s 5ms/step - loss: 0.2561 - val_loss: 0.2615\n"
          ]
        },
        {
          "data": {
            "text/plain": [
              "<keras.callbacks.History at 0x7f71ac804b10>"
            ]
          },
          "execution_count": 153,
          "metadata": {},
          "output_type": "execute_result"
        }
      ],
      "source": [
        "model.fit(x=X_train, \n",
        "          y=y_train, \n",
        "          epochs=25,\n",
        "          batch_size=256,\n",
        "          validation_data=(X_test, y_test), \n",
        "          )"
      ]
    },
    {
      "cell_type": "markdown",
      "metadata": {
        "id": "5mJaHrhgRhad"
      },
      "source": [
        "**Save the model.**"
      ]
    },
    {
      "cell_type": "code",
      "execution_count": 154,
      "metadata": {
        "id": "t4KSDUcuRhae"
      },
      "outputs": [],
      "source": [
        "from tensorflow.keras.models import load_model"
      ]
    },
    {
      "cell_type": "code",
      "execution_count": 155,
      "metadata": {
        "id": "z1dXcPw3Rhae"
      },
      "outputs": [],
      "source": [
        "model.save('cls_model.h5')  "
      ]
    },
    {
      "cell_type": "markdown",
      "metadata": {
        "id": "xii4mpY8Rhae"
      },
      "source": [
        "# Section 3: Evaluating Model Performance.\n",
        "\n",
        "**TASK: Plot out the validation loss versus the training loss.**"
      ]
    },
    {
      "cell_type": "code",
      "execution_count": 156,
      "metadata": {
        "id": "0DW7mNzuRhae"
      },
      "outputs": [],
      "source": [
        "losses = pd.DataFrame(model.history.history)"
      ]
    },
    {
      "cell_type": "code",
      "execution_count": 160,
      "metadata": {
        "colab": {
          "base_uri": "https://localhost:8080/",
          "height": 282
        },
        "id": "LxBdj4JqRhae",
        "outputId": "1dba2da6-0fb7-46ae-fdad-273c4fb4b4fa"
      },
      "outputs": [
        {
          "data": {
            "text/plain": [
              "<AxesSubplot:>"
            ]
          },
          "execution_count": 160,
          "metadata": {},
          "output_type": "execute_result"
        },
        {
          "data": {
            "image/png": "[encoded data removed]",
            "text/plain": [
              "<Figure size 432x288 with 1 Axes>"
            ]
          },
          "metadata": {
            "needs_background": "light"
          },
          "output_type": "display_data"
        }
      ],
      "source": [
        "losses[['loss','val_loss']].plot()"
      ]
    },
    {
      "cell_type": "markdown",
      "metadata": {
        "id": "Rb0mofrVRhaf"
      },
      "source": [
        "**TASK: Create predictions from the X_test set and display a classification report and confusion matrix for the X_test set.**"
      ]
    },
    {
      "cell_type": "code",
      "execution_count": 161,
      "metadata": {
        "id": "sxobY-eTRhaf"
      },
      "outputs": [],
      "source": [
        "from sklearn.metrics import classification_report,confusion_matrix"
      ]
    },
    {
      "cell_type": "code",
      "execution_count": 164,
      "metadata": {
        "id": "EUCIPUkMRhaf"
      },
      "outputs": [],
      "source": [
        "# predictions = model.predict_classes(X_test)\n",
        "\n",
        "predictions = (model.predict(X_test) > 0.5).astype(\"int32\")"
      ]
    },
    {
      "cell_type": "code",
      "execution_count": 168,
      "metadata": {
        "colab": {
          "base_uri": "https://localhost:8080/"
        },
        "id": "d7PQ6YT4Rhaf",
        "outputId": "2239fec1-a9b5-44d2-c887-8894556009f3"
      },
      "outputs": [
        {
          "name": "stdout",
          "output_type": "stream",
          "text": [
            "              precision    recall  f1-score   support\n",
            "\n",
            "           0       0.98      0.44      0.61     15658\n",
            "           1       0.88      1.00      0.93     63386\n",
            "\n",
            "    accuracy                           0.89     79044\n",
            "   macro avg       0.93      0.72      0.77     79044\n",
            "weighted avg       0.90      0.89      0.87     79044\n",
            "\n"
          ]
        }
      ],
      "source": [
        "print(classification_report(y_test,predictions))"
      ]
    },
    {
      "cell_type": "code",
      "execution_count": 170,
      "metadata": {
        "colab": {
          "base_uri": "https://localhost:8080/"
        },
        "id": "bcs7zzw4FxeW",
        "outputId": "a33c99ef-34b2-496c-a706-84f857c32536"
      },
      "outputs": [
        {
          "data": {
            "text/plain": [
              "1    317696\n",
              "0     77523\n",
              "Name: loan_repaid, dtype: int64"
            ]
          },
          "execution_count": 170,
          "metadata": {},
          "output_type": "execute_result"
        }
      ],
      "source": [
        "df['loan_repaid'].value_counts()"
      ]
    },
    {
      "cell_type": "code",
      "execution_count": 167,
      "metadata": {
        "colab": {
          "base_uri": "https://localhost:8080/"
        },
        "id": "rXJvFOxGRhaf",
        "outputId": "7c3cc140-8ce0-48c3-b3ff-ab24a60d3e5e"
      },
      "outputs": [
        {
          "data": {
            "text/plain": [
              "array([[ 6952,  8706],\n",
              "       [  176, 63210]])"
            ]
          },
          "execution_count": 167,
          "metadata": {},
          "output_type": "execute_result"
        }
      ],
      "source": [
        "confusion_matrix(y_test,predictions)"
      ]
    },
    {
      "cell_type": "markdown",
      "metadata": {
        "id": "zssfs_gjRhaf"
      },
      "source": [
        "**TASK: Given the customer below, would you offer this person a loan?**"
      ]
    },
    {
      "cell_type": "code",
      "execution_count": 172,
      "metadata": {
        "colab": {
          "base_uri": "https://localhost:8080/"
        },
        "id": "lJgSX0p1Rhag",
        "outputId": "db29708e-28a3-4abc-95ee-6b7363fb4849"
      },
      "outputs": [
        {
          "data": {
            "text/plain": [
              "loan_amnt           25000.00\n",
              "term                   60.00\n",
              "int_rate               18.24\n",
              "installment           638.11\n",
              "annual_inc          61665.00\n",
              "                      ...   \n",
              "48052                   0.00\n",
              "70466                   0.00\n",
              "86630                   0.00\n",
              "93700                   0.00\n",
              "earliest_cr_year     1996.00\n",
              "Name: 305323, Length: 78, dtype: float64"
            ]
          },
          "execution_count": 172,
          "metadata": {},
          "output_type": "execute_result"
        }
      ],
      "source": [
        "import random\n",
        "random.seed(101)\n",
        "random_ind = random.randint(0,len(df))\n",
        "\n",
        "new_customer = df.drop('loan_repaid',axis=1).iloc[random_ind]\n",
        "new_customer"
      ]
    },
    {
      "cell_type": "code",
      "execution_count": 182,
      "metadata": {
        "colab": {
          "base_uri": "https://localhost:8080/"
        },
        "id": "q_CUxY_6Rhag",
        "outputId": "8153fc75-83f0-4d3d-da51-8710645b631c"
      },
      "outputs": [
        {
          "data": {
            "text/plain": [
              "array([[1]], dtype=int32)"
            ]
          },
          "execution_count": 182,
          "metadata": {},
          "output_type": "execute_result"
        }
      ],
      "source": [
        "predicted_customer = (model.predict(scaler.transform(new_customer.values.reshape(1,78))) > 0.5).astype(\"int32\")\n",
        "predicted_customer"
      ]
    },
    {
      "cell_type": "markdown",
      "metadata": {
        "id": "iLuIiEW6Rhag"
      },
      "source": [
        "**TASK: Now check, did this person actually end up paying back their loan?**"
      ]
    },
    {
      "cell_type": "code",
      "execution_count": 180,
      "metadata": {
        "colab": {
          "base_uri": "https://localhost:8080/"
        },
        "id": "SEwJn1HNRhag",
        "outputId": "ef5d45ae-8b78-4e97-9124-7ec7a75a70c8"
      },
      "outputs": [
        {
          "data": {
            "text/plain": [
              "1.0"
            ]
          },
          "execution_count": 180,
          "metadata": {},
          "output_type": "execute_result"
        }
      ],
      "source": [
        "df.iloc[random_ind]['loan_repaid']"
      ]
    }
  ],
  "metadata": {
    "accelerator": "GPU",
    "colab": {
      "collapsed_sections": [],
      "name": "04-Keras-Project-Exercise-Solutions.ipynb",
      "provenance": [],
      "toc_visible": true
    },
    "kernelspec": {
      "display_name": "Python 3",
      "language": "python",
      "name": "python3"
    },
    "language_info": {
      "codemirror_mode": {
        "name": "ipython",
        "version": 3
      },
      "file_extension": ".py",
      "mimetype": "text/x-python",
      "name": "python",
      "nbconvert_exporter": "python",
      "pygments_lexer": "ipython3",
      "version": "3.7.4"
    }
  },
  "nbformat": 4,
  "nbformat_minor": 0
}
